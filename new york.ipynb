{
 "cells": [
  {
   "cell_type": "code",
   "execution_count": 1,
   "metadata": {
    "collapsed": true
   },
   "outputs": [],
   "source": [
    "import pandas as pd\n",
    "import matplotlib.pyplot as plt\n",
    "import numpy as np\n",
    "import seaborn as sb\n",
    "%matplotlib inline"
   ]
  },
  {
   "cell_type": "code",
   "execution_count": 2,
   "metadata": {
    "collapsed": true
   },
   "outputs": [],
   "source": [
    "df = pd.read_csv('tax_bills_june15_bbls.csv')"
   ]
  },
  {
   "cell_type": "code",
   "execution_count": 3,
   "metadata": {
    "collapsed": false
   },
   "outputs": [
    {
     "name": "stderr",
     "output_type": "stream",
     "text": [
      "C:\\Anaconda3\\lib\\site-packages\\numpy\\lib\\function_base.py:3834: RuntimeWarning: Invalid value encountered in percentile\n",
      "  RuntimeWarning)\n"
     ]
    },
    {
     "data": {
      "text/html": [
       "<div>\n",
       "<table border=\"1\" class=\"dataframe\">\n",
       "  <thead>\n",
       "    <tr style=\"text-align: right;\">\n",
       "      <th></th>\n",
       "      <th>bbl</th>\n",
       "      <th>emv</th>\n",
       "      <th>tbea</th>\n",
       "      <th>bav</th>\n",
       "      <th>tba</th>\n",
       "      <th>propertytax</th>\n",
       "      <th>condonumber</th>\n",
       "    </tr>\n",
       "  </thead>\n",
       "  <tbody>\n",
       "    <tr>\n",
       "      <th>count</th>\n",
       "      <td>1.081624e+06</td>\n",
       "      <td>1.073473e+06</td>\n",
       "      <td>1.074509e+06</td>\n",
       "      <td>1.074509e+06</td>\n",
       "      <td>1.040176e+06</td>\n",
       "      <td>1.074509e+06</td>\n",
       "      <td>237110.000000</td>\n",
       "    </tr>\n",
       "    <tr>\n",
       "      <th>mean</th>\n",
       "      <td>3.255302e+09</td>\n",
       "      <td>1.072281e+06</td>\n",
       "      <td>3.210457e+04</td>\n",
       "      <td>2.681073e+05</td>\n",
       "      <td>2.136745e+04</td>\n",
       "      <td>2.012084e+04</td>\n",
       "      <td>973.276226</td>\n",
       "    </tr>\n",
       "    <tr>\n",
       "      <th>std</th>\n",
       "      <td>1.214484e+09</td>\n",
       "      <td>2.007340e+07</td>\n",
       "      <td>8.811361e+05</td>\n",
       "      <td>8.215277e+06</td>\n",
       "      <td>2.952722e+05</td>\n",
       "      <td>2.881755e+05</td>\n",
       "      <td>882.552609</td>\n",
       "    </tr>\n",
       "    <tr>\n",
       "      <th>min</th>\n",
       "      <td>1.000010e+09</td>\n",
       "      <td>1.000000e+01</td>\n",
       "      <td>0.000000e+00</td>\n",
       "      <td>0.000000e+00</td>\n",
       "      <td>1.000000e+00</td>\n",
       "      <td>0.000000e+00</td>\n",
       "      <td>1.000000</td>\n",
       "    </tr>\n",
       "    <tr>\n",
       "      <th>25%</th>\n",
       "      <td>3.005150e+09</td>\n",
       "      <td>NaN</td>\n",
       "      <td>NaN</td>\n",
       "      <td>NaN</td>\n",
       "      <td>NaN</td>\n",
       "      <td>NaN</td>\n",
       "      <td>NaN</td>\n",
       "    </tr>\n",
       "    <tr>\n",
       "      <th>50%</th>\n",
       "      <td>3.077450e+09</td>\n",
       "      <td>NaN</td>\n",
       "      <td>NaN</td>\n",
       "      <td>NaN</td>\n",
       "      <td>NaN</td>\n",
       "      <td>NaN</td>\n",
       "      <td>NaN</td>\n",
       "    </tr>\n",
       "    <tr>\n",
       "      <th>75%</th>\n",
       "      <td>4.090630e+09</td>\n",
       "      <td>NaN</td>\n",
       "      <td>NaN</td>\n",
       "      <td>NaN</td>\n",
       "      <td>NaN</td>\n",
       "      <td>NaN</td>\n",
       "      <td>NaN</td>\n",
       "    </tr>\n",
       "    <tr>\n",
       "      <th>max</th>\n",
       "      <td>5.080500e+09</td>\n",
       "      <td>1.457087e+10</td>\n",
       "      <td>6.281640e+08</td>\n",
       "      <td>5.879484e+09</td>\n",
       "      <td>6.733982e+07</td>\n",
       "      <td>6.733982e+07</td>\n",
       "      <td>9566.000000</td>\n",
       "    </tr>\n",
       "  </tbody>\n",
       "</table>\n",
       "</div>"
      ],
      "text/plain": [
       "                bbl           emv          tbea           bav           tba  \\\n",
       "count  1.081624e+06  1.073473e+06  1.074509e+06  1.074509e+06  1.040176e+06   \n",
       "mean   3.255302e+09  1.072281e+06  3.210457e+04  2.681073e+05  2.136745e+04   \n",
       "std    1.214484e+09  2.007340e+07  8.811361e+05  8.215277e+06  2.952722e+05   \n",
       "min    1.000010e+09  1.000000e+01  0.000000e+00  0.000000e+00  1.000000e+00   \n",
       "25%    3.005150e+09           NaN           NaN           NaN           NaN   \n",
       "50%    3.077450e+09           NaN           NaN           NaN           NaN   \n",
       "75%    4.090630e+09           NaN           NaN           NaN           NaN   \n",
       "max    5.080500e+09  1.457087e+10  6.281640e+08  5.879484e+09  6.733982e+07   \n",
       "\n",
       "        propertytax    condonumber  \n",
       "count  1.074509e+06  237110.000000  \n",
       "mean   2.012084e+04     973.276226  \n",
       "std    2.881755e+05     882.552609  \n",
       "min    0.000000e+00       1.000000  \n",
       "25%             NaN            NaN  \n",
       "50%             NaN            NaN  \n",
       "75%             NaN            NaN  \n",
       "max    6.733982e+07    9566.000000  "
      ]
     },
     "execution_count": 3,
     "metadata": {},
     "output_type": "execute_result"
    }
   ],
   "source": [
    "df.describe()"
   ]
  },
  {
   "cell_type": "code",
   "execution_count": 5,
   "metadata": {
    "collapsed": false
   },
   "outputs": [],
   "source": [
    "cols = list(df.loc[:, 'bbl':'bav'])"
   ]
  },
  {
   "cell_type": "code",
   "execution_count": 6,
   "metadata": {
    "collapsed": false
   },
   "outputs": [
    {
     "data": {
      "text/plain": [
       "True"
      ]
     },
     "execution_count": 6,
     "metadata": {},
     "output_type": "execute_result"
    }
   ],
   "source": [
    "df[cols].isnull().values.any()"
   ]
  },
  {
   "cell_type": "code",
   "execution_count": 7,
   "metadata": {
    "collapsed": true
   },
   "outputs": [],
   "source": [
    "# We dont need address and ownername as it does not provide any valuable data\n",
    "del df['address']"
   ]
  },
  {
   "cell_type": "code",
   "execution_count": 8,
   "metadata": {
    "collapsed": true
   },
   "outputs": [],
   "source": [
    "del df['ownername']"
   ]
  },
  {
   "cell_type": "code",
   "execution_count": 10,
   "metadata": {
    "collapsed": false
   },
   "outputs": [
    {
     "data": {
      "text/html": [
       "<div>\n",
       "<table border=\"1\" class=\"dataframe\">\n",
       "  <thead>\n",
       "    <tr style=\"text-align: right;\">\n",
       "      <th></th>\n",
       "      <th>bbl</th>\n",
       "      <th>taxclass</th>\n",
       "      <th>taxrate</th>\n",
       "      <th>emv</th>\n",
       "      <th>tbea</th>\n",
       "      <th>bav</th>\n",
       "      <th>tba</th>\n",
       "      <th>propertytax</th>\n",
       "      <th>condonumber</th>\n",
       "      <th>condo</th>\n",
       "    </tr>\n",
       "  </thead>\n",
       "  <tbody>\n",
       "    <tr>\n",
       "      <th>0</th>\n",
       "      <td>1000010010</td>\n",
       "      <td>4 - commercial property</td>\n",
       "      <td>10.6840%</td>\n",
       "      <td>337672000.0</td>\n",
       "      <td>15749050.0</td>\n",
       "      <td>147407802.0</td>\n",
       "      <td>NaN</td>\n",
       "      <td>0.0</td>\n",
       "      <td>NaN</td>\n",
       "      <td>NaN</td>\n",
       "    </tr>\n",
       "    <tr>\n",
       "      <th>1</th>\n",
       "      <td>1000010101</td>\n",
       "      <td>4 - commercial property</td>\n",
       "      <td>10.6840%</td>\n",
       "      <td>25607000.0</td>\n",
       "      <td>1106496.0</td>\n",
       "      <td>10356570.0</td>\n",
       "      <td>NaN</td>\n",
       "      <td>0.0</td>\n",
       "      <td>NaN</td>\n",
       "      <td>NaN</td>\n",
       "    </tr>\n",
       "    <tr>\n",
       "      <th>2</th>\n",
       "      <td>1000010201</td>\n",
       "      <td>4 - commercial property</td>\n",
       "      <td>10.6840%</td>\n",
       "      <td>233982000.0</td>\n",
       "      <td>10366655.0</td>\n",
       "      <td>97029720.0</td>\n",
       "      <td>NaN</td>\n",
       "      <td>0.0</td>\n",
       "      <td>NaN</td>\n",
       "      <td>NaN</td>\n",
       "    </tr>\n",
       "    <tr>\n",
       "      <th>3</th>\n",
       "      <td>1000020001</td>\n",
       "      <td>4 - commercial property</td>\n",
       "      <td>10.6840%</td>\n",
       "      <td>69458000.0</td>\n",
       "      <td>3163690.0</td>\n",
       "      <td>29611473.0</td>\n",
       "      <td>NaN</td>\n",
       "      <td>0.0</td>\n",
       "      <td>NaN</td>\n",
       "      <td>NaN</td>\n",
       "    </tr>\n",
       "    <tr>\n",
       "      <th>4</th>\n",
       "      <td>1000020002</td>\n",
       "      <td>4 - commercial property</td>\n",
       "      <td>10.6840%</td>\n",
       "      <td>55592000.0</td>\n",
       "      <td>2672762.0</td>\n",
       "      <td>25016491.0</td>\n",
       "      <td>654246.0</td>\n",
       "      <td>654246.0</td>\n",
       "      <td>NaN</td>\n",
       "      <td>NaN</td>\n",
       "    </tr>\n",
       "  </tbody>\n",
       "</table>\n",
       "</div>"
      ],
      "text/plain": [
       "          bbl                 taxclass   taxrate          emv        tbea  \\\n",
       "0  1000010010  4 - commercial property  10.6840%  337672000.0  15749050.0   \n",
       "1  1000010101  4 - commercial property  10.6840%   25607000.0   1106496.0   \n",
       "2  1000010201  4 - commercial property  10.6840%  233982000.0  10366655.0   \n",
       "3  1000020001  4 - commercial property  10.6840%   69458000.0   3163690.0   \n",
       "4  1000020002  4 - commercial property  10.6840%   55592000.0   2672762.0   \n",
       "\n",
       "           bav       tba  propertytax  condonumber condo  \n",
       "0  147407802.0       NaN          0.0          NaN   NaN  \n",
       "1   10356570.0       NaN          0.0          NaN   NaN  \n",
       "2   97029720.0       NaN          0.0          NaN   NaN  \n",
       "3   29611473.0       NaN          0.0          NaN   NaN  \n",
       "4   25016491.0  654246.0     654246.0          NaN   NaN  "
      ]
     },
     "execution_count": 10,
     "metadata": {},
     "output_type": "execute_result"
    }
   ],
   "source": [
    "df.head()"
   ]
  },
  {
   "cell_type": "code",
   "execution_count": 11,
   "metadata": {
    "collapsed": false
   },
   "outputs": [
    {
     "data": {
      "text/plain": [
       "array(['4 - commercial property', nan,\n",
       "       '2a - 4-6 unit residential building',\n",
       "       ' 2 - residential, more than 10 units',\n",
       "       ' 2c - co-op or condo, less than 11 units',\n",
       "       '2b - 7-10 unit residential building',\n",
       "       ' 1 - small home, less than 4 families', '3 - utility property',\n",
       "       '1c - condo in 1-3 unit building',\n",
       "       '1a - condo unit in 1-3 story building',\n",
       "       ' 1b - vacant land, zoned residential', '1d - bungalow colony'], dtype=object)"
      ]
     },
     "execution_count": 11,
     "metadata": {},
     "output_type": "execute_result"
    }
   ],
   "source": [
    "df['taxclass'].unique()"
   ]
  },
  {
   "cell_type": "code",
   "execution_count": 12,
   "metadata": {
    "collapsed": false
   },
   "outputs": [],
   "source": [
    "#Breaking BBL into individual columns for Borough(first digit), block(next 5 digits) and lot(next 4 digits)\n",
    "df['bbl'] = df['bbl'].apply(lambda f: str(f))"
   ]
  },
  {
   "cell_type": "code",
   "execution_count": 13,
   "metadata": {
    "collapsed": false
   },
   "outputs": [],
   "source": [
    "df['borough'] = df['bbl'].apply(lambda f: int(f[0]))"
   ]
  },
  {
   "cell_type": "code",
   "execution_count": 14,
   "metadata": {
    "collapsed": true
   },
   "outputs": [],
   "source": [
    "df['block'] = df['bbl'].apply(lambda f: int(f[1:6]))"
   ]
  },
  {
   "cell_type": "code",
   "execution_count": 15,
   "metadata": {
    "collapsed": true
   },
   "outputs": [],
   "source": [
    "df['lot'] = df['bbl'].apply(lambda f: int(f[-4:]))"
   ]
  },
  {
   "cell_type": "code",
   "execution_count": 16,
   "metadata": {
    "collapsed": true
   },
   "outputs": [],
   "source": [
    "del df['bbl']"
   ]
  },
  {
   "cell_type": "code",
   "execution_count": 17,
   "metadata": {
    "collapsed": false
   },
   "outputs": [
    {
     "data": {
      "text/plain": [
       "taxclass        object\n",
       "taxrate         object\n",
       "emv            float64\n",
       "tbea           float64\n",
       "bav            float64\n",
       "tba            float64\n",
       "propertytax    float64\n",
       "condonumber    float64\n",
       "condo           object\n",
       "borough          int64\n",
       "block            int64\n",
       "lot              int64\n",
       "dtype: object"
      ]
     },
     "execution_count": 17,
     "metadata": {},
     "output_type": "execute_result"
    }
   ],
   "source": [
    "df.dtypes"
   ]
  },
  {
   "cell_type": "code",
   "execution_count": 18,
   "metadata": {
    "collapsed": false
   },
   "outputs": [
    {
     "data": {
      "text/plain": [
       "array(['10.6840%', nan, '12.8550%', '19.1570%', '11.1250%'], dtype=object)"
      ]
     },
     "execution_count": 18,
     "metadata": {},
     "output_type": "execute_result"
    }
   ],
   "source": [
    "df['taxrate'].unique()"
   ]
  },
  {
   "cell_type": "code",
   "execution_count": 19,
   "metadata": {
    "collapsed": false
   },
   "outputs": [
    {
     "data": {
      "text/plain": [
       "array(['lot', nan, 'unit'], dtype=object)"
      ]
     },
     "execution_count": 19,
     "metadata": {},
     "output_type": "execute_result"
    }
   ],
   "source": [
    "df[df['taxrate'].isnull() == True]['condo'].unique()"
   ]
  },
  {
   "cell_type": "code",
   "execution_count": 20,
   "metadata": {
    "collapsed": false
   },
   "outputs": [
    {
     "data": {
      "text/html": [
       "<div>\n",
       "<table border=\"1\" class=\"dataframe\">\n",
       "  <thead>\n",
       "    <tr style=\"text-align: right;\">\n",
       "      <th></th>\n",
       "      <th>taxclass</th>\n",
       "      <th>taxrate</th>\n",
       "      <th>emv</th>\n",
       "      <th>tbea</th>\n",
       "      <th>bav</th>\n",
       "      <th>tba</th>\n",
       "      <th>propertytax</th>\n",
       "      <th>condonumber</th>\n",
       "      <th>condo</th>\n",
       "      <th>borough</th>\n",
       "      <th>block</th>\n",
       "      <th>lot</th>\n",
       "    </tr>\n",
       "  </thead>\n",
       "  <tbody>\n",
       "    <tr>\n",
       "      <th>91</th>\n",
       "      <td>NaN</td>\n",
       "      <td>NaN</td>\n",
       "      <td>NaN</td>\n",
       "      <td>NaN</td>\n",
       "      <td>NaN</td>\n",
       "      <td>NaN</td>\n",
       "      <td>NaN</td>\n",
       "      <td>NaN</td>\n",
       "      <td>NaN</td>\n",
       "      <td>1</td>\n",
       "      <td>8</td>\n",
       "      <td>44</td>\n",
       "    </tr>\n",
       "    <tr>\n",
       "      <th>1672</th>\n",
       "      <td>NaN</td>\n",
       "      <td>NaN</td>\n",
       "      <td>NaN</td>\n",
       "      <td>NaN</td>\n",
       "      <td>NaN</td>\n",
       "      <td>NaN</td>\n",
       "      <td>NaN</td>\n",
       "      <td>NaN</td>\n",
       "      <td>NaN</td>\n",
       "      <td>1</td>\n",
       "      <td>407</td>\n",
       "      <td>13</td>\n",
       "    </tr>\n",
       "    <tr>\n",
       "      <th>1712</th>\n",
       "      <td>NaN</td>\n",
       "      <td>NaN</td>\n",
       "      <td>NaN</td>\n",
       "      <td>NaN</td>\n",
       "      <td>NaN</td>\n",
       "      <td>NaN</td>\n",
       "      <td>NaN</td>\n",
       "      <td>NaN</td>\n",
       "      <td>NaN</td>\n",
       "      <td>1</td>\n",
       "      <td>407</td>\n",
       "      <td>14</td>\n",
       "    </tr>\n",
       "    <tr>\n",
       "      <th>1941</th>\n",
       "      <td>NaN</td>\n",
       "      <td>NaN</td>\n",
       "      <td>NaN</td>\n",
       "      <td>NaN</td>\n",
       "      <td>NaN</td>\n",
       "      <td>NaN</td>\n",
       "      <td>NaN</td>\n",
       "      <td>NaN</td>\n",
       "      <td>NaN</td>\n",
       "      <td>1</td>\n",
       "      <td>407</td>\n",
       "      <td>16</td>\n",
       "    </tr>\n",
       "    <tr>\n",
       "      <th>6862</th>\n",
       "      <td>NaN</td>\n",
       "      <td>NaN</td>\n",
       "      <td>NaN</td>\n",
       "      <td>NaN</td>\n",
       "      <td>NaN</td>\n",
       "      <td>NaN</td>\n",
       "      <td>NaN</td>\n",
       "      <td>NaN</td>\n",
       "      <td>NaN</td>\n",
       "      <td>1</td>\n",
       "      <td>63</td>\n",
       "      <td>13</td>\n",
       "    </tr>\n",
       "  </tbody>\n",
       "</table>\n",
       "</div>"
      ],
      "text/plain": [
       "     taxclass taxrate  emv  tbea  bav  tba  propertytax  condonumber condo  \\\n",
       "91        NaN     NaN  NaN   NaN  NaN  NaN          NaN          NaN   NaN   \n",
       "1672      NaN     NaN  NaN   NaN  NaN  NaN          NaN          NaN   NaN   \n",
       "1712      NaN     NaN  NaN   NaN  NaN  NaN          NaN          NaN   NaN   \n",
       "1941      NaN     NaN  NaN   NaN  NaN  NaN          NaN          NaN   NaN   \n",
       "6862      NaN     NaN  NaN   NaN  NaN  NaN          NaN          NaN   NaN   \n",
       "\n",
       "      borough  block  lot  \n",
       "91          1      8   44  \n",
       "1672        1    407   13  \n",
       "1712        1    407   14  \n",
       "1941        1    407   16  \n",
       "6862        1     63   13  "
      ]
     },
     "execution_count": 20,
     "metadata": {},
     "output_type": "execute_result"
    }
   ],
   "source": [
    "#the entries with no tax and no condo number are public places\n",
    "#aside from the public places, the entries which have no property tax but not null condo numbers are vacant lots\n",
    "#Separating the public places\n",
    "df[(df['taxrate'].isnull() == True) & (df['condo'].isnull() == True)].head()"
   ]
  },
  {
   "cell_type": "code",
   "execution_count": 21,
   "metadata": {
    "collapsed": false
   },
   "outputs": [
    {
     "name": "stderr",
     "output_type": "stream",
     "text": [
      "C:\\Anaconda3\\lib\\site-packages\\numpy\\lib\\function_base.py:3834: RuntimeWarning: Invalid value encountered in percentile\n",
      "  RuntimeWarning)\n"
     ]
    },
    {
     "data": {
      "text/html": [
       "<div>\n",
       "<table border=\"1\" class=\"dataframe\">\n",
       "  <thead>\n",
       "    <tr style=\"text-align: right;\">\n",
       "      <th></th>\n",
       "      <th>emv</th>\n",
       "      <th>tbea</th>\n",
       "      <th>bav</th>\n",
       "      <th>tba</th>\n",
       "      <th>propertytax</th>\n",
       "      <th>condonumber</th>\n",
       "      <th>borough</th>\n",
       "      <th>block</th>\n",
       "      <th>lot</th>\n",
       "    </tr>\n",
       "  </thead>\n",
       "  <tbody>\n",
       "    <tr>\n",
       "      <th>count</th>\n",
       "      <td>0.0</td>\n",
       "      <td>1.027000e+03</td>\n",
       "      <td>1.027000e+03</td>\n",
       "      <td>1.027000e+03</td>\n",
       "      <td>1.027000e+03</td>\n",
       "      <td>0.0</td>\n",
       "      <td>2015.000000</td>\n",
       "      <td>2015.000000</td>\n",
       "      <td>2015.000000</td>\n",
       "    </tr>\n",
       "    <tr>\n",
       "      <th>mean</th>\n",
       "      <td>NaN</td>\n",
       "      <td>1.725528e+05</td>\n",
       "      <td>1.725528e+05</td>\n",
       "      <td>1.725528e+05</td>\n",
       "      <td>1.618750e+05</td>\n",
       "      <td>NaN</td>\n",
       "      <td>2.494293</td>\n",
       "      <td>3207.454591</td>\n",
       "      <td>71.389578</td>\n",
       "    </tr>\n",
       "    <tr>\n",
       "      <th>std</th>\n",
       "      <td>NaN</td>\n",
       "      <td>3.831254e+05</td>\n",
       "      <td>3.831254e+05</td>\n",
       "      <td>3.831254e+05</td>\n",
       "      <td>3.209656e+05</td>\n",
       "      <td>NaN</td>\n",
       "      <td>1.098361</td>\n",
       "      <td>2987.212608</td>\n",
       "      <td>495.528682</td>\n",
       "    </tr>\n",
       "    <tr>\n",
       "      <th>min</th>\n",
       "      <td>NaN</td>\n",
       "      <td>8.000000e+00</td>\n",
       "      <td>8.000000e+00</td>\n",
       "      <td>8.000000e+00</td>\n",
       "      <td>8.000000e+00</td>\n",
       "      <td>NaN</td>\n",
       "      <td>1.000000</td>\n",
       "      <td>1.000000</td>\n",
       "      <td>1.000000</td>\n",
       "    </tr>\n",
       "    <tr>\n",
       "      <th>25%</th>\n",
       "      <td>NaN</td>\n",
       "      <td>NaN</td>\n",
       "      <td>NaN</td>\n",
       "      <td>NaN</td>\n",
       "      <td>NaN</td>\n",
       "      <td>NaN</td>\n",
       "      <td>2.000000</td>\n",
       "      <td>1440.500000</td>\n",
       "      <td>9.000000</td>\n",
       "    </tr>\n",
       "    <tr>\n",
       "      <th>50%</th>\n",
       "      <td>NaN</td>\n",
       "      <td>NaN</td>\n",
       "      <td>NaN</td>\n",
       "      <td>NaN</td>\n",
       "      <td>NaN</td>\n",
       "      <td>NaN</td>\n",
       "      <td>3.000000</td>\n",
       "      <td>2408.000000</td>\n",
       "      <td>27.000000</td>\n",
       "    </tr>\n",
       "    <tr>\n",
       "      <th>75%</th>\n",
       "      <td>NaN</td>\n",
       "      <td>NaN</td>\n",
       "      <td>NaN</td>\n",
       "      <td>NaN</td>\n",
       "      <td>NaN</td>\n",
       "      <td>NaN</td>\n",
       "      <td>3.000000</td>\n",
       "      <td>3638.000000</td>\n",
       "      <td>52.000000</td>\n",
       "    </tr>\n",
       "    <tr>\n",
       "      <th>max</th>\n",
       "      <td>NaN</td>\n",
       "      <td>7.330609e+06</td>\n",
       "      <td>7.330609e+06</td>\n",
       "      <td>7.330609e+06</td>\n",
       "      <td>5.375914e+06</td>\n",
       "      <td>NaN</td>\n",
       "      <td>5.000000</td>\n",
       "      <td>16234.000000</td>\n",
       "      <td>9080.000000</td>\n",
       "    </tr>\n",
       "  </tbody>\n",
       "</table>\n",
       "</div>"
      ],
      "text/plain": [
       "       emv          tbea           bav           tba   propertytax  \\\n",
       "count  0.0  1.027000e+03  1.027000e+03  1.027000e+03  1.027000e+03   \n",
       "mean   NaN  1.725528e+05  1.725528e+05  1.725528e+05  1.618750e+05   \n",
       "std    NaN  3.831254e+05  3.831254e+05  3.831254e+05  3.209656e+05   \n",
       "min    NaN  8.000000e+00  8.000000e+00  8.000000e+00  8.000000e+00   \n",
       "25%    NaN           NaN           NaN           NaN           NaN   \n",
       "50%    NaN           NaN           NaN           NaN           NaN   \n",
       "75%    NaN           NaN           NaN           NaN           NaN   \n",
       "max    NaN  7.330609e+06  7.330609e+06  7.330609e+06  5.375914e+06   \n",
       "\n",
       "       condonumber      borough         block          lot  \n",
       "count          0.0  2015.000000   2015.000000  2015.000000  \n",
       "mean           NaN     2.494293   3207.454591    71.389578  \n",
       "std            NaN     1.098361   2987.212608   495.528682  \n",
       "min            NaN     1.000000      1.000000     1.000000  \n",
       "25%            NaN     2.000000   1440.500000     9.000000  \n",
       "50%            NaN     3.000000   2408.000000    27.000000  \n",
       "75%            NaN     3.000000   3638.000000    52.000000  \n",
       "max            NaN     5.000000  16234.000000  9080.000000  "
      ]
     },
     "execution_count": 21,
     "metadata": {},
     "output_type": "execute_result"
    }
   ],
   "source": [
    "df[(df['taxrate'].isnull() == True) & (df['condo'].isnull() == True)].describe()"
   ]
  },
  {
   "cell_type": "code",
   "execution_count": 22,
   "metadata": {
    "collapsed": true
   },
   "outputs": [],
   "source": [
    "df['borough'] = df['borough'].map({1:'Manhattan/new york', 2:'bronx/bronx', 3:'Brooklyn/kings', 4:'queens/queens', 5:'staten/richmond'})"
   ]
  },
  {
   "cell_type": "code",
   "execution_count": 23,
   "metadata": {
    "collapsed": false
   },
   "outputs": [
    {
     "data": {
      "text/plain": [
       "array(['Manhattan/new york', 'bronx/bronx', 'Brooklyn/kings',\n",
       "       'queens/queens', 'staten/richmond'], dtype=object)"
      ]
     },
     "execution_count": 23,
     "metadata": {},
     "output_type": "execute_result"
    }
   ],
   "source": [
    "df['borough'].unique()"
   ]
  },
  {
   "cell_type": "code",
   "execution_count": 24,
   "metadata": {
    "collapsed": true
   },
   "outputs": [],
   "source": [
    "df_vacant = df[(df['taxrate'].isnull() == True) & (df['condo'].isnull() == True)]"
   ]
  },
  {
   "cell_type": "code",
   "execution_count": 25,
   "metadata": {
    "collapsed": true
   },
   "outputs": [],
   "source": [
    "df_public = df_vacant[df_vacant['propertytax'].isnull() == True]"
   ]
  },
  {
   "cell_type": "code",
   "execution_count": 26,
   "metadata": {
    "collapsed": false
   },
   "outputs": [
    {
     "data": {
      "text/html": [
       "<div>\n",
       "<table border=\"1\" class=\"dataframe\">\n",
       "  <thead>\n",
       "    <tr style=\"text-align: right;\">\n",
       "      <th></th>\n",
       "      <th>taxclass</th>\n",
       "      <th>taxrate</th>\n",
       "      <th>emv</th>\n",
       "      <th>tbea</th>\n",
       "      <th>bav</th>\n",
       "      <th>tba</th>\n",
       "      <th>propertytax</th>\n",
       "      <th>condonumber</th>\n",
       "      <th>condo</th>\n",
       "      <th>borough</th>\n",
       "      <th>block</th>\n",
       "      <th>lot</th>\n",
       "    </tr>\n",
       "  </thead>\n",
       "  <tbody>\n",
       "    <tr>\n",
       "      <th>91</th>\n",
       "      <td>NaN</td>\n",
       "      <td>NaN</td>\n",
       "      <td>NaN</td>\n",
       "      <td>NaN</td>\n",
       "      <td>NaN</td>\n",
       "      <td>NaN</td>\n",
       "      <td>NaN</td>\n",
       "      <td>NaN</td>\n",
       "      <td>NaN</td>\n",
       "      <td>Manhattan/new york</td>\n",
       "      <td>8</td>\n",
       "      <td>44</td>\n",
       "    </tr>\n",
       "    <tr>\n",
       "      <th>1672</th>\n",
       "      <td>NaN</td>\n",
       "      <td>NaN</td>\n",
       "      <td>NaN</td>\n",
       "      <td>NaN</td>\n",
       "      <td>NaN</td>\n",
       "      <td>NaN</td>\n",
       "      <td>NaN</td>\n",
       "      <td>NaN</td>\n",
       "      <td>NaN</td>\n",
       "      <td>Manhattan/new york</td>\n",
       "      <td>407</td>\n",
       "      <td>13</td>\n",
       "    </tr>\n",
       "    <tr>\n",
       "      <th>1712</th>\n",
       "      <td>NaN</td>\n",
       "      <td>NaN</td>\n",
       "      <td>NaN</td>\n",
       "      <td>NaN</td>\n",
       "      <td>NaN</td>\n",
       "      <td>NaN</td>\n",
       "      <td>NaN</td>\n",
       "      <td>NaN</td>\n",
       "      <td>NaN</td>\n",
       "      <td>Manhattan/new york</td>\n",
       "      <td>407</td>\n",
       "      <td>14</td>\n",
       "    </tr>\n",
       "    <tr>\n",
       "      <th>1941</th>\n",
       "      <td>NaN</td>\n",
       "      <td>NaN</td>\n",
       "      <td>NaN</td>\n",
       "      <td>NaN</td>\n",
       "      <td>NaN</td>\n",
       "      <td>NaN</td>\n",
       "      <td>NaN</td>\n",
       "      <td>NaN</td>\n",
       "      <td>NaN</td>\n",
       "      <td>Manhattan/new york</td>\n",
       "      <td>407</td>\n",
       "      <td>16</td>\n",
       "    </tr>\n",
       "    <tr>\n",
       "      <th>6862</th>\n",
       "      <td>NaN</td>\n",
       "      <td>NaN</td>\n",
       "      <td>NaN</td>\n",
       "      <td>NaN</td>\n",
       "      <td>NaN</td>\n",
       "      <td>NaN</td>\n",
       "      <td>NaN</td>\n",
       "      <td>NaN</td>\n",
       "      <td>NaN</td>\n",
       "      <td>Manhattan/new york</td>\n",
       "      <td>63</td>\n",
       "      <td>13</td>\n",
       "    </tr>\n",
       "  </tbody>\n",
       "</table>\n",
       "</div>"
      ],
      "text/plain": [
       "     taxclass taxrate  emv  tbea  bav  tba  propertytax  condonumber condo  \\\n",
       "91        NaN     NaN  NaN   NaN  NaN  NaN          NaN          NaN   NaN   \n",
       "1672      NaN     NaN  NaN   NaN  NaN  NaN          NaN          NaN   NaN   \n",
       "1712      NaN     NaN  NaN   NaN  NaN  NaN          NaN          NaN   NaN   \n",
       "1941      NaN     NaN  NaN   NaN  NaN  NaN          NaN          NaN   NaN   \n",
       "6862      NaN     NaN  NaN   NaN  NaN  NaN          NaN          NaN   NaN   \n",
       "\n",
       "                 borough  block  lot  \n",
       "91    Manhattan/new york      8   44  \n",
       "1672  Manhattan/new york    407   13  \n",
       "1712  Manhattan/new york    407   14  \n",
       "1941  Manhattan/new york    407   16  \n",
       "6862  Manhattan/new york     63   13  "
      ]
     },
     "execution_count": 26,
     "metadata": {},
     "output_type": "execute_result"
    }
   ],
   "source": [
    "df_vacant.head()"
   ]
  },
  {
   "cell_type": "code",
   "execution_count": 28,
   "metadata": {
    "collapsed": false
   },
   "outputs": [
    {
     "data": {
      "text/plain": [
       "array(['4 - commercial property', '2a - 4-6 unit residential building',\n",
       "       '2b - 7-10 unit residential building',\n",
       "       ' 2 - residential, more than 10 units',\n",
       "       ' 1 - small home, less than 4 families',\n",
       "       ' 2c - co-op or condo, less than 11 units', '3 - utility property',\n",
       "       '1c - condo in 1-3 unit building',\n",
       "       ' 1b - vacant land, zoned residential', '1d - bungalow colony'], dtype=object)"
      ]
     },
     "execution_count": 28,
     "metadata": {},
     "output_type": "execute_result"
    }
   ],
   "source": [
    "df[(df['taxclass'].isnull() == False) & (df['condonumber'].isnull() == True)]['taxclass'].unique()"
   ]
  },
  {
   "cell_type": "code",
   "execution_count": 29,
   "metadata": {
    "collapsed": false
   },
   "outputs": [
    {
     "data": {
      "text/plain": [
       "array(['4 - commercial property', nan,\n",
       "       '2a - 4-6 unit residential building',\n",
       "       ' 2 - residential, more than 10 units',\n",
       "       ' 2c - co-op or condo, less than 11 units',\n",
       "       '2b - 7-10 unit residential building',\n",
       "       ' 1 - small home, less than 4 families', '3 - utility property',\n",
       "       '1c - condo in 1-3 unit building',\n",
       "       '1a - condo unit in 1-3 story building',\n",
       "       ' 1b - vacant land, zoned residential', '1d - bungalow colony'], dtype=object)"
      ]
     },
     "execution_count": 29,
     "metadata": {},
     "output_type": "execute_result"
    }
   ],
   "source": [
    "df['taxclass'].unique()"
   ]
  },
  {
   "cell_type": "code",
   "execution_count": 30,
   "metadata": {
    "collapsed": false
   },
   "outputs": [
    {
     "data": {
      "text/plain": [
       "array(['4 - commercial property', nan,\n",
       "       ' 2 - residential, more than 10 units',\n",
       "       ' 2c - co-op or condo, less than 11 units',\n",
       "       '1c - condo in 1-3 unit building',\n",
       "       '1a - condo unit in 1-3 story building',\n",
       "       ' 1 - small home, less than 4 families',\n",
       "       ' 1b - vacant land, zoned residential',\n",
       "       '2a - 4-6 unit residential building',\n",
       "       '2b - 7-10 unit residential building'], dtype=object)"
      ]
     },
     "execution_count": 30,
     "metadata": {},
     "output_type": "execute_result"
    }
   ],
   "source": [
    "df[df['condo'].isnull() == False]['taxclass'].unique()"
   ]
  },
  {
   "cell_type": "code",
   "execution_count": 31,
   "metadata": {
    "collapsed": false
   },
   "outputs": [
    {
     "data": {
      "text/plain": [
       "array([nan], dtype=object)"
      ]
     },
     "execution_count": 31,
     "metadata": {},
     "output_type": "execute_result"
    }
   ],
   "source": [
    "df[df['condo'] == 'lot']['taxclass'].unique()"
   ]
  },
  {
   "cell_type": "code",
   "execution_count": 32,
   "metadata": {
    "collapsed": false
   },
   "outputs": [
    {
     "data": {
      "text/plain": [
       "array(['4 - commercial property', ' 2 - residential, more than 10 units',\n",
       "       ' 2c - co-op or condo, less than 11 units', nan,\n",
       "       '1c - condo in 1-3 unit building',\n",
       "       '1a - condo unit in 1-3 story building',\n",
       "       ' 1 - small home, less than 4 families',\n",
       "       ' 1b - vacant land, zoned residential',\n",
       "       '2a - 4-6 unit residential building',\n",
       "       '2b - 7-10 unit residential building'], dtype=object)"
      ]
     },
     "execution_count": 32,
     "metadata": {},
     "output_type": "execute_result"
    }
   ],
   "source": [
    "df[df['condo'] == 'unit']['taxclass'].unique()"
   ]
  },
  {
   "cell_type": "code",
   "execution_count": 33,
   "metadata": {
    "collapsed": false
   },
   "outputs": [
    {
     "data": {
      "text/plain": [
       "array([ nan])"
      ]
     },
     "execution_count": 33,
     "metadata": {},
     "output_type": "execute_result"
    }
   ],
   "source": [
    "df[df['condo'] == 'lot']['propertytax'].unique()"
   ]
  },
  {
   "cell_type": "code",
   "execution_count": 34,
   "metadata": {
    "collapsed": false
   },
   "outputs": [
    {
     "name": "stderr",
     "output_type": "stream",
     "text": [
      "C:\\Anaconda3\\lib\\site-packages\\numpy\\lib\\function_base.py:3834: RuntimeWarning: Invalid value encountered in percentile\n",
      "  RuntimeWarning)\n"
     ]
    },
    {
     "data": {
      "text/html": [
       "<div>\n",
       "<table border=\"1\" class=\"dataframe\">\n",
       "  <thead>\n",
       "    <tr style=\"text-align: right;\">\n",
       "      <th></th>\n",
       "      <th>emv</th>\n",
       "      <th>tbea</th>\n",
       "      <th>bav</th>\n",
       "      <th>tba</th>\n",
       "      <th>propertytax</th>\n",
       "      <th>condonumber</th>\n",
       "      <th>block</th>\n",
       "      <th>lot</th>\n",
       "    </tr>\n",
       "  </thead>\n",
       "  <tbody>\n",
       "    <tr>\n",
       "      <th>count</th>\n",
       "      <td>0.0</td>\n",
       "      <td>0.0</td>\n",
       "      <td>0.0</td>\n",
       "      <td>0.0</td>\n",
       "      <td>0.0</td>\n",
       "      <td>0.0</td>\n",
       "      <td>988.000000</td>\n",
       "      <td>988.000000</td>\n",
       "    </tr>\n",
       "    <tr>\n",
       "      <th>mean</th>\n",
       "      <td>NaN</td>\n",
       "      <td>NaN</td>\n",
       "      <td>NaN</td>\n",
       "      <td>NaN</td>\n",
       "      <td>NaN</td>\n",
       "      <td>NaN</td>\n",
       "      <td>3566.742915</td>\n",
       "      <td>63.211538</td>\n",
       "    </tr>\n",
       "    <tr>\n",
       "      <th>std</th>\n",
       "      <td>NaN</td>\n",
       "      <td>NaN</td>\n",
       "      <td>NaN</td>\n",
       "      <td>NaN</td>\n",
       "      <td>NaN</td>\n",
       "      <td>NaN</td>\n",
       "      <td>3444.556997</td>\n",
       "      <td>410.149713</td>\n",
       "    </tr>\n",
       "    <tr>\n",
       "      <th>min</th>\n",
       "      <td>NaN</td>\n",
       "      <td>NaN</td>\n",
       "      <td>NaN</td>\n",
       "      <td>NaN</td>\n",
       "      <td>NaN</td>\n",
       "      <td>NaN</td>\n",
       "      <td>1.000000</td>\n",
       "      <td>1.000000</td>\n",
       "    </tr>\n",
       "    <tr>\n",
       "      <th>25%</th>\n",
       "      <td>NaN</td>\n",
       "      <td>NaN</td>\n",
       "      <td>NaN</td>\n",
       "      <td>NaN</td>\n",
       "      <td>NaN</td>\n",
       "      <td>NaN</td>\n",
       "      <td>1133.500000</td>\n",
       "      <td>13.000000</td>\n",
       "    </tr>\n",
       "    <tr>\n",
       "      <th>50%</th>\n",
       "      <td>NaN</td>\n",
       "      <td>NaN</td>\n",
       "      <td>NaN</td>\n",
       "      <td>NaN</td>\n",
       "      <td>NaN</td>\n",
       "      <td>NaN</td>\n",
       "      <td>2390.000000</td>\n",
       "      <td>29.000000</td>\n",
       "    </tr>\n",
       "    <tr>\n",
       "      <th>75%</th>\n",
       "      <td>NaN</td>\n",
       "      <td>NaN</td>\n",
       "      <td>NaN</td>\n",
       "      <td>NaN</td>\n",
       "      <td>NaN</td>\n",
       "      <td>NaN</td>\n",
       "      <td>5098.750000</td>\n",
       "      <td>53.000000</td>\n",
       "    </tr>\n",
       "    <tr>\n",
       "      <th>max</th>\n",
       "      <td>NaN</td>\n",
       "      <td>NaN</td>\n",
       "      <td>NaN</td>\n",
       "      <td>NaN</td>\n",
       "      <td>NaN</td>\n",
       "      <td>NaN</td>\n",
       "      <td>16234.000000</td>\n",
       "      <td>9060.000000</td>\n",
       "    </tr>\n",
       "  </tbody>\n",
       "</table>\n",
       "</div>"
      ],
      "text/plain": [
       "       emv  tbea  bav  tba  propertytax  condonumber         block  \\\n",
       "count  0.0   0.0  0.0  0.0          0.0          0.0    988.000000   \n",
       "mean   NaN   NaN  NaN  NaN          NaN          NaN   3566.742915   \n",
       "std    NaN   NaN  NaN  NaN          NaN          NaN   3444.556997   \n",
       "min    NaN   NaN  NaN  NaN          NaN          NaN      1.000000   \n",
       "25%    NaN   NaN  NaN  NaN          NaN          NaN   1133.500000   \n",
       "50%    NaN   NaN  NaN  NaN          NaN          NaN   2390.000000   \n",
       "75%    NaN   NaN  NaN  NaN          NaN          NaN   5098.750000   \n",
       "max    NaN   NaN  NaN  NaN          NaN          NaN  16234.000000   \n",
       "\n",
       "               lot  \n",
       "count   988.000000  \n",
       "mean     63.211538  \n",
       "std     410.149713  \n",
       "min       1.000000  \n",
       "25%      13.000000  \n",
       "50%      29.000000  \n",
       "75%      53.000000  \n",
       "max    9060.000000  "
      ]
     },
     "execution_count": 34,
     "metadata": {},
     "output_type": "execute_result"
    }
   ],
   "source": [
    "df_public.describe()"
   ]
  },
  {
   "cell_type": "code",
   "execution_count": 36,
   "metadata": {
    "collapsed": true
   },
   "outputs": [],
   "source": [
    "vacant_group_borough = df_vacant.groupby(df_vacant['borough'])"
   ]
  },
  {
   "cell_type": "code",
   "execution_count": 37,
   "metadata": {
    "collapsed": false
   },
   "outputs": [
    {
     "data": {
      "text/plain": [
       "<pandas.core.groupby.DataFrameGroupBy object at 0x000000011A5416D8>"
      ]
     },
     "execution_count": 37,
     "metadata": {},
     "output_type": "execute_result"
    }
   ],
   "source": [
    "vacant_group_borough"
   ]
  },
  {
   "cell_type": "code",
   "execution_count": 38,
   "metadata": {
    "collapsed": false
   },
   "outputs": [
    {
     "name": "stderr",
     "output_type": "stream",
     "text": [
      "C:\\Anaconda3\\lib\\site-packages\\numpy\\lib\\function_base.py:3834: RuntimeWarning: Invalid value encountered in percentile\n",
      "  RuntimeWarning)\n"
     ]
    },
    {
     "data": {
      "text/html": [
       "<div>\n",
       "<table border=\"1\" class=\"dataframe\">\n",
       "  <thead>\n",
       "    <tr style=\"text-align: right;\">\n",
       "      <th></th>\n",
       "      <th></th>\n",
       "      <th>emv</th>\n",
       "      <th>tbea</th>\n",
       "      <th>bav</th>\n",
       "      <th>tba</th>\n",
       "      <th>propertytax</th>\n",
       "      <th>condonumber</th>\n",
       "      <th>block</th>\n",
       "      <th>lot</th>\n",
       "    </tr>\n",
       "    <tr>\n",
       "      <th>borough</th>\n",
       "      <th></th>\n",
       "      <th></th>\n",
       "      <th></th>\n",
       "      <th></th>\n",
       "      <th></th>\n",
       "      <th></th>\n",
       "      <th></th>\n",
       "      <th></th>\n",
       "      <th></th>\n",
       "    </tr>\n",
       "  </thead>\n",
       "  <tbody>\n",
       "    <tr>\n",
       "      <th rowspan=\"8\" valign=\"top\">Brooklyn/kings</th>\n",
       "      <th>count</th>\n",
       "      <td>0.0</td>\n",
       "      <td>3.070000e+02</td>\n",
       "      <td>3.070000e+02</td>\n",
       "      <td>3.070000e+02</td>\n",
       "      <td>3.070000e+02</td>\n",
       "      <td>0.0</td>\n",
       "      <td>702.000000</td>\n",
       "      <td>702.000000</td>\n",
       "    </tr>\n",
       "    <tr>\n",
       "      <th>mean</th>\n",
       "      <td>NaN</td>\n",
       "      <td>1.411018e+05</td>\n",
       "      <td>1.411018e+05</td>\n",
       "      <td>1.411018e+05</td>\n",
       "      <td>1.351949e+05</td>\n",
       "      <td>NaN</td>\n",
       "      <td>3388.991453</td>\n",
       "      <td>49.292023</td>\n",
       "    </tr>\n",
       "    <tr>\n",
       "      <th>std</th>\n",
       "      <td>NaN</td>\n",
       "      <td>2.184138e+05</td>\n",
       "      <td>2.184138e+05</td>\n",
       "      <td>2.184138e+05</td>\n",
       "      <td>2.041845e+05</td>\n",
       "      <td>NaN</td>\n",
       "      <td>2285.888012</td>\n",
       "      <td>341.865256</td>\n",
       "    </tr>\n",
       "    <tr>\n",
       "      <th>min</th>\n",
       "      <td>NaN</td>\n",
       "      <td>1.040000e+02</td>\n",
       "      <td>1.040000e+02</td>\n",
       "      <td>1.040000e+02</td>\n",
       "      <td>1.040000e+02</td>\n",
       "      <td>NaN</td>\n",
       "      <td>3.000000</td>\n",
       "      <td>1.000000</td>\n",
       "    </tr>\n",
       "    <tr>\n",
       "      <th>25%</th>\n",
       "      <td>NaN</td>\n",
       "      <td>NaN</td>\n",
       "      <td>NaN</td>\n",
       "      <td>NaN</td>\n",
       "      <td>NaN</td>\n",
       "      <td>NaN</td>\n",
       "      <td>1637.000000</td>\n",
       "      <td>8.000000</td>\n",
       "    </tr>\n",
       "    <tr>\n",
       "      <th>50%</th>\n",
       "      <td>NaN</td>\n",
       "      <td>NaN</td>\n",
       "      <td>NaN</td>\n",
       "      <td>NaN</td>\n",
       "      <td>NaN</td>\n",
       "      <td>NaN</td>\n",
       "      <td>2965.000000</td>\n",
       "      <td>25.000000</td>\n",
       "    </tr>\n",
       "    <tr>\n",
       "      <th>75%</th>\n",
       "      <td>NaN</td>\n",
       "      <td>NaN</td>\n",
       "      <td>NaN</td>\n",
       "      <td>NaN</td>\n",
       "      <td>NaN</td>\n",
       "      <td>NaN</td>\n",
       "      <td>5421.000000</td>\n",
       "      <td>49.750000</td>\n",
       "    </tr>\n",
       "    <tr>\n",
       "      <th>max</th>\n",
       "      <td>NaN</td>\n",
       "      <td>1.470414e+06</td>\n",
       "      <td>1.470414e+06</td>\n",
       "      <td>1.470414e+06</td>\n",
       "      <td>1.387192e+06</td>\n",
       "      <td>NaN</td>\n",
       "      <td>8955.000000</td>\n",
       "      <td>9001.000000</td>\n",
       "    </tr>\n",
       "    <tr>\n",
       "      <th rowspan=\"8\" valign=\"top\">Manhattan/new york</th>\n",
       "      <th>count</th>\n",
       "      <td>0.0</td>\n",
       "      <td>2.890000e+02</td>\n",
       "      <td>2.890000e+02</td>\n",
       "      <td>2.890000e+02</td>\n",
       "      <td>2.890000e+02</td>\n",
       "      <td>0.0</td>\n",
       "      <td>485.000000</td>\n",
       "      <td>485.000000</td>\n",
       "    </tr>\n",
       "    <tr>\n",
       "      <th>mean</th>\n",
       "      <td>NaN</td>\n",
       "      <td>2.239582e+05</td>\n",
       "      <td>2.239582e+05</td>\n",
       "      <td>2.239582e+05</td>\n",
       "      <td>2.160208e+05</td>\n",
       "      <td>NaN</td>\n",
       "      <td>1301.684536</td>\n",
       "      <td>108.626804</td>\n",
       "    </tr>\n",
       "    <tr>\n",
       "      <th>std</th>\n",
       "      <td>NaN</td>\n",
       "      <td>4.128390e+05</td>\n",
       "      <td>4.128390e+05</td>\n",
       "      <td>4.128390e+05</td>\n",
       "      <td>4.061767e+05</td>\n",
       "      <td>NaN</td>\n",
       "      <td>631.822140</td>\n",
       "      <td>817.650089</td>\n",
       "    </tr>\n",
       "    <tr>\n",
       "      <th>min</th>\n",
       "      <td>NaN</td>\n",
       "      <td>2.780000e+03</td>\n",
       "      <td>2.780000e+03</td>\n",
       "      <td>2.780000e+03</td>\n",
       "      <td>2.780000e+03</td>\n",
       "      <td>NaN</td>\n",
       "      <td>8.000000</td>\n",
       "      <td>1.000000</td>\n",
       "    </tr>\n",
       "    <tr>\n",
       "      <th>25%</th>\n",
       "      <td>NaN</td>\n",
       "      <td>NaN</td>\n",
       "      <td>NaN</td>\n",
       "      <td>NaN</td>\n",
       "      <td>NaN</td>\n",
       "      <td>NaN</td>\n",
       "      <td>748.000000</td>\n",
       "      <td>10.000000</td>\n",
       "    </tr>\n",
       "    <tr>\n",
       "      <th>50%</th>\n",
       "      <td>NaN</td>\n",
       "      <td>NaN</td>\n",
       "      <td>NaN</td>\n",
       "      <td>NaN</td>\n",
       "      <td>NaN</td>\n",
       "      <td>NaN</td>\n",
       "      <td>1486.000000</td>\n",
       "      <td>26.000000</td>\n",
       "    </tr>\n",
       "    <tr>\n",
       "      <th>75%</th>\n",
       "      <td>NaN</td>\n",
       "      <td>NaN</td>\n",
       "      <td>NaN</td>\n",
       "      <td>NaN</td>\n",
       "      <td>NaN</td>\n",
       "      <td>NaN</td>\n",
       "      <td>1840.000000</td>\n",
       "      <td>49.000000</td>\n",
       "    </tr>\n",
       "    <tr>\n",
       "      <th>max</th>\n",
       "      <td>NaN</td>\n",
       "      <td>5.375914e+06</td>\n",
       "      <td>5.375914e+06</td>\n",
       "      <td>5.375914e+06</td>\n",
       "      <td>5.375914e+06</td>\n",
       "      <td>NaN</td>\n",
       "      <td>2226.000000</td>\n",
       "      <td>9079.000000</td>\n",
       "    </tr>\n",
       "    <tr>\n",
       "      <th rowspan=\"8\" valign=\"top\">bronx/bronx</th>\n",
       "      <th>count</th>\n",
       "      <td>0.0</td>\n",
       "      <td>3.530000e+02</td>\n",
       "      <td>3.530000e+02</td>\n",
       "      <td>3.530000e+02</td>\n",
       "      <td>3.530000e+02</td>\n",
       "      <td>0.0</td>\n",
       "      <td>468.000000</td>\n",
       "      <td>468.000000</td>\n",
       "    </tr>\n",
       "    <tr>\n",
       "      <th>mean</th>\n",
       "      <td>NaN</td>\n",
       "      <td>1.372666e+05</td>\n",
       "      <td>1.372666e+05</td>\n",
       "      <td>1.372666e+05</td>\n",
       "      <td>1.243991e+05</td>\n",
       "      <td>NaN</td>\n",
       "      <td>3131.726496</td>\n",
       "      <td>81.286325</td>\n",
       "    </tr>\n",
       "    <tr>\n",
       "      <th>std</th>\n",
       "      <td>NaN</td>\n",
       "      <td>4.437434e+05</td>\n",
       "      <td>4.437434e+05</td>\n",
       "      <td>4.437434e+05</td>\n",
       "      <td>3.165265e+05</td>\n",
       "      <td>NaN</td>\n",
       "      <td>778.199725</td>\n",
       "      <td>427.728425</td>\n",
       "    </tr>\n",
       "    <tr>\n",
       "      <th>min</th>\n",
       "      <td>NaN</td>\n",
       "      <td>6.900000e+01</td>\n",
       "      <td>6.900000e+01</td>\n",
       "      <td>6.900000e+01</td>\n",
       "      <td>6.900000e+01</td>\n",
       "      <td>NaN</td>\n",
       "      <td>2264.000000</td>\n",
       "      <td>1.000000</td>\n",
       "    </tr>\n",
       "    <tr>\n",
       "      <th>25%</th>\n",
       "      <td>NaN</td>\n",
       "      <td>NaN</td>\n",
       "      <td>NaN</td>\n",
       "      <td>NaN</td>\n",
       "      <td>NaN</td>\n",
       "      <td>NaN</td>\n",
       "      <td>2650.250000</td>\n",
       "      <td>12.000000</td>\n",
       "    </tr>\n",
       "    <tr>\n",
       "      <th>50%</th>\n",
       "      <td>NaN</td>\n",
       "      <td>NaN</td>\n",
       "      <td>NaN</td>\n",
       "      <td>NaN</td>\n",
       "      <td>NaN</td>\n",
       "      <td>NaN</td>\n",
       "      <td>2879.000000</td>\n",
       "      <td>31.000000</td>\n",
       "    </tr>\n",
       "    <tr>\n",
       "      <th>75%</th>\n",
       "      <td>NaN</td>\n",
       "      <td>NaN</td>\n",
       "      <td>NaN</td>\n",
       "      <td>NaN</td>\n",
       "      <td>NaN</td>\n",
       "      <td>NaN</td>\n",
       "      <td>3259.000000</td>\n",
       "      <td>67.000000</td>\n",
       "    </tr>\n",
       "    <tr>\n",
       "      <th>max</th>\n",
       "      <td>NaN</td>\n",
       "      <td>7.330609e+06</td>\n",
       "      <td>7.330609e+06</td>\n",
       "      <td>7.330609e+06</td>\n",
       "      <td>4.875417e+06</td>\n",
       "      <td>NaN</td>\n",
       "      <td>5920.000000</td>\n",
       "      <td>9080.000000</td>\n",
       "    </tr>\n",
       "    <tr>\n",
       "      <th rowspan=\"8\" valign=\"top\">queens/queens</th>\n",
       "      <th>count</th>\n",
       "      <td>0.0</td>\n",
       "      <td>5.900000e+01</td>\n",
       "      <td>5.900000e+01</td>\n",
       "      <td>5.900000e+01</td>\n",
       "      <td>5.900000e+01</td>\n",
       "      <td>0.0</td>\n",
       "      <td>301.000000</td>\n",
       "      <td>301.000000</td>\n",
       "    </tr>\n",
       "    <tr>\n",
       "      <th>mean</th>\n",
       "      <td>NaN</td>\n",
       "      <td>3.139800e+05</td>\n",
       "      <td>3.139800e+05</td>\n",
       "      <td>3.139800e+05</td>\n",
       "      <td>2.754816e+05</td>\n",
       "      <td>NaN</td>\n",
       "      <td>6169.345515</td>\n",
       "      <td>46.803987</td>\n",
       "    </tr>\n",
       "    <tr>\n",
       "      <th>std</th>\n",
       "      <td>NaN</td>\n",
       "      <td>5.005117e+05</td>\n",
       "      <td>5.005117e+05</td>\n",
       "      <td>5.005117e+05</td>\n",
       "      <td>3.586805e+05</td>\n",
       "      <td>NaN</td>\n",
       "      <td>5480.282220</td>\n",
       "      <td>77.451736</td>\n",
       "    </tr>\n",
       "    <tr>\n",
       "      <th>min</th>\n",
       "      <td>NaN</td>\n",
       "      <td>8.000000e+00</td>\n",
       "      <td>8.000000e+00</td>\n",
       "      <td>8.000000e+00</td>\n",
       "      <td>8.000000e+00</td>\n",
       "      <td>NaN</td>\n",
       "      <td>6.000000</td>\n",
       "      <td>1.000000</td>\n",
       "    </tr>\n",
       "    <tr>\n",
       "      <th>25%</th>\n",
       "      <td>NaN</td>\n",
       "      <td>NaN</td>\n",
       "      <td>NaN</td>\n",
       "      <td>NaN</td>\n",
       "      <td>NaN</td>\n",
       "      <td>NaN</td>\n",
       "      <td>1282.000000</td>\n",
       "      <td>10.000000</td>\n",
       "    </tr>\n",
       "    <tr>\n",
       "      <th>50%</th>\n",
       "      <td>NaN</td>\n",
       "      <td>NaN</td>\n",
       "      <td>NaN</td>\n",
       "      <td>NaN</td>\n",
       "      <td>NaN</td>\n",
       "      <td>NaN</td>\n",
       "      <td>4973.000000</td>\n",
       "      <td>24.000000</td>\n",
       "    </tr>\n",
       "    <tr>\n",
       "      <th>75%</th>\n",
       "      <td>NaN</td>\n",
       "      <td>NaN</td>\n",
       "      <td>NaN</td>\n",
       "      <td>NaN</td>\n",
       "      <td>NaN</td>\n",
       "      <td>NaN</td>\n",
       "      <td>10182.000000</td>\n",
       "      <td>50.000000</td>\n",
       "    </tr>\n",
       "    <tr>\n",
       "      <th>max</th>\n",
       "      <td>NaN</td>\n",
       "      <td>3.692637e+06</td>\n",
       "      <td>3.692637e+06</td>\n",
       "      <td>3.692637e+06</td>\n",
       "      <td>2.446885e+06</td>\n",
       "      <td>NaN</td>\n",
       "      <td>16234.000000</td>\n",
       "      <td>643.000000</td>\n",
       "    </tr>\n",
       "    <tr>\n",
       "      <th rowspan=\"8\" valign=\"top\">staten/richmond</th>\n",
       "      <th>count</th>\n",
       "      <td>0.0</td>\n",
       "      <td>1.900000e+01</td>\n",
       "      <td>1.900000e+01</td>\n",
       "      <td>1.900000e+01</td>\n",
       "      <td>1.900000e+01</td>\n",
       "      <td>0.0</td>\n",
       "      <td>59.000000</td>\n",
       "      <td>59.000000</td>\n",
       "    </tr>\n",
       "    <tr>\n",
       "      <th>mean</th>\n",
       "      <td>NaN</td>\n",
       "      <td>1.152449e+05</td>\n",
       "      <td>1.152449e+05</td>\n",
       "      <td>1.152449e+05</td>\n",
       "      <td>1.128655e+05</td>\n",
       "      <td>NaN</td>\n",
       "      <td>2203.576271</td>\n",
       "      <td>75.135593</td>\n",
       "    </tr>\n",
       "    <tr>\n",
       "      <th>std</th>\n",
       "      <td>NaN</td>\n",
       "      <td>1.349054e+05</td>\n",
       "      <td>1.349054e+05</td>\n",
       "      <td>1.349054e+05</td>\n",
       "      <td>1.351453e+05</td>\n",
       "      <td>NaN</td>\n",
       "      <td>2404.806510</td>\n",
       "      <td>97.106670</td>\n",
       "    </tr>\n",
       "    <tr>\n",
       "      <th>min</th>\n",
       "      <td>NaN</td>\n",
       "      <td>8.662000e+03</td>\n",
       "      <td>8.662000e+03</td>\n",
       "      <td>8.662000e+03</td>\n",
       "      <td>8.662000e+03</td>\n",
       "      <td>NaN</td>\n",
       "      <td>1.000000</td>\n",
       "      <td>1.000000</td>\n",
       "    </tr>\n",
       "    <tr>\n",
       "      <th>25%</th>\n",
       "      <td>NaN</td>\n",
       "      <td>NaN</td>\n",
       "      <td>NaN</td>\n",
       "      <td>NaN</td>\n",
       "      <td>NaN</td>\n",
       "      <td>NaN</td>\n",
       "      <td>134.500000</td>\n",
       "      <td>9.500000</td>\n",
       "    </tr>\n",
       "    <tr>\n",
       "      <th>50%</th>\n",
       "      <td>NaN</td>\n",
       "      <td>NaN</td>\n",
       "      <td>NaN</td>\n",
       "      <td>NaN</td>\n",
       "      <td>NaN</td>\n",
       "      <td>NaN</td>\n",
       "      <td>1268.000000</td>\n",
       "      <td>33.000000</td>\n",
       "    </tr>\n",
       "    <tr>\n",
       "      <th>75%</th>\n",
       "      <td>NaN</td>\n",
       "      <td>NaN</td>\n",
       "      <td>NaN</td>\n",
       "      <td>NaN</td>\n",
       "      <td>NaN</td>\n",
       "      <td>NaN</td>\n",
       "      <td>3203.000000</td>\n",
       "      <td>113.500000</td>\n",
       "    </tr>\n",
       "    <tr>\n",
       "      <th>max</th>\n",
       "      <td>NaN</td>\n",
       "      <td>5.768810e+05</td>\n",
       "      <td>5.768810e+05</td>\n",
       "      <td>5.768810e+05</td>\n",
       "      <td>5.768810e+05</td>\n",
       "      <td>NaN</td>\n",
       "      <td>7863.000000</td>\n",
       "      <td>550.000000</td>\n",
       "    </tr>\n",
       "  </tbody>\n",
       "</table>\n",
       "</div>"
      ],
      "text/plain": [
       "                          emv          tbea           bav           tba  \\\n",
       "borough                                                                   \n",
       "Brooklyn/kings     count  0.0  3.070000e+02  3.070000e+02  3.070000e+02   \n",
       "                   mean   NaN  1.411018e+05  1.411018e+05  1.411018e+05   \n",
       "                   std    NaN  2.184138e+05  2.184138e+05  2.184138e+05   \n",
       "                   min    NaN  1.040000e+02  1.040000e+02  1.040000e+02   \n",
       "                   25%    NaN           NaN           NaN           NaN   \n",
       "                   50%    NaN           NaN           NaN           NaN   \n",
       "                   75%    NaN           NaN           NaN           NaN   \n",
       "                   max    NaN  1.470414e+06  1.470414e+06  1.470414e+06   \n",
       "Manhattan/new york count  0.0  2.890000e+02  2.890000e+02  2.890000e+02   \n",
       "                   mean   NaN  2.239582e+05  2.239582e+05  2.239582e+05   \n",
       "                   std    NaN  4.128390e+05  4.128390e+05  4.128390e+05   \n",
       "                   min    NaN  2.780000e+03  2.780000e+03  2.780000e+03   \n",
       "                   25%    NaN           NaN           NaN           NaN   \n",
       "                   50%    NaN           NaN           NaN           NaN   \n",
       "                   75%    NaN           NaN           NaN           NaN   \n",
       "                   max    NaN  5.375914e+06  5.375914e+06  5.375914e+06   \n",
       "bronx/bronx        count  0.0  3.530000e+02  3.530000e+02  3.530000e+02   \n",
       "                   mean   NaN  1.372666e+05  1.372666e+05  1.372666e+05   \n",
       "                   std    NaN  4.437434e+05  4.437434e+05  4.437434e+05   \n",
       "                   min    NaN  6.900000e+01  6.900000e+01  6.900000e+01   \n",
       "                   25%    NaN           NaN           NaN           NaN   \n",
       "                   50%    NaN           NaN           NaN           NaN   \n",
       "                   75%    NaN           NaN           NaN           NaN   \n",
       "                   max    NaN  7.330609e+06  7.330609e+06  7.330609e+06   \n",
       "queens/queens      count  0.0  5.900000e+01  5.900000e+01  5.900000e+01   \n",
       "                   mean   NaN  3.139800e+05  3.139800e+05  3.139800e+05   \n",
       "                   std    NaN  5.005117e+05  5.005117e+05  5.005117e+05   \n",
       "                   min    NaN  8.000000e+00  8.000000e+00  8.000000e+00   \n",
       "                   25%    NaN           NaN           NaN           NaN   \n",
       "                   50%    NaN           NaN           NaN           NaN   \n",
       "                   75%    NaN           NaN           NaN           NaN   \n",
       "                   max    NaN  3.692637e+06  3.692637e+06  3.692637e+06   \n",
       "staten/richmond    count  0.0  1.900000e+01  1.900000e+01  1.900000e+01   \n",
       "                   mean   NaN  1.152449e+05  1.152449e+05  1.152449e+05   \n",
       "                   std    NaN  1.349054e+05  1.349054e+05  1.349054e+05   \n",
       "                   min    NaN  8.662000e+03  8.662000e+03  8.662000e+03   \n",
       "                   25%    NaN           NaN           NaN           NaN   \n",
       "                   50%    NaN           NaN           NaN           NaN   \n",
       "                   75%    NaN           NaN           NaN           NaN   \n",
       "                   max    NaN  5.768810e+05  5.768810e+05  5.768810e+05   \n",
       "\n",
       "                           propertytax  condonumber         block          lot  \n",
       "borough                                                                         \n",
       "Brooklyn/kings     count  3.070000e+02          0.0    702.000000   702.000000  \n",
       "                   mean   1.351949e+05          NaN   3388.991453    49.292023  \n",
       "                   std    2.041845e+05          NaN   2285.888012   341.865256  \n",
       "                   min    1.040000e+02          NaN      3.000000     1.000000  \n",
       "                   25%             NaN          NaN   1637.000000     8.000000  \n",
       "                   50%             NaN          NaN   2965.000000    25.000000  \n",
       "                   75%             NaN          NaN   5421.000000    49.750000  \n",
       "                   max    1.387192e+06          NaN   8955.000000  9001.000000  \n",
       "Manhattan/new york count  2.890000e+02          0.0    485.000000   485.000000  \n",
       "                   mean   2.160208e+05          NaN   1301.684536   108.626804  \n",
       "                   std    4.061767e+05          NaN    631.822140   817.650089  \n",
       "                   min    2.780000e+03          NaN      8.000000     1.000000  \n",
       "                   25%             NaN          NaN    748.000000    10.000000  \n",
       "                   50%             NaN          NaN   1486.000000    26.000000  \n",
       "                   75%             NaN          NaN   1840.000000    49.000000  \n",
       "                   max    5.375914e+06          NaN   2226.000000  9079.000000  \n",
       "bronx/bronx        count  3.530000e+02          0.0    468.000000   468.000000  \n",
       "                   mean   1.243991e+05          NaN   3131.726496    81.286325  \n",
       "                   std    3.165265e+05          NaN    778.199725   427.728425  \n",
       "                   min    6.900000e+01          NaN   2264.000000     1.000000  \n",
       "                   25%             NaN          NaN   2650.250000    12.000000  \n",
       "                   50%             NaN          NaN   2879.000000    31.000000  \n",
       "                   75%             NaN          NaN   3259.000000    67.000000  \n",
       "                   max    4.875417e+06          NaN   5920.000000  9080.000000  \n",
       "queens/queens      count  5.900000e+01          0.0    301.000000   301.000000  \n",
       "                   mean   2.754816e+05          NaN   6169.345515    46.803987  \n",
       "                   std    3.586805e+05          NaN   5480.282220    77.451736  \n",
       "                   min    8.000000e+00          NaN      6.000000     1.000000  \n",
       "                   25%             NaN          NaN   1282.000000    10.000000  \n",
       "                   50%             NaN          NaN   4973.000000    24.000000  \n",
       "                   75%             NaN          NaN  10182.000000    50.000000  \n",
       "                   max    2.446885e+06          NaN  16234.000000   643.000000  \n",
       "staten/richmond    count  1.900000e+01          0.0     59.000000    59.000000  \n",
       "                   mean   1.128655e+05          NaN   2203.576271    75.135593  \n",
       "                   std    1.351453e+05          NaN   2404.806510    97.106670  \n",
       "                   min    8.662000e+03          NaN      1.000000     1.000000  \n",
       "                   25%             NaN          NaN    134.500000     9.500000  \n",
       "                   50%             NaN          NaN   1268.000000    33.000000  \n",
       "                   75%             NaN          NaN   3203.000000   113.500000  \n",
       "                   max    5.768810e+05          NaN   7863.000000   550.000000  "
      ]
     },
     "execution_count": 38,
     "metadata": {},
     "output_type": "execute_result"
    }
   ],
   "source": [
    "vacant_group_borough.describe()"
   ]
  },
  {
   "cell_type": "code",
   "execution_count": 39,
   "metadata": {
    "collapsed": false
   },
   "outputs": [
    {
     "data": {
      "text/plain": [
       "<matplotlib.axes._subplots.AxesSubplot at 0x11a541c88>"
      ]
     },
     "execution_count": 39,
     "metadata": {},
     "output_type": "execute_result"
    },
    {
     "data": {
      "image/png": "[encoded data removed]",
      "text/plain": [
       "<matplotlib.figure.Figure at 0x11ad08dd8>"
      ]
     },
     "metadata": {},
     "output_type": "display_data"
    }
   ],
   "source": [
    "vacant_group_borough.count().plot(kind = 'line')"
   ]
  },
  {
   "cell_type": "code",
   "execution_count": 40,
   "metadata": {
    "collapsed": true
   },
   "outputs": [],
   "source": [
    "#lets see which area has maximum public places\n",
    "public_group_borough = df_public.groupby(df_public['borough'])"
   ]
  },
  {
   "cell_type": "code",
   "execution_count": 41,
   "metadata": {
    "collapsed": false
   },
   "outputs": [
    {
     "data": {
      "text/plain": [
       "<matplotlib.axes._subplots.AxesSubplot at 0x11e3ceac8>"
      ]
     },
     "execution_count": 41,
     "metadata": {},
     "output_type": "execute_result"
    },
    {
     "data": {
      "image/png": "[encoded data removed]",
      "text/plain": [
       "<matplotlib.figure.Figure at 0x11e3dc630>"
      ]
     },
     "metadata": {},
     "output_type": "display_data"
    }
   ],
   "source": [
    "public_group_borough.count().plot(kind = 'line')"
   ]
  },
  {
   "cell_type": "code",
   "execution_count": 42,
   "metadata": {
    "collapsed": false
   },
   "outputs": [
    {
     "data": {
      "text/html": [
       "<div>\n",
       "<table border=\"1\" class=\"dataframe\">\n",
       "  <thead>\n",
       "    <tr style=\"text-align: right;\">\n",
       "      <th></th>\n",
       "      <th>taxclass</th>\n",
       "      <th>taxrate</th>\n",
       "      <th>emv</th>\n",
       "      <th>tbea</th>\n",
       "      <th>bav</th>\n",
       "      <th>tba</th>\n",
       "      <th>propertytax</th>\n",
       "      <th>condonumber</th>\n",
       "      <th>condo</th>\n",
       "      <th>borough</th>\n",
       "      <th>block</th>\n",
       "      <th>lot</th>\n",
       "    </tr>\n",
       "  </thead>\n",
       "  <tbody>\n",
       "  </tbody>\n",
       "</table>\n",
       "</div>"
      ],
      "text/plain": [
       "Empty DataFrame\n",
       "Columns: [taxclass, taxrate, emv, tbea, bav, tba, propertytax, condonumber, condo, borough, block, lot]\n",
       "Index: []"
      ]
     },
     "execution_count": 42,
     "metadata": {},
     "output_type": "execute_result"
    }
   ],
   "source": [
    "df[(df['tbea'].isnull() == False) & (df['propertytax'].isnull() == True)]"
   ]
  },
  {
   "cell_type": "code",
   "execution_count": 44,
   "metadata": {
    "collapsed": true
   },
   "outputs": [],
   "source": [
    "#the condos with no taxes are federally owned buildings(police offices etc.)\n",
    "df_govt = df[(df['propertytax'].isnull() == True) & (df['condo'].isnull() == False)]"
   ]
  },
  {
   "cell_type": "code",
   "execution_count": 45,
   "metadata": {
    "collapsed": true
   },
   "outputs": [],
   "source": [
    "govt_group_borough = df_govt.groupby(df['borough'])"
   ]
  },
  {
   "cell_type": "code",
   "execution_count": 46,
   "metadata": {
    "collapsed": false
   },
   "outputs": [
    {
     "data": {
      "text/plain": [
       "<matplotlib.axes._subplots.AxesSubplot at 0x10ebf8f28>"
      ]
     },
     "execution_count": 46,
     "metadata": {},
     "output_type": "execute_result"
    },
    {
     "data": {
      "image/png": "[encoded data removed]",
      "text/plain": [
       "<matplotlib.figure.Figure at 0x11e3e05f8>"
      ]
     },
     "metadata": {},
     "output_type": "display_data"
    }
   ],
   "source": [
    "govt_group_borough.count().plot(kind = 'line')"
   ]
  },
  {
   "cell_type": "code",
   "execution_count": 47,
   "metadata": {
    "collapsed": false
   },
   "outputs": [
    {
     "data": {
      "text/html": [
       "<div>\n",
       "<table border=\"1\" class=\"dataframe\">\n",
       "  <thead>\n",
       "    <tr style=\"text-align: right;\">\n",
       "      <th></th>\n",
       "      <th>taxclass</th>\n",
       "      <th>taxrate</th>\n",
       "      <th>emv</th>\n",
       "      <th>tbea</th>\n",
       "      <th>bav</th>\n",
       "      <th>tba</th>\n",
       "      <th>propertytax</th>\n",
       "      <th>condonumber</th>\n",
       "      <th>condo</th>\n",
       "      <th>borough</th>\n",
       "      <th>block</th>\n",
       "      <th>lot</th>\n",
       "    </tr>\n",
       "  </thead>\n",
       "  <tbody>\n",
       "    <tr>\n",
       "      <th>68584</th>\n",
       "      <td>NaN</td>\n",
       "      <td>NaN</td>\n",
       "      <td>NaN</td>\n",
       "      <td>143677.0</td>\n",
       "      <td>143677.0</td>\n",
       "      <td>143677.0</td>\n",
       "      <td>143677.0</td>\n",
       "      <td>2284.0</td>\n",
       "      <td>unit</td>\n",
       "      <td>Manhattan/new york</td>\n",
       "      <td>1073</td>\n",
       "      <td>1101</td>\n",
       "    </tr>\n",
       "    <tr>\n",
       "      <th>68585</th>\n",
       "      <td>NaN</td>\n",
       "      <td>NaN</td>\n",
       "      <td>NaN</td>\n",
       "      <td>30067.0</td>\n",
       "      <td>30067.0</td>\n",
       "      <td>30067.0</td>\n",
       "      <td>30067.0</td>\n",
       "      <td>2284.0</td>\n",
       "      <td>unit</td>\n",
       "      <td>Manhattan/new york</td>\n",
       "      <td>1073</td>\n",
       "      <td>1102</td>\n",
       "    </tr>\n",
       "    <tr>\n",
       "      <th>68587</th>\n",
       "      <td>NaN</td>\n",
       "      <td>NaN</td>\n",
       "      <td>NaN</td>\n",
       "      <td>81922.0</td>\n",
       "      <td>81922.0</td>\n",
       "      <td>81922.0</td>\n",
       "      <td>81922.0</td>\n",
       "      <td>2285.0</td>\n",
       "      <td>unit</td>\n",
       "      <td>Manhattan/new york</td>\n",
       "      <td>1073</td>\n",
       "      <td>1201</td>\n",
       "    </tr>\n",
       "    <tr>\n",
       "      <th>68588</th>\n",
       "      <td>NaN</td>\n",
       "      <td>NaN</td>\n",
       "      <td>NaN</td>\n",
       "      <td>21777.0</td>\n",
       "      <td>21777.0</td>\n",
       "      <td>21777.0</td>\n",
       "      <td>21777.0</td>\n",
       "      <td>2285.0</td>\n",
       "      <td>unit</td>\n",
       "      <td>Manhattan/new york</td>\n",
       "      <td>1073</td>\n",
       "      <td>1202</td>\n",
       "    </tr>\n",
       "    <tr>\n",
       "      <th>132864</th>\n",
       "      <td>NaN</td>\n",
       "      <td>NaN</td>\n",
       "      <td>NaN</td>\n",
       "      <td>446608.0</td>\n",
       "      <td>446608.0</td>\n",
       "      <td>446608.0</td>\n",
       "      <td>446608.0</td>\n",
       "      <td>2388.0</td>\n",
       "      <td>unit</td>\n",
       "      <td>Manhattan/new york</td>\n",
       "      <td>1832</td>\n",
       "      <td>1101</td>\n",
       "    </tr>\n",
       "    <tr>\n",
       "      <th>151207</th>\n",
       "      <td>NaN</td>\n",
       "      <td>NaN</td>\n",
       "      <td>NaN</td>\n",
       "      <td>2907.0</td>\n",
       "      <td>2907.0</td>\n",
       "      <td>2907.0</td>\n",
       "      <td>2907.0</td>\n",
       "      <td>1860.0</td>\n",
       "      <td>unit</td>\n",
       "      <td>Manhattan/new york</td>\n",
       "      <td>2226</td>\n",
       "      <td>1002</td>\n",
       "    </tr>\n",
       "    <tr>\n",
       "      <th>174087</th>\n",
       "      <td>NaN</td>\n",
       "      <td>NaN</td>\n",
       "      <td>NaN</td>\n",
       "      <td>33684.0</td>\n",
       "      <td>33684.0</td>\n",
       "      <td>33684.0</td>\n",
       "      <td>33684.0</td>\n",
       "      <td>71.0</td>\n",
       "      <td>unit</td>\n",
       "      <td>bronx/bronx</td>\n",
       "      <td>3206</td>\n",
       "      <td>1001</td>\n",
       "    </tr>\n",
       "    <tr>\n",
       "      <th>252235</th>\n",
       "      <td>NaN</td>\n",
       "      <td>NaN</td>\n",
       "      <td>NaN</td>\n",
       "      <td>65659.0</td>\n",
       "      <td>65659.0</td>\n",
       "      <td>65659.0</td>\n",
       "      <td>65659.0</td>\n",
       "      <td>NaN</td>\n",
       "      <td>unit</td>\n",
       "      <td>bronx/bronx</td>\n",
       "      <td>5851</td>\n",
       "      <td>2091</td>\n",
       "    </tr>\n",
       "    <tr>\n",
       "      <th>259555</th>\n",
       "      <td>NaN</td>\n",
       "      <td>NaN</td>\n",
       "      <td>NaN</td>\n",
       "      <td>423779.0</td>\n",
       "      <td>423779.0</td>\n",
       "      <td>423779.0</td>\n",
       "      <td>423779.0</td>\n",
       "      <td>3143.0</td>\n",
       "      <td>unit</td>\n",
       "      <td>Brooklyn/kings</td>\n",
       "      <td>236</td>\n",
       "      <td>1101</td>\n",
       "    </tr>\n",
       "  </tbody>\n",
       "</table>\n",
       "</div>"
      ],
      "text/plain": [
       "       taxclass taxrate  emv      tbea       bav       tba  propertytax  \\\n",
       "68584       NaN     NaN  NaN  143677.0  143677.0  143677.0     143677.0   \n",
       "68585       NaN     NaN  NaN   30067.0   30067.0   30067.0      30067.0   \n",
       "68587       NaN     NaN  NaN   81922.0   81922.0   81922.0      81922.0   \n",
       "68588       NaN     NaN  NaN   21777.0   21777.0   21777.0      21777.0   \n",
       "132864      NaN     NaN  NaN  446608.0  446608.0  446608.0     446608.0   \n",
       "151207      NaN     NaN  NaN    2907.0    2907.0    2907.0       2907.0   \n",
       "174087      NaN     NaN  NaN   33684.0   33684.0   33684.0      33684.0   \n",
       "252235      NaN     NaN  NaN   65659.0   65659.0   65659.0      65659.0   \n",
       "259555      NaN     NaN  NaN  423779.0  423779.0  423779.0     423779.0   \n",
       "\n",
       "        condonumber condo             borough  block   lot  \n",
       "68584        2284.0  unit  Manhattan/new york   1073  1101  \n",
       "68585        2284.0  unit  Manhattan/new york   1073  1102  \n",
       "68587        2285.0  unit  Manhattan/new york   1073  1201  \n",
       "68588        2285.0  unit  Manhattan/new york   1073  1202  \n",
       "132864       2388.0  unit  Manhattan/new york   1832  1101  \n",
       "151207       1860.0  unit  Manhattan/new york   2226  1002  \n",
       "174087         71.0  unit         bronx/bronx   3206  1001  \n",
       "252235          NaN  unit         bronx/bronx   5851  2091  \n",
       "259555       3143.0  unit      Brooklyn/kings    236  1101  "
      ]
     },
     "execution_count": 47,
     "metadata": {},
     "output_type": "execute_result"
    }
   ],
   "source": [
    "df[(df['taxclass'].isnull() == True) & (df['propertytax'].isnull() == False) &(df['condo'].isnull() == False)]"
   ]
  },
  {
   "cell_type": "code",
   "execution_count": 48,
   "metadata": {
    "collapsed": false
   },
   "outputs": [
    {
     "name": "stderr",
     "output_type": "stream",
     "text": [
      "C:\\Anaconda3\\lib\\site-packages\\numpy\\lib\\function_base.py:3834: RuntimeWarning: Invalid value encountered in percentile\n",
      "  RuntimeWarning)\n"
     ]
    },
    {
     "data": {
      "text/html": [
       "<div>\n",
       "<table border=\"1\" class=\"dataframe\">\n",
       "  <thead>\n",
       "    <tr style=\"text-align: right;\">\n",
       "      <th></th>\n",
       "      <th>emv</th>\n",
       "      <th>tbea</th>\n",
       "      <th>bav</th>\n",
       "      <th>tba</th>\n",
       "      <th>propertytax</th>\n",
       "      <th>condonumber</th>\n",
       "      <th>block</th>\n",
       "      <th>lot</th>\n",
       "    </tr>\n",
       "  </thead>\n",
       "  <tbody>\n",
       "    <tr>\n",
       "      <th>count</th>\n",
       "      <td>1.073473e+06</td>\n",
       "      <td>1.074509e+06</td>\n",
       "      <td>1.074509e+06</td>\n",
       "      <td>1.040176e+06</td>\n",
       "      <td>1.074509e+06</td>\n",
       "      <td>237110.000000</td>\n",
       "      <td>1.081624e+06</td>\n",
       "      <td>1.081624e+06</td>\n",
       "    </tr>\n",
       "    <tr>\n",
       "      <th>mean</th>\n",
       "      <td>1.072281e+06</td>\n",
       "      <td>3.210457e+04</td>\n",
       "      <td>2.681073e+05</td>\n",
       "      <td>2.136745e+04</td>\n",
       "      <td>2.012084e+04</td>\n",
       "      <td>973.276226</td>\n",
       "      <td>4.718907e+03</td>\n",
       "      <td>3.857791e+02</td>\n",
       "    </tr>\n",
       "    <tr>\n",
       "      <th>std</th>\n",
       "      <td>2.007340e+07</td>\n",
       "      <td>8.811361e+05</td>\n",
       "      <td>8.215277e+06</td>\n",
       "      <td>2.952722e+05</td>\n",
       "      <td>2.881755e+05</td>\n",
       "      <td>882.552609</td>\n",
       "      <td>3.674913e+03</td>\n",
       "      <td>8.416516e+02</td>\n",
       "    </tr>\n",
       "    <tr>\n",
       "      <th>min</th>\n",
       "      <td>1.000000e+01</td>\n",
       "      <td>0.000000e+00</td>\n",
       "      <td>0.000000e+00</td>\n",
       "      <td>1.000000e+00</td>\n",
       "      <td>0.000000e+00</td>\n",
       "      <td>1.000000</td>\n",
       "      <td>1.000000e+00</td>\n",
       "      <td>1.000000e+00</td>\n",
       "    </tr>\n",
       "    <tr>\n",
       "      <th>25%</th>\n",
       "      <td>NaN</td>\n",
       "      <td>NaN</td>\n",
       "      <td>NaN</td>\n",
       "      <td>NaN</td>\n",
       "      <td>NaN</td>\n",
       "      <td>NaN</td>\n",
       "      <td>1.537000e+03</td>\n",
       "      <td>2.400000e+01</td>\n",
       "    </tr>\n",
       "    <tr>\n",
       "      <th>50%</th>\n",
       "      <td>NaN</td>\n",
       "      <td>NaN</td>\n",
       "      <td>NaN</td>\n",
       "      <td>NaN</td>\n",
       "      <td>NaN</td>\n",
       "      <td>NaN</td>\n",
       "      <td>3.990000e+03</td>\n",
       "      <td>5.100000e+01</td>\n",
       "    </tr>\n",
       "    <tr>\n",
       "      <th>75%</th>\n",
       "      <td>NaN</td>\n",
       "      <td>NaN</td>\n",
       "      <td>NaN</td>\n",
       "      <td>NaN</td>\n",
       "      <td>NaN</td>\n",
       "      <td>NaN</td>\n",
       "      <td>6.863000e+03</td>\n",
       "      <td>1.910000e+02</td>\n",
       "    </tr>\n",
       "    <tr>\n",
       "      <th>max</th>\n",
       "      <td>1.457087e+10</td>\n",
       "      <td>6.281640e+08</td>\n",
       "      <td>5.879484e+09</td>\n",
       "      <td>6.733982e+07</td>\n",
       "      <td>6.733982e+07</td>\n",
       "      <td>9566.000000</td>\n",
       "      <td>1.635000e+04</td>\n",
       "      <td>9.978000e+03</td>\n",
       "    </tr>\n",
       "  </tbody>\n",
       "</table>\n",
       "</div>"
      ],
      "text/plain": [
       "                emv          tbea           bav           tba   propertytax  \\\n",
       "count  1.073473e+06  1.074509e+06  1.074509e+06  1.040176e+06  1.074509e+06   \n",
       "mean   1.072281e+06  3.210457e+04  2.681073e+05  2.136745e+04  2.012084e+04   \n",
       "std    2.007340e+07  8.811361e+05  8.215277e+06  2.952722e+05  2.881755e+05   \n",
       "min    1.000000e+01  0.000000e+00  0.000000e+00  1.000000e+00  0.000000e+00   \n",
       "25%             NaN           NaN           NaN           NaN           NaN   \n",
       "50%             NaN           NaN           NaN           NaN           NaN   \n",
       "75%             NaN           NaN           NaN           NaN           NaN   \n",
       "max    1.457087e+10  6.281640e+08  5.879484e+09  6.733982e+07  6.733982e+07   \n",
       "\n",
       "         condonumber         block           lot  \n",
       "count  237110.000000  1.081624e+06  1.081624e+06  \n",
       "mean      973.276226  4.718907e+03  3.857791e+02  \n",
       "std       882.552609  3.674913e+03  8.416516e+02  \n",
       "min         1.000000  1.000000e+00  1.000000e+00  \n",
       "25%              NaN  1.537000e+03  2.400000e+01  \n",
       "50%              NaN  3.990000e+03  5.100000e+01  \n",
       "75%              NaN  6.863000e+03  1.910000e+02  \n",
       "max      9566.000000  1.635000e+04  9.978000e+03  "
      ]
     },
     "execution_count": 48,
     "metadata": {},
     "output_type": "execute_result"
    }
   ],
   "source": [
    "df.describe()"
   ]
  },
  {
   "cell_type": "code",
   "execution_count": 49,
   "metadata": {
    "collapsed": true
   },
   "outputs": [],
   "source": [
    "#lets see which area earns what property tax in comparison with the public places it maintains\n",
    "overall_group_borough = df.groupby(df['borough'])"
   ]
  },
  {
   "cell_type": "code",
   "execution_count": 51,
   "metadata": {
    "collapsed": true
   },
   "outputs": [],
   "source": [
    "overall_group_borough_sum = overall_group_borough.sum()"
   ]
  },
  {
   "cell_type": "code",
   "execution_count": 52,
   "metadata": {
    "collapsed": false
   },
   "outputs": [
    {
     "data": {
      "text/html": [
       "<div>\n",
       "<table border=\"1\" class=\"dataframe\">\n",
       "  <thead>\n",
       "    <tr style=\"text-align: right;\">\n",
       "      <th></th>\n",
       "      <th>emv</th>\n",
       "      <th>tbea</th>\n",
       "      <th>bav</th>\n",
       "      <th>tba</th>\n",
       "      <th>propertytax</th>\n",
       "      <th>condonumber</th>\n",
       "      <th>block</th>\n",
       "      <th>lot</th>\n",
       "    </tr>\n",
       "    <tr>\n",
       "      <th>borough</th>\n",
       "      <th></th>\n",
       "      <th></th>\n",
       "      <th></th>\n",
       "      <th></th>\n",
       "      <th></th>\n",
       "      <th></th>\n",
       "      <th></th>\n",
       "      <th></th>\n",
       "    </tr>\n",
       "  </thead>\n",
       "  <tbody>\n",
       "    <tr>\n",
       "      <th>Brooklyn/kings</th>\n",
       "      <td>2.612859e+11</td>\n",
       "      <td>5.314923e+09</td>\n",
       "      <td>4.221246e+10</td>\n",
       "      <td>2.932472e+09</td>\n",
       "      <td>2.857547e+09</td>\n",
       "      <td>94598340.0</td>\n",
       "      <td>1510575885</td>\n",
       "      <td>99491884</td>\n",
       "    </tr>\n",
       "    <tr>\n",
       "      <th>Manhattan/new york</th>\n",
       "      <td>4.660706e+11</td>\n",
       "      <td>1.926718e+10</td>\n",
       "      <td>1.669362e+11</td>\n",
       "      <td>1.408879e+10</td>\n",
       "      <td>1.368449e+10</td>\n",
       "      <td>119664508.0</td>\n",
       "      <td>166908287</td>\n",
       "      <td>168053234</td>\n",
       "    </tr>\n",
       "    <tr>\n",
       "      <th>bronx/bronx</th>\n",
       "      <td>7.437387e+10</td>\n",
       "      <td>2.360405e+09</td>\n",
       "      <td>1.937125e+10</td>\n",
       "      <td>1.134023e+09</td>\n",
       "      <td>1.092339e+09</td>\n",
       "      <td>542067.0</td>\n",
       "      <td>421345453</td>\n",
       "      <td>54241726</td>\n",
       "    </tr>\n",
       "    <tr>\n",
       "      <th>queens/queens</th>\n",
       "      <td>2.794642e+11</td>\n",
       "      <td>6.328878e+09</td>\n",
       "      <td>5.053329e+10</td>\n",
       "      <td>3.356345e+09</td>\n",
       "      <td>3.276217e+09</td>\n",
       "      <td>15210511.0</td>\n",
       "      <td>2550496729</td>\n",
       "      <td>70196331</td>\n",
       "    </tr>\n",
       "    <tr>\n",
       "      <th>staten/richmond</th>\n",
       "      <td>6.987047e+10</td>\n",
       "      <td>1.225262e+09</td>\n",
       "      <td>9.030484e+09</td>\n",
       "      <td>7.142750e+08</td>\n",
       "      <td>7.094367e+08</td>\n",
       "      <td>758100.0</td>\n",
       "      <td>454757136</td>\n",
       "      <td>25284756</td>\n",
       "    </tr>\n",
       "  </tbody>\n",
       "</table>\n",
       "</div>"
      ],
      "text/plain": [
       "                             emv          tbea           bav           tba  \\\n",
       "borough                                                                      \n",
       "Brooklyn/kings      2.612859e+11  5.314923e+09  4.221246e+10  2.932472e+09   \n",
       "Manhattan/new york  4.660706e+11  1.926718e+10  1.669362e+11  1.408879e+10   \n",
       "bronx/bronx         7.437387e+10  2.360405e+09  1.937125e+10  1.134023e+09   \n",
       "queens/queens       2.794642e+11  6.328878e+09  5.053329e+10  3.356345e+09   \n",
       "staten/richmond     6.987047e+10  1.225262e+09  9.030484e+09  7.142750e+08   \n",
       "\n",
       "                     propertytax  condonumber       block        lot  \n",
       "borough                                                               \n",
       "Brooklyn/kings      2.857547e+09   94598340.0  1510575885   99491884  \n",
       "Manhattan/new york  1.368449e+10  119664508.0   166908287  168053234  \n",
       "bronx/bronx         1.092339e+09     542067.0   421345453   54241726  \n",
       "queens/queens       3.276217e+09   15210511.0  2550496729   70196331  \n",
       "staten/richmond     7.094367e+08     758100.0   454757136   25284756  "
      ]
     },
     "execution_count": 52,
     "metadata": {},
     "output_type": "execute_result"
    }
   ],
   "source": [
    "overall_group_borough_sum"
   ]
  },
  {
   "cell_type": "code",
   "execution_count": 53,
   "metadata": {
    "collapsed": false
   },
   "outputs": [
    {
     "data": {
      "image/png": "[encoded data removed]",
      "text/plain": [
       "<matplotlib.figure.Figure at 0x110f46c50>"
      ]
     },
     "metadata": {},
     "output_type": "display_data"
    }
   ],
   "source": [
    "#lets see which area comparatively generates what property tax and maintains how many public, govermnent spaces\n",
    "plt.figure(1)\n",
    "plt.subplot(211)\n",
    "public_group_borough['lot'].count().plot.line( label = 'public places')\n",
    "govt_group_borough['lot'].count().plot( label = 'govt buildings')\n",
    "plt.legend()\n",
    "\n",
    "plt.subplot(212)\n",
    "overall_group_borough_sum['propertytax'].plot(kind = 'line')\n",
    "plt.legend()\n",
    "plt.show()"
   ]
  },
  {
   "cell_type": "code",
   "execution_count": 54,
   "metadata": {
    "collapsed": true
   },
   "outputs": [],
   "source": [
    "#Do the above graphs do a good job of depicting the real scenario? I feel we need to find the number of public and government\n",
    "#divided by total number of taxable lots in the area\n",
    "#Also, I feel we need to find the average property tax per lot in that area, for a better understanding\n",
    "taxable_lots_total = df[df['propertytax'].isnull() == False]['lot'].count()"
   ]
  },
  {
   "cell_type": "code",
   "execution_count": 55,
   "metadata": {
    "collapsed": true
   },
   "outputs": [],
   "source": [
    "taxable_lots_borough = df['lot'].groupby(df['borough'])"
   ]
  },
  {
   "cell_type": "code",
   "execution_count": 56,
   "metadata": {
    "collapsed": true
   },
   "outputs": [],
   "source": [
    "df_types = pd.concat([public_group_borough['lot'].count(), govt_group_borough['lot'].count(), taxable_lots_borough.count()], axis = 1)\n",
    "df_types.columns = ['public', 'government', 'taxable']"
   ]
  },
  {
   "cell_type": "code",
   "execution_count": 57,
   "metadata": {
    "collapsed": false
   },
   "outputs": [
    {
     "data": {
      "text/html": [
       "<div>\n",
       "<table border=\"1\" class=\"dataframe\">\n",
       "  <thead>\n",
       "    <tr style=\"text-align: right;\">\n",
       "      <th></th>\n",
       "      <th>public</th>\n",
       "      <th>government</th>\n",
       "      <th>taxable</th>\n",
       "    </tr>\n",
       "    <tr>\n",
       "      <th>borough</th>\n",
       "      <th></th>\n",
       "      <th></th>\n",
       "      <th></th>\n",
       "    </tr>\n",
       "  </thead>\n",
       "  <tbody>\n",
       "    <tr>\n",
       "      <th>Brooklyn/kings</th>\n",
       "      <td>395</td>\n",
       "      <td>2742</td>\n",
       "      <td>330704</td>\n",
       "    </tr>\n",
       "    <tr>\n",
       "      <th>Manhattan/new york</th>\n",
       "      <td>196</td>\n",
       "      <td>2254</td>\n",
       "      <td>151532</td>\n",
       "    </tr>\n",
       "    <tr>\n",
       "      <th>bronx/bronx</th>\n",
       "      <td>115</td>\n",
       "      <td>144</td>\n",
       "      <td>102676</td>\n",
       "    </tr>\n",
       "    <tr>\n",
       "      <th>queens/queens</th>\n",
       "      <td>242</td>\n",
       "      <td>909</td>\n",
       "      <td>362585</td>\n",
       "    </tr>\n",
       "    <tr>\n",
       "      <th>staten/richmond</th>\n",
       "      <td>40</td>\n",
       "      <td>78</td>\n",
       "      <td>134127</td>\n",
       "    </tr>\n",
       "  </tbody>\n",
       "</table>\n",
       "</div>"
      ],
      "text/plain": [
       "                    public  government  taxable\n",
       "borough                                        \n",
       "Brooklyn/kings         395        2742   330704\n",
       "Manhattan/new york     196        2254   151532\n",
       "bronx/bronx            115         144   102676\n",
       "queens/queens          242         909   362585\n",
       "staten/richmond         40          78   134127"
      ]
     },
     "execution_count": 57,
     "metadata": {},
     "output_type": "execute_result"
    }
   ],
   "source": [
    "df_types"
   ]
  },
  {
   "cell_type": "code",
   "execution_count": 58,
   "metadata": {
    "collapsed": true
   },
   "outputs": [],
   "source": [
    "df_types['public per taxable'] = (df_types['public']/df_types['taxable'])"
   ]
  },
  {
   "cell_type": "code",
   "execution_count": 59,
   "metadata": {
    "collapsed": false
   },
   "outputs": [
    {
     "data": {
      "text/html": [
       "<div>\n",
       "<table border=\"1\" class=\"dataframe\">\n",
       "  <thead>\n",
       "    <tr style=\"text-align: right;\">\n",
       "      <th></th>\n",
       "      <th>public</th>\n",
       "      <th>government</th>\n",
       "      <th>taxable</th>\n",
       "      <th>public per taxable</th>\n",
       "    </tr>\n",
       "    <tr>\n",
       "      <th>borough</th>\n",
       "      <th></th>\n",
       "      <th></th>\n",
       "      <th></th>\n",
       "      <th></th>\n",
       "    </tr>\n",
       "  </thead>\n",
       "  <tbody>\n",
       "    <tr>\n",
       "      <th>Brooklyn/kings</th>\n",
       "      <td>395</td>\n",
       "      <td>2742</td>\n",
       "      <td>330704</td>\n",
       "      <td>0.001194</td>\n",
       "    </tr>\n",
       "    <tr>\n",
       "      <th>Manhattan/new york</th>\n",
       "      <td>196</td>\n",
       "      <td>2254</td>\n",
       "      <td>151532</td>\n",
       "      <td>0.001293</td>\n",
       "    </tr>\n",
       "    <tr>\n",
       "      <th>bronx/bronx</th>\n",
       "      <td>115</td>\n",
       "      <td>144</td>\n",
       "      <td>102676</td>\n",
       "      <td>0.001120</td>\n",
       "    </tr>\n",
       "    <tr>\n",
       "      <th>queens/queens</th>\n",
       "      <td>242</td>\n",
       "      <td>909</td>\n",
       "      <td>362585</td>\n",
       "      <td>0.000667</td>\n",
       "    </tr>\n",
       "    <tr>\n",
       "      <th>staten/richmond</th>\n",
       "      <td>40</td>\n",
       "      <td>78</td>\n",
       "      <td>134127</td>\n",
       "      <td>0.000298</td>\n",
       "    </tr>\n",
       "  </tbody>\n",
       "</table>\n",
       "</div>"
      ],
      "text/plain": [
       "                    public  government  taxable  public per taxable\n",
       "borough                                                            \n",
       "Brooklyn/kings         395        2742   330704            0.001194\n",
       "Manhattan/new york     196        2254   151532            0.001293\n",
       "bronx/bronx            115         144   102676            0.001120\n",
       "queens/queens          242         909   362585            0.000667\n",
       "staten/richmond         40          78   134127            0.000298"
      ]
     },
     "execution_count": 59,
     "metadata": {},
     "output_type": "execute_result"
    }
   ],
   "source": [
    "df_types"
   ]
  },
  {
   "cell_type": "code",
   "execution_count": 60,
   "metadata": {
    "collapsed": true
   },
   "outputs": [],
   "source": [
    "df_types['govt per taxable'] = (df_types['government']/df_types['taxable'])"
   ]
  },
  {
   "cell_type": "code",
   "execution_count": 61,
   "metadata": {
    "collapsed": false
   },
   "outputs": [
    {
     "data": {
      "text/html": [
       "<div>\n",
       "<table border=\"1\" class=\"dataframe\">\n",
       "  <thead>\n",
       "    <tr style=\"text-align: right;\">\n",
       "      <th></th>\n",
       "      <th>public</th>\n",
       "      <th>government</th>\n",
       "      <th>taxable</th>\n",
       "      <th>public per taxable</th>\n",
       "      <th>govt per taxable</th>\n",
       "    </tr>\n",
       "    <tr>\n",
       "      <th>borough</th>\n",
       "      <th></th>\n",
       "      <th></th>\n",
       "      <th></th>\n",
       "      <th></th>\n",
       "      <th></th>\n",
       "    </tr>\n",
       "  </thead>\n",
       "  <tbody>\n",
       "    <tr>\n",
       "      <th>Brooklyn/kings</th>\n",
       "      <td>395</td>\n",
       "      <td>2742</td>\n",
       "      <td>330704</td>\n",
       "      <td>0.001194</td>\n",
       "      <td>0.008291</td>\n",
       "    </tr>\n",
       "    <tr>\n",
       "      <th>Manhattan/new york</th>\n",
       "      <td>196</td>\n",
       "      <td>2254</td>\n",
       "      <td>151532</td>\n",
       "      <td>0.001293</td>\n",
       "      <td>0.014875</td>\n",
       "    </tr>\n",
       "    <tr>\n",
       "      <th>bronx/bronx</th>\n",
       "      <td>115</td>\n",
       "      <td>144</td>\n",
       "      <td>102676</td>\n",
       "      <td>0.001120</td>\n",
       "      <td>0.001402</td>\n",
       "    </tr>\n",
       "    <tr>\n",
       "      <th>queens/queens</th>\n",
       "      <td>242</td>\n",
       "      <td>909</td>\n",
       "      <td>362585</td>\n",
       "      <td>0.000667</td>\n",
       "      <td>0.002507</td>\n",
       "    </tr>\n",
       "    <tr>\n",
       "      <th>staten/richmond</th>\n",
       "      <td>40</td>\n",
       "      <td>78</td>\n",
       "      <td>134127</td>\n",
       "      <td>0.000298</td>\n",
       "      <td>0.000582</td>\n",
       "    </tr>\n",
       "  </tbody>\n",
       "</table>\n",
       "</div>"
      ],
      "text/plain": [
       "                    public  government  taxable  public per taxable  \\\n",
       "borough                                                               \n",
       "Brooklyn/kings         395        2742   330704            0.001194   \n",
       "Manhattan/new york     196        2254   151532            0.001293   \n",
       "bronx/bronx            115         144   102676            0.001120   \n",
       "queens/queens          242         909   362585            0.000667   \n",
       "staten/richmond         40          78   134127            0.000298   \n",
       "\n",
       "                    govt per taxable  \n",
       "borough                               \n",
       "Brooklyn/kings              0.008291  \n",
       "Manhattan/new york          0.014875  \n",
       "bronx/bronx                 0.001402  \n",
       "queens/queens               0.002507  \n",
       "staten/richmond             0.000582  "
      ]
     },
     "execution_count": 61,
     "metadata": {},
     "output_type": "execute_result"
    }
   ],
   "source": [
    "df_types"
   ]
  },
  {
   "cell_type": "code",
   "execution_count": 62,
   "metadata": {
    "collapsed": false
   },
   "outputs": [
    {
     "data": {
      "image/png": "[encoded data removed]",
      "text/plain": [
       "<matplotlib.figure.Figure at 0x11595f048>"
      ]
     },
     "metadata": {},
     "output_type": "display_data"
    }
   ],
   "source": [
    "plt.figure(1)\n",
    "plt.subplot(211)\n",
    "df_types['public per taxable'].plot( label = 'public places')\n",
    "df_types['govt per taxable'].plot( label = 'govt buildings')\n",
    "plt.legend()\n",
    "\n",
    "plt.subplot(212)\n",
    "(overall_group_borough_sum['propertytax']/taxable_lots_borough.count()).plot(kind = 'line')\n",
    "plt.legend()\n",
    "plt.tight_layout()\n",
    "plt.show()"
   ]
  },
  {
   "cell_type": "code",
   "execution_count": 63,
   "metadata": {
    "collapsed": false
   },
   "outputs": [
    {
     "data": {
      "image/png": "[encoded data removed]",
      "text/plain": [
       "<matplotlib.figure.Figure at 0x115274e48>"
      ]
     },
     "metadata": {},
     "output_type": "display_data"
    }
   ],
   "source": [
    "#lets Plot public places separately to get a better idea\n",
    "plt.figure(1)\n",
    "plt.subplot(311)\n",
    "df_types['public per taxable'].plot( title = 'public places')\n",
    "\n",
    "plt.subplot(312)\n",
    "(overall_group_borough_sum['propertytax']/taxable_lots_borough.count()).plot(kind = 'line', title = 'tax per lot')\n",
    "\n",
    "plt.subplot(313)\n",
    "df_types['govt per taxable'].plot( title = 'govt buildings')\n",
    "\n",
    "plt.tight_layout()\n",
    "plt.show()"
   ]
  },
  {
   "cell_type": "code",
   "execution_count": 64,
   "metadata": {
    "collapsed": true
   },
   "outputs": [],
   "source": [
    "#Plotting the average for all 5 borough also with the graphs\n",
    "tax_per_lot = (df['propertytax'].sum()/df[(df['propertytax'].isnull() == False)]['lot'].count())\n",
    "public_per_lot = df_public['lot'].count()/df[(df['propertytax'].isnull() == False)]['lot'].count()\n",
    "govt_per_lot = df_govt['lot'].count()/df[df['propertytax'].isnull() == False]['lot'].count()"
   ]
  },
  {
   "cell_type": "code",
   "execution_count": 65,
   "metadata": {
    "collapsed": false
   },
   "outputs": [
    {
     "data": {
      "image/png": "[encoded data removed]",
      "text/plain": [
       "<matplotlib.figure.Figure at 0x116f04358>"
      ]
     },
     "metadata": {},
     "output_type": "display_data"
    }
   ],
   "source": [
    "#plotting\n",
    "plt.figure(figsize=(10, 8))\n",
    "plt.subplot(311)\n",
    "df_types['public per taxable'].plot( title = 'public places')\n",
    "plt.axhline(y=public_per_lot, color='r', linestyle='-')\n",
    "\n",
    "plt.subplot(312)\n",
    "(overall_group_borough_sum['propertytax']/taxable_lots_borough.count()).plot(kind = 'line', title = 'tax per lot')\n",
    "plt.axhline(y=tax_per_lot, color='r', linestyle='-')\n",
    "\n",
    "plt.subplot(313)\n",
    "df_types['govt per taxable'].plot( title = 'govt buildings')\n",
    "plt.axhline(y=govt_per_lot, color='r', linestyle='-')\n",
    "\n",
    "\n",
    "plt.tight_layout()\n",
    "plt.show()"
   ]
  },
  {
   "cell_type": "code",
   "execution_count": 66,
   "metadata": {
    "collapsed": false
   },
   "outputs": [
    {
     "data": {
      "image/png": "[encoded data removed]",
      "text/plain": [
       "<matplotlib.figure.Figure at 0x116efe748>"
      ]
     },
     "metadata": {},
     "output_type": "display_data"
    }
   ],
   "source": [
    "#Increasing size for better visualization\n",
    "plt.figure(figsize=(7,8))\n",
    "plt.subplot(311)\n",
    "df_types['public per taxable'].plot( title = 'public places')\n",
    "plt.axhline(y=public_per_lot, color='r', linestyle='-')\n",
    "\n",
    "plt.subplot(312)\n",
    "(overall_group_borough_sum['propertytax']/taxable_lots_borough.count()).plot(kind = 'line', title = 'tax per lot')\n",
    "plt.axhline(y=tax_per_lot, color='r', linestyle='-')\n",
    "\n",
    "plt.subplot(313)\n",
    "df_types['govt per taxable'].plot( title = 'govt buildings')\n",
    "plt.axhline(y=govt_per_lot, color='r', linestyle='-')\n",
    "\n",
    "\n",
    "plt.tight_layout()\n",
    "plt.show()"
   ]
  },
  {
   "cell_type": "code",
   "execution_count": 74,
   "metadata": {
    "collapsed": false
   },
   "outputs": [
    {
     "data": {
      "text/plain": [
       "0.992464109524197"
      ]
     },
     "execution_count": 74,
     "metadata": {},
     "output_type": "execute_result"
    }
   ],
   "source": [
    "#We can see that bronx and brooklyn maintain more number of public places despite charging lesser property tax, a sign of\n",
    "#effecient tax expenditure\n",
    "df[(df['propertytax'].isnull() == False) & (df['taxclass'].isnull() == False)].shape[0]/df.shape[0]"
   ]
  },
  {
   "cell_type": "code",
   "execution_count": 75,
   "metadata": {
    "collapsed": false
   },
   "outputs": [
    {
     "data": {
      "text/plain": [
       "(2015, 12)"
      ]
     },
     "execution_count": 75,
     "metadata": {},
     "output_type": "execute_result"
    }
   ],
   "source": [
    "df_vacant.shape"
   ]
  },
  {
   "cell_type": "code",
   "execution_count": 76,
   "metadata": {
    "collapsed": false
   },
   "outputs": [
    {
     "data": {
      "text/plain": [
       "array(['4 - commercial property', nan,\n",
       "       '2a - 4-6 unit residential building',\n",
       "       ' 2 - residential, more than 10 units',\n",
       "       ' 2c - co-op or condo, less than 11 units',\n",
       "       '2b - 7-10 unit residential building',\n",
       "       ' 1 - small home, less than 4 families', '3 - utility property',\n",
       "       '1c - condo in 1-3 unit building',\n",
       "       '1a - condo unit in 1-3 story building',\n",
       "       ' 1b - vacant land, zoned residential', '1d - bungalow colony'], dtype=object)"
      ]
     },
     "execution_count": 76,
     "metadata": {},
     "output_type": "execute_result"
    }
   ],
   "source": [
    "df['taxclass'].unique()"
   ]
  },
  {
   "cell_type": "code",
   "execution_count": 77,
   "metadata": {
    "collapsed": false
   },
   "outputs": [
    {
     "data": {
      "text/plain": [
       "24019"
      ]
     },
     "execution_count": 77,
     "metadata": {},
     "output_type": "execute_result"
    }
   ],
   "source": [
    "df[df['taxclass'] == ' 1b - vacant land, zoned residential'].shape[0] + df_vacant.shape[0]"
   ]
  },
  {
   "cell_type": "code",
   "execution_count": 78,
   "metadata": {
    "collapsed": false
   },
   "outputs": [
    {
     "data": {
      "text/plain": [
       "0.022206422934402344"
      ]
     },
     "execution_count": 78,
     "metadata": {},
     "output_type": "execute_result"
    }
   ],
   "source": [
    "(df[df['taxclass'] == ' 1b - vacant land, zoned residential'].shape[0] + df_vacant.shape[0])/df.shape[0]"
   ]
  },
  {
   "cell_type": "code",
   "execution_count": 84,
   "metadata": {
    "collapsed": true
   },
   "outputs": [],
   "source": [
    "#from the above ratio, we can conclude that very low (~2%) of properties are vacant. Also, of the vacant, majority are zoned\n",
    "#resedential(24019) against the non-zoned vacatnt(2015). Let's separate the resendtial and commercial properties.\n",
    "df_resd = df[(df['taxclass'].isnull() == False) & (df['taxclass'] != '3 - utility property') & (df['taxclass'] != '4 - commercial property')]\n",
    "df_comm = df[(df['taxclass'].isnull() == False) & ((df['taxclass'] == '3 - utility property') | (df['taxclass'] == '4 - commercial property'))]"
   ]
  },
  {
   "cell_type": "code",
   "execution_count": 85,
   "metadata": {
    "collapsed": false
   },
   "outputs": [
    {
     "data": {
      "text/plain": [
       "(106727, 12)"
      ]
     },
     "execution_count": 85,
     "metadata": {},
     "output_type": "execute_result"
    }
   ],
   "source": [
    "df_comm.shape"
   ]
  },
  {
   "cell_type": "code",
   "execution_count": 86,
   "metadata": {
    "collapsed": false
   },
   "outputs": [
    {
     "data": {
      "text/plain": [
       "(966746, 12)"
      ]
     },
     "execution_count": 86,
     "metadata": {},
     "output_type": "execute_result"
    }
   ],
   "source": [
    "df_resd.shape"
   ]
  },
  {
   "cell_type": "code",
   "execution_count": 87,
   "metadata": {
    "collapsed": false
   },
   "outputs": [
    {
     "data": {
      "text/plain": [
       "9.058120250733179"
      ]
     },
     "execution_count": 87,
     "metadata": {},
     "output_type": "execute_result"
    }
   ],
   "source": [
    "df_resd.shape[0]/df_comm.shape[0]"
   ]
  },
  {
   "cell_type": "code",
   "execution_count": 88,
   "metadata": {
    "collapsed": false
   },
   "outputs": [
    {
     "data": {
      "text/plain": [
       "0.8937911880653536"
      ]
     },
     "execution_count": 88,
     "metadata": {},
     "output_type": "execute_result"
    }
   ],
   "source": [
    "df_resd.shape[0]/df.shape[0]"
   ]
  },
  {
   "cell_type": "code",
   "execution_count": 89,
   "metadata": {
    "collapsed": false
   },
   "outputs": [
    {
     "data": {
      "text/plain": [
       "0.09867292145884336"
      ]
     },
     "execution_count": 89,
     "metadata": {},
     "output_type": "execute_result"
    }
   ],
   "source": [
    "df_comm.shape[0]/df.shape[0]"
   ]
  },
  {
   "cell_type": "code",
   "execution_count": null,
   "metadata": {
    "collapsed": true
   },
   "outputs": [],
   "source": []
  }
 ],
 "metadata": {
  "anaconda-cloud": {},
  "kernelspec": {
   "display_name": "Python [default]",
   "language": "python",
   "name": "python3"
  },
  "language_info": {
   "codemirror_mode": {
    "name": "ipython",
    "version": 3
   },
   "file_extension": ".py",
   "mimetype": "text/x-python",
   "name": "python",
   "nbconvert_exporter": "python",
   "pygments_lexer": "ipython3",
   "version": "3.5.2"
  }
 },
 "nbformat": 4,
 "nbformat_minor": 1
}
