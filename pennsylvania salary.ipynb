{
 "cells": [
  {
   "cell_type": "code",
   "execution_count": 1,
   "metadata": {
    "collapsed": true
   },
   "outputs": [],
   "source": [
    "import matplotlib.pyplot as plt\n",
    "import seaborn as sns\n",
    "import numpy as np\n",
    "import re\n",
    "import pandas as pd\n",
    "%matplotlib inline"
   ]
  },
  {
   "cell_type": "code",
   "execution_count": 2,
   "metadata": {
    "collapsed": true
   },
   "outputs": [],
   "source": [
    "data = pd.read_csv('2013_Salaries__Pennsylvania_State_System_of_Higher_Education.csv')"
   ]
  },
  {
   "cell_type": "code",
   "execution_count": 3,
   "metadata": {
    "collapsed": false
   },
   "outputs": [
    {
     "data": {
      "text/html": [
       "<div>\n",
       "<table border=\"1\" class=\"dataframe\">\n",
       "  <thead>\n",
       "    <tr style=\"text-align: right;\">\n",
       "      <th></th>\n",
       "      <th>Name</th>\n",
       "      <th>Base Pay</th>\n",
       "      <th>University or Office</th>\n",
       "      <th>Position</th>\n",
       "    </tr>\n",
       "  </thead>\n",
       "  <tbody>\n",
       "    <tr>\n",
       "      <th>count</th>\n",
       "      <td>12632</td>\n",
       "      <td>12632</td>\n",
       "      <td>12632</td>\n",
       "      <td>12632</td>\n",
       "    </tr>\n",
       "    <tr>\n",
       "      <th>unique</th>\n",
       "      <td>12583</td>\n",
       "      <td>2126</td>\n",
       "      <td>15</td>\n",
       "      <td>3315</td>\n",
       "    </tr>\n",
       "    <tr>\n",
       "      <th>top</th>\n",
       "      <td>Tucker, Joanne M</td>\n",
       "      <td>$107870</td>\n",
       "      <td>West Chester</td>\n",
       "      <td>Assistant Professor</td>\n",
       "    </tr>\n",
       "    <tr>\n",
       "      <th>freq</th>\n",
       "      <td>2</td>\n",
       "      <td>764</td>\n",
       "      <td>1628</td>\n",
       "      <td>1196</td>\n",
       "    </tr>\n",
       "  </tbody>\n",
       "</table>\n",
       "</div>"
      ],
      "text/plain": [
       "                    Name Base Pay University or Office             Position\n",
       "count              12632    12632                12632                12632\n",
       "unique             12583     2126                   15                 3315\n",
       "top     Tucker, Joanne M  $107870         West Chester  Assistant Professor\n",
       "freq                   2      764                 1628                 1196"
      ]
     },
     "execution_count": 3,
     "metadata": {},
     "output_type": "execute_result"
    }
   ],
   "source": [
    "data.describe()"
   ]
  },
  {
   "cell_type": "code",
   "execution_count": 4,
   "metadata": {
    "collapsed": false
   },
   "outputs": [
    {
     "data": {
      "text/plain": [
       "array(['University President', 'Provost & VP Academic Affairs',\n",
       "       'Provost & VP for Academic Affairs', ...,\n",
       "       'Vice President/Fin.Admin',\n",
       "       'Vice Chancellor Academic & Student Affairs', 'Chancellor'], dtype=object)"
      ]
     },
     "execution_count": 4,
     "metadata": {},
     "output_type": "execute_result"
    }
   ],
   "source": [
    "data['Position'].unique()"
   ]
  },
  {
   "cell_type": "code",
   "execution_count": 5,
   "metadata": {
    "collapsed": false
   },
   "outputs": [
    {
     "data": {
      "text/plain": [
       "False"
      ]
     },
     "execution_count": 5,
     "metadata": {},
     "output_type": "execute_result"
    }
   ],
   "source": [
    "data.isnull().values.any()"
   ]
  },
  {
   "cell_type": "code",
   "execution_count": 6,
   "metadata": {
    "collapsed": false
   },
   "outputs": [
    {
     "data": {
      "text/plain": [
       "Name                    object\n",
       "Base Pay                object\n",
       "University or Office    object\n",
       "Position                object\n",
       "dtype: object"
      ]
     },
     "execution_count": 6,
     "metadata": {},
     "output_type": "execute_result"
    }
   ],
   "source": [
    "data.dtypes"
   ]
  },
  {
   "cell_type": "code",
   "execution_count": 7,
   "metadata": {
    "collapsed": true
   },
   "outputs": [],
   "source": [
    "data['Base Pay'] = data['Base Pay'].apply(lambda f: f[1:])"
   ]
  },
  {
   "cell_type": "code",
   "execution_count": 8,
   "metadata": {
    "collapsed": false
   },
   "outputs": [
    {
     "data": {
      "text/plain": [
       "Name                    object\n",
       "Base Pay                object\n",
       "University or Office    object\n",
       "Position                object\n",
       "dtype: object"
      ]
     },
     "execution_count": 8,
     "metadata": {},
     "output_type": "execute_result"
    }
   ],
   "source": [
    "data.dtypes"
   ]
  },
  {
   "cell_type": "code",
   "execution_count": 9,
   "metadata": {
    "collapsed": true
   },
   "outputs": [],
   "source": [
    "data['Base Pay'] = data['Base Pay'].apply(lambda f: int(f))"
   ]
  },
  {
   "cell_type": "code",
   "execution_count": 10,
   "metadata": {
    "collapsed": false
   },
   "outputs": [
    {
     "data": {
      "text/plain": [
       "Name                    object\n",
       "Base Pay                 int64\n",
       "University or Office    object\n",
       "Position                object\n",
       "dtype: object"
      ]
     },
     "execution_count": 10,
     "metadata": {},
     "output_type": "execute_result"
    }
   ],
   "source": [
    "data.dtypes"
   ]
  },
  {
   "cell_type": "code",
   "execution_count": 11,
   "metadata": {
    "collapsed": false
   },
   "outputs": [
    {
     "data": {
      "image/png": "[encoded data removed]",
      "text/plain": [
       "<matplotlib.figure.Figure at 0x283a030d30>"
      ]
     },
     "metadata": {},
     "output_type": "display_data"
    }
   ],
   "source": [
    "data['Base Pay'].hist()\n",
    "plt.show()"
   ]
  },
  {
   "cell_type": "code",
   "execution_count": 12,
   "metadata": {
    "collapsed": false
   },
   "outputs": [
    {
     "data": {
      "image/png": "[encoded data removed]",
      "text/plain": [
       "<matplotlib.figure.Figure at 0x28366dcc88>"
      ]
     },
     "metadata": {},
     "output_type": "display_data"
    }
   ],
   "source": [
    "data['Base Pay'].hist(bins = 1000)\n",
    "plt.show()"
   ]
  },
  {
   "cell_type": "code",
   "execution_count": 13,
   "metadata": {
    "collapsed": false
   },
   "outputs": [
    {
     "data": {
      "text/plain": [
       "1245"
      ]
     },
     "execution_count": 13,
     "metadata": {},
     "output_type": "execute_result"
    }
   ],
   "source": [
    "data['Base Pay'].min()"
   ]
  },
  {
   "cell_type": "code",
   "execution_count": 14,
   "metadata": {
    "collapsed": false
   },
   "outputs": [
    {
     "data": {
      "text/plain": [
       "327500"
      ]
     },
     "execution_count": 14,
     "metadata": {},
     "output_type": "execute_result"
    }
   ],
   "source": [
    "data['Base Pay'].max()"
   ]
  },
  {
   "cell_type": "code",
   "execution_count": 15,
   "metadata": {
    "collapsed": false
   },
   "outputs": [
    {
     "name": "stderr",
     "output_type": "stream",
     "text": [
      "C:\\Anaconda3\\lib\\site-packages\\ipykernel\\__main__.py:1: FutureWarning: \n",
      "The default value for 'return_type' will change to 'axes' in a future release.\n",
      " To use the future behavior now, set return_type='axes'.\n",
      " To keep the previous behavior and silence this warning, set return_type='dict'.\n",
      "  if __name__ == '__main__':\n"
     ]
    },
    {
     "data": {
      "text/plain": [
       "{'boxes': [<matplotlib.lines.Line2D at 0x283b0b40b8>],\n",
       " 'caps': [<matplotlib.lines.Line2D at 0x283b12e240>,\n",
       "  <matplotlib.lines.Line2D at 0x283b158ac8>],\n",
       " 'fliers': [<matplotlib.lines.Line2D at 0x283b1c67f0>],\n",
       " 'means': [],\n",
       " 'medians': [<matplotlib.lines.Line2D at 0x283b18ebe0>],\n",
       " 'whiskers': [<matplotlib.lines.Line2D at 0x283b0c9f60>,\n",
       "  <matplotlib.lines.Line2D at 0x283b0fdb70>]}"
      ]
     },
     "execution_count": 15,
     "metadata": {},
     "output_type": "execute_result"
    },
    {
     "data": {
      "image/png": "[encoded data removed]",
      "text/plain": [
       "<matplotlib.figure.Figure at 0x283a524c88>"
      ]
     },
     "metadata": {},
     "output_type": "display_data"
    }
   ],
   "source": [
    "data.boxplot(column='Base Pay')"
   ]
  },
  {
   "cell_type": "code",
   "execution_count": 16,
   "metadata": {
    "collapsed": true
   },
   "outputs": [],
   "source": [
    "group_pos = data['Base Pay'].groupby(data['Position'])"
   ]
  },
  {
   "cell_type": "code",
   "execution_count": 17,
   "metadata": {
    "collapsed": true
   },
   "outputs": [],
   "source": [
    "group_place = data['Base Pay'].groupby(data['University or Office'])"
   ]
  },
  {
   "cell_type": "code",
   "execution_count": 18,
   "metadata": {
    "collapsed": false
   },
   "outputs": [
    {
     "data": {
      "text/plain": [
       "Position                                       \n",
       "12 Mos-Assoc Prof Admin/Dir of Athletics  count         1.000000\n",
       "                                          mean     115723.000000\n",
       "                                          std                NaN\n",
       "                                          min      115723.000000\n",
       "                                          25%      115723.000000\n",
       "                                          50%      115723.000000\n",
       "                                          75%      115723.000000\n",
       "                                          max      115723.000000\n",
       "12 Mos-Asst. Prof. Asst. Athletic Direc   count         1.000000\n",
       "                                          mean      90618.000000\n",
       "                                          std                NaN\n",
       "                                          min       90618.000000\n",
       "                                          25%       90618.000000\n",
       "                                          50%       90618.000000\n",
       "                                          75%       90618.000000\n",
       "                                          max       90618.000000\n",
       "55_Grant Funded Position                  count         3.000000\n",
       "                                          mean      44924.000000\n",
       "                                          std       21548.192755\n",
       "                                          min       22398.000000\n",
       "                                          25%       34716.500000\n",
       "                                          50%       47035.000000\n",
       "                                          75%       56187.000000\n",
       "                                          max       65339.000000\n",
       "9 Mo Asst. Director of Admissions         count         1.000000\n",
       "                                          mean      36270.000000\n",
       "                                          std                NaN\n",
       "                                          min       36270.000000\n",
       "                                          25%       36270.000000\n",
       "                                          50%       36270.000000\n",
       "                                                       ...      \n",
       "Womens Basketball Coach                   std                NaN\n",
       "                                          min       94009.000000\n",
       "                                          25%       94009.000000\n",
       "                                          50%       94009.000000\n",
       "                                          75%       94009.000000\n",
       "                                          max       94009.000000\n",
       "Work Control Specialist                   count         1.000000\n",
       "                                          mean      30416.000000\n",
       "                                          std                NaN\n",
       "                                          min       30416.000000\n",
       "                                          25%       30416.000000\n",
       "                                          50%       30416.000000\n",
       "                                          75%       30416.000000\n",
       "                                          max       30416.000000\n",
       "Workers Compensation Manager              count         1.000000\n",
       "                                          mean      58639.000000\n",
       "                                          std                NaN\n",
       "                                          min       58639.000000\n",
       "                                          25%       58639.000000\n",
       "                                          50%       58639.000000\n",
       "                                          75%       58639.000000\n",
       "                                          max       58639.000000\n",
       "Wtr Trmt Plnt Opr                         count         1.000000\n",
       "                                          mean      45360.000000\n",
       "                                          std                NaN\n",
       "                                          min       45360.000000\n",
       "                                          25%       45360.000000\n",
       "                                          50%       45360.000000\n",
       "                                          75%       45360.000000\n",
       "                                          max       45360.000000\n",
       "Name: Base Pay, dtype: float64"
      ]
     },
     "execution_count": 18,
     "metadata": {},
     "output_type": "execute_result"
    }
   ],
   "source": [
    "group_pos.describe()"
   ]
  },
  {
   "cell_type": "code",
   "execution_count": 19,
   "metadata": {
    "collapsed": true
   },
   "outputs": [],
   "source": [
    "group_pos_mean = group_pos.mean()"
   ]
  },
  {
   "cell_type": "code",
   "execution_count": 20,
   "metadata": {
    "collapsed": false
   },
   "outputs": [
    {
     "data": {
      "text/plain": [
       "Position\n",
       "12 Mos-Assoc Prof Admin/Dir of Athletics    115723.000000\n",
       "12 Mos-Asst. Prof. Asst. Athletic Direc      90618.000000\n",
       "55_Grant Funded Position                     44924.000000\n",
       "9 Mo Asst. Director of Admissions            36270.000000\n",
       "9MO Coord Student Srvc                       54257.000000\n",
       "9Mo Admissions Counselor                     31305.000000\n",
       "9Mo Area Coordinator                         35917.500000\n",
       "9Mo Asst Dir Pgm & Ldrshp                    44220.000000\n",
       "9Mo Coord, Campus Program & Recreation       34530.000000\n",
       "9Mo Coordinator of Career Services           37185.000000\n",
       "9Mo Coordinator, Assistive TechnologyCtr     45300.000000\n",
       "9Mo Dir - Women's Center                     39045.000000\n",
       "9Mo Dir-Wellness Programs                    48780.000000\n",
       "9Mo Interpreter                              48780.000000\n",
       "9Mo Residence Coord                          35415.000000\n",
       "9Mo Residence Coordinator                    30540.000000\n",
       "9MoResidence Hall Director                   34972.500000\n",
       "9MosResidence Hall Director                  29055.000000\n",
       "9mo-Interpreter                              48487.500000\n",
       "ACT101 Counselor & Disabilities Spec.        71002.000000\n",
       "ADA Coordinator                              75639.000000\n",
       "ADA-Eastern Regional Recruiter               49741.000000\n",
       "AVP - Finance & Bus Svcs                    121000.000000\n",
       "AVP, Acad Srvcs & PreCollegiate Prgm         97203.000000\n",
       "AVP-Enrollment Mgmt                         110885.000000\n",
       "Ac Dept Chair/Dir MS Inter Program           78531.000000\n",
       "Acad Affairs Budget Mgr                      84478.000000\n",
       "Acad Dept Chair                              74791.000000\n",
       "Acad Dept Chair/Chair Ac Aff Assess Team     74791.000000\n",
       "Academic Advisement Coord, Nontrad'l Stu     84469.000000\n",
       "                                                ...      \n",
       "Video Production Specialist                  39037.000000\n",
       "Video Services Director                      59858.000000\n",
       "Video Technology Coordinator                 37979.000000\n",
       "WEDnet Program Mgr                           53820.000000\n",
       "Water Plant Operator                         42445.000000\n",
       "Web Applications Dev Manager                 61829.000000\n",
       "Web Applications Programmer                  68949.000000\n",
       "Web Commun & Mkting Spec.                    47250.000000\n",
       "Web Content Developer                        44362.000000\n",
       "Web Content Manager                          62033.000000\n",
       "Web Designer                                 48317.000000\n",
       "Web Developer                                53727.000000\n",
       "Web Development Team Lead                    65782.000000\n",
       "Web Editor/Producer                          43837.000000\n",
       "Web Integration Manager                      63000.000000\n",
       "Web Manager                                  55216.000000\n",
       "Web Master & Mgr Application Dev             59967.000000\n",
       "Web Programmer                               40548.000000\n",
       "Web Specialist                               50481.666667\n",
       "Web Specialist 2                             48450.000000\n",
       "Web Specialist 3                             50660.000000\n",
       "Web Technical Specialist                     50925.000000\n",
       "Welcome Center/Stud Orient Dir               81428.000000\n",
       "Welder                                       30416.000000\n",
       "Wellness & Sport Sciences Dept Secretary     45360.000000\n",
       "Women's Ctr/PEACE Director                   81428.000000\n",
       "Womens Basketball Coach                      94009.000000\n",
       "Work Control Specialist                      30416.000000\n",
       "Workers Compensation Manager                 58639.000000\n",
       "Wtr Trmt Plnt Opr                            45360.000000\n",
       "Name: Base Pay, dtype: float64"
      ]
     },
     "execution_count": 20,
     "metadata": {},
     "output_type": "execute_result"
    }
   ],
   "source": [
    "group_pos_mean"
   ]
  },
  {
   "cell_type": "code",
   "execution_count": 21,
   "metadata": {
    "collapsed": false
   },
   "outputs": [
    {
     "data": {
      "text/plain": [
       "count      3315.000000\n",
       "mean      63439.735566\n",
       "std       31096.261717\n",
       "min        2818.000000\n",
       "25%       43247.000000\n",
       "50%       57171.000000\n",
       "75%       78531.000000\n",
       "max      327500.000000\n",
       "Name: Base Pay, dtype: float64"
      ]
     },
     "execution_count": 21,
     "metadata": {},
     "output_type": "execute_result"
    }
   ],
   "source": [
    "group_pos_mean.describe()"
   ]
  },
  {
   "cell_type": "code",
   "execution_count": 22,
   "metadata": {
    "collapsed": false
   },
   "outputs": [
    {
     "data": {
      "text/plain": [
       "63439.73556639751"
      ]
     },
     "execution_count": 22,
     "metadata": {},
     "output_type": "execute_result"
    }
   ],
   "source": [
    "group_pos_mean.mean()"
   ]
  },
  {
   "cell_type": "code",
   "execution_count": 23,
   "metadata": {
    "collapsed": false
   },
   "outputs": [
    {
     "data": {
      "text/plain": [
       "<matplotlib.axes._subplots.AxesSubplot at 0x283a4e8ac8>"
      ]
     },
     "execution_count": 23,
     "metadata": {},
     "output_type": "execute_result"
    },
    {
     "data": {
      "image/png": "[encoded data removed]",
      "text/plain": [
       "<matplotlib.figure.Figure at 0x283b7ca358>"
      ]
     },
     "metadata": {},
     "output_type": "display_data"
    }
   ],
   "source": [
    "group_pos_mean.head(20).plot(kind = 'line')"
   ]
  },
  {
   "cell_type": "code",
   "execution_count": 24,
   "metadata": {
    "collapsed": false
   },
   "outputs": [
    {
     "data": {
      "text/plain": [
       "count      3315.000000\n",
       "mean      63439.735566\n",
       "std       31096.261717\n",
       "min        2818.000000\n",
       "25%       43247.000000\n",
       "50%       57171.000000\n",
       "75%       78531.000000\n",
       "max      327500.000000\n",
       "Name: Base Pay, dtype: float64"
      ]
     },
     "execution_count": 24,
     "metadata": {},
     "output_type": "execute_result"
    }
   ],
   "source": [
    "group_pos_mean.describe()"
   ]
  },
  {
   "cell_type": "code",
   "execution_count": 25,
   "metadata": {
    "collapsed": false
   },
   "outputs": [
    {
     "data": {
      "text/plain": [
       "University or Office           \n",
       "Bloomsburg                count      1096.000000\n",
       "                          mean      56145.716241\n",
       "                          std       29721.213707\n",
       "                          min        1411.000000\n",
       "                          25%       34328.000000\n",
       "                          50%       49387.000000\n",
       "                          75%       74791.000000\n",
       "                          max      207197.000000\n",
       "California                count       884.000000\n",
       "                          mean      54780.910633\n",
       "                          std       29537.803172\n",
       "                          min        2491.000000\n",
       "                          25%       32372.000000\n",
       "                          50%       48343.500000\n",
       "                          75%       76661.000000\n",
       "                          max      200820.000000\n",
       "Cheyney                   count       287.000000\n",
       "                          mean      55316.965157\n",
       "                          std       28653.666798\n",
       "                          min        7445.000000\n",
       "                          25%       35511.000000\n",
       "                          50%       48489.000000\n",
       "                          75%       72983.500000\n",
       "                          max      202430.000000\n",
       "Clarion                   count       740.000000\n",
       "                          mean      57534.781081\n",
       "                          std       30327.695984\n",
       "                          min       11199.000000\n",
       "                          25%       34801.000000\n",
       "                          50%       51736.000000\n",
       "                                       ...      \n",
       "Office of the Chancellor  std       38058.490612\n",
       "                          min       30416.000000\n",
       "                          25%       51736.000000\n",
       "                          50%       73228.000000\n",
       "                          75%       90129.000000\n",
       "                          max      327500.000000\n",
       "Shippensburg              count       889.000000\n",
       "                          mean      59179.559055\n",
       "                          std       29600.901604\n",
       "                          min        3731.000000\n",
       "                          25%       35511.000000\n",
       "                          50%       54000.000000\n",
       "                          75%       78531.000000\n",
       "                          max      206196.000000\n",
       "Slippery Rock             count       909.000000\n",
       "                          mean      59639.678768\n",
       "                          std       29093.892904\n",
       "                          min        4480.000000\n",
       "                          25%       35071.000000\n",
       "                          50%       55810.000000\n",
       "                          75%       78531.000000\n",
       "                          max      225000.000000\n",
       "West Chester              count      1628.000000\n",
       "                          mean      55178.412776\n",
       "                          std       29976.622021\n",
       "                          min        1344.000000\n",
       "                          25%       32372.000000\n",
       "                          50%       47142.500000\n",
       "                          75%       76661.000000\n",
       "                          max      241935.000000\n",
       "Name: Base Pay, dtype: float64"
      ]
     },
     "execution_count": 25,
     "metadata": {},
     "output_type": "execute_result"
    }
   ],
   "source": [
    "group_place.describe()"
   ]
  },
  {
   "cell_type": "code",
   "execution_count": 26,
   "metadata": {
    "collapsed": true
   },
   "outputs": [],
   "source": [
    "group_place_mean = group_place.mean()"
   ]
  },
  {
   "cell_type": "code",
   "execution_count": 27,
   "metadata": {
    "collapsed": false
   },
   "outputs": [
    {
     "data": {
      "text/plain": [
       "count       15.000000\n",
       "mean     58600.054734\n",
       "std       5740.873860\n",
       "min      54092.442270\n",
       "25%      55247.688967\n",
       "50%      57534.781081\n",
       "75%      59366.121400\n",
       "max      77908.282051\n",
       "Name: Base Pay, dtype: float64"
      ]
     },
     "execution_count": 27,
     "metadata": {},
     "output_type": "execute_result"
    }
   ],
   "source": [
    "group_place_mean.describe()"
   ]
  },
  {
   "cell_type": "code",
   "execution_count": 28,
   "metadata": {
    "collapsed": false
   },
   "outputs": [
    {
     "data": {
      "text/plain": [
       "<matplotlib.axes._subplots.AxesSubplot at 0x283b7c5b70>"
      ]
     },
     "execution_count": 28,
     "metadata": {},
     "output_type": "execute_result"
    },
    {
     "data": {
      "image/png": "[encoded data removed]",
      "text/plain": [
       "<matplotlib.figure.Figure at 0x283a55c400>"
      ]
     },
     "metadata": {},
     "output_type": "display_data"
    }
   ],
   "source": [
    "group_place_mean.plot(kind = 'line')"
   ]
  },
  {
   "cell_type": "code",
   "execution_count": 29,
   "metadata": {
    "collapsed": true
   },
   "outputs": [],
   "source": [
    "pos_groupby_loc = data['Position'].groupby(data['University or Office'])"
   ]
  },
  {
   "cell_type": "code",
   "execution_count": 30,
   "metadata": {
    "collapsed": false
   },
   "outputs": [
    {
     "data": {
      "text/plain": [
       "University or Office            \n",
       "Bloomsburg                count                    1096\n",
       "                          unique                    333\n",
       "                          top           Instructor-Temp\n",
       "                          freq                      125\n",
       "California                count                     884\n",
       "                          unique                    319\n",
       "                          top       Associate Professor\n",
       "                          freq                       87\n",
       "Cheyney                   count                     287\n",
       "                          unique                    133\n",
       "                          top                Instructor\n",
       "                          freq                       36\n",
       "Clarion                   count                     740\n",
       "                          unique                    196\n",
       "                          top                Instructor\n",
       "                          freq                      117\n",
       "East Stroudsburg          count                     719\n",
       "                          unique                    430\n",
       "                          top        Custodial Worker 1\n",
       "                          freq                       55\n",
       "Edinboro                  count                     806\n",
       "                          unique                    209\n",
       "                          top                 Professor\n",
       "                          freq                      100\n",
       "Indiana                   count                    1501\n",
       "                          unique                    399\n",
       "                          top       Assistant Professor\n",
       "                          freq                      195\n",
       "Kutztown                  count                     990\n",
       "                          unique                    284\n",
       "                          top       Assistant Professor\n",
       "                          freq                      158\n",
       "Lock Haven                count                     566\n",
       "                          unique                    157\n",
       "                          top       Associate Professor\n",
       "                          freq                       73\n",
       "Mansfield                 count                     439\n",
       "                          unique                    336\n",
       "                          top                 Custodian\n",
       "                          freq                       20\n",
       "Millersville              count                    1022\n",
       "                          unique                    389\n",
       "                          top           Instructor TPTF\n",
       "                          freq                      126\n",
       "Office of the Chancellor  count                     156\n",
       "                          unique                    134\n",
       "                          top                Attorney 3\n",
       "                          freq                        6\n",
       "Shippensburg              count                     889\n",
       "                          unique                    273\n",
       "                          top       Associate Professor\n",
       "                          freq                      103\n",
       "Slippery Rock             count                     909\n",
       "                          unique                    276\n",
       "                          top       Assistant Professor\n",
       "                          freq                      140\n",
       "West Chester              count                    1628\n",
       "                          unique                    375\n",
       "                          top                Instructor\n",
       "                          freq                      259\n",
       "Name: Position, dtype: object"
      ]
     },
     "execution_count": 30,
     "metadata": {},
     "output_type": "execute_result"
    }
   ],
   "source": [
    "pos_groupby_loc.describe()"
   ]
  },
  {
   "cell_type": "code",
   "execution_count": 31,
   "metadata": {
    "collapsed": false
   },
   "outputs": [
    {
     "data": {
      "text/plain": [
       "pandas.core.groupby.SeriesGroupBy"
      ]
     },
     "execution_count": 31,
     "metadata": {},
     "output_type": "execute_result"
    }
   ],
   "source": [
    "type(pos_groupby_loc)"
   ]
  },
  {
   "cell_type": "code",
   "execution_count": 32,
   "metadata": {
    "collapsed": false
   },
   "outputs": [
    {
     "data": {
      "text/plain": [
       "University or Office\n",
       "Bloomsburg                                          Web Specialist 2\n",
       "California                              Workers Compensation Manager\n",
       "Cheyney                            Vice President of Student Affairs\n",
       "Clarion                                      Womens Basketball Coach\n",
       "East Stroudsburg                                         Web Manager\n",
       "Edinboro                                            Web Specialist 3\n",
       "Indiana                                          Web Editor/Producer\n",
       "Kutztown                                           Wtr Trmt Plnt Opr\n",
       "Lock Haven                                            Web Specialist\n",
       "Mansfield                           Web Master & Mgr Application Dev\n",
       "Millersville                Wellness & Sport Sciences Dept Secretary\n",
       "Office of the Chancellor                   Web Development Team Lead\n",
       "Shippensburg                                            Web Designer\n",
       "Slippery Rock                                          Web Developer\n",
       "West Chester                                Web Technical Specialist\n",
       "Name: Position, dtype: object"
      ]
     },
     "execution_count": 32,
     "metadata": {},
     "output_type": "execute_result"
    }
   ],
   "source": [
    "pos_groupby_loc.max()"
   ]
  },
  {
   "cell_type": "code",
   "execution_count": 33,
   "metadata": {
    "collapsed": true
   },
   "outputs": [],
   "source": [
    "pos_groupby_loc_max = pos_groupby_loc.max()"
   ]
  },
  {
   "cell_type": "code",
   "execution_count": null,
   "metadata": {
    "collapsed": true
   },
   "outputs": [],
   "source": []
  }
 ],
 "metadata": {
  "anaconda-cloud": {},
  "kernelspec": {
   "display_name": "Python [default]",
   "language": "python",
   "name": "python3"
  },
  "language_info": {
   "codemirror_mode": {
    "name": "ipython",
    "version": 3
   },
   "file_extension": ".py",
   "mimetype": "text/x-python",
   "name": "python",
   "nbconvert_exporter": "python",
   "pygments_lexer": "ipython3",
   "version": "3.5.2"
  }
 },
 "nbformat": 4,
 "nbformat_minor": 1
}
