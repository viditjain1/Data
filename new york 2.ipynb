{
 "cells": [
  {
   "cell_type": "code",
   "execution_count": 1,
   "metadata": {
    "collapsed": true
   },
   "outputs": [],
   "source": [
    "import pandas as pd\n",
    "import matplotlib.pyplot as plt\n",
    "import numpy as np\n",
    "import seaborn as sb\n",
    "%matplotlib inline"
   ]
  },
  {
   "cell_type": "code",
   "execution_count": 2,
   "metadata": {
    "collapsed": true
   },
   "outputs": [],
   "source": [
    "df = pd.read_csv('tax_bills_june15_bbls.csv')"
   ]
  },
  {
   "cell_type": "code",
   "execution_count": 3,
   "metadata": {
    "collapsed": false
   },
   "outputs": [
    {
     "name": "stderr",
     "output_type": "stream",
     "text": [
      "C:\\Anaconda3\\lib\\site-packages\\numpy\\lib\\function_base.py:3834: RuntimeWarning: Invalid value encountered in percentile\n",
      "  RuntimeWarning)\n"
     ]
    },
    {
     "data": {
      "text/html": [
       "<div>\n",
       "<table border=\"1\" class=\"dataframe\">\n",
       "  <thead>\n",
       "    <tr style=\"text-align: right;\">\n",
       "      <th></th>\n",
       "      <th>bbl</th>\n",
       "      <th>emv</th>\n",
       "      <th>tbea</th>\n",
       "      <th>bav</th>\n",
       "      <th>tba</th>\n",
       "      <th>propertytax</th>\n",
       "      <th>condonumber</th>\n",
       "    </tr>\n",
       "  </thead>\n",
       "  <tbody>\n",
       "    <tr>\n",
       "      <th>count</th>\n",
       "      <td>1.081624e+06</td>\n",
       "      <td>1.073473e+06</td>\n",
       "      <td>1.074509e+06</td>\n",
       "      <td>1.074509e+06</td>\n",
       "      <td>1.040176e+06</td>\n",
       "      <td>1.074509e+06</td>\n",
       "      <td>237110.000000</td>\n",
       "    </tr>\n",
       "    <tr>\n",
       "      <th>mean</th>\n",
       "      <td>3.255302e+09</td>\n",
       "      <td>1.072281e+06</td>\n",
       "      <td>3.210457e+04</td>\n",
       "      <td>2.681073e+05</td>\n",
       "      <td>2.136745e+04</td>\n",
       "      <td>2.012084e+04</td>\n",
       "      <td>973.276226</td>\n",
       "    </tr>\n",
       "    <tr>\n",
       "      <th>std</th>\n",
       "      <td>1.214484e+09</td>\n",
       "      <td>2.007340e+07</td>\n",
       "      <td>8.811361e+05</td>\n",
       "      <td>8.215277e+06</td>\n",
       "      <td>2.952722e+05</td>\n",
       "      <td>2.881755e+05</td>\n",
       "      <td>882.552609</td>\n",
       "    </tr>\n",
       "    <tr>\n",
       "      <th>min</th>\n",
       "      <td>1.000010e+09</td>\n",
       "      <td>1.000000e+01</td>\n",
       "      <td>0.000000e+00</td>\n",
       "      <td>0.000000e+00</td>\n",
       "      <td>1.000000e+00</td>\n",
       "      <td>0.000000e+00</td>\n",
       "      <td>1.000000</td>\n",
       "    </tr>\n",
       "    <tr>\n",
       "      <th>25%</th>\n",
       "      <td>3.005150e+09</td>\n",
       "      <td>NaN</td>\n",
       "      <td>NaN</td>\n",
       "      <td>NaN</td>\n",
       "      <td>NaN</td>\n",
       "      <td>NaN</td>\n",
       "      <td>NaN</td>\n",
       "    </tr>\n",
       "    <tr>\n",
       "      <th>50%</th>\n",
       "      <td>3.077450e+09</td>\n",
       "      <td>NaN</td>\n",
       "      <td>NaN</td>\n",
       "      <td>NaN</td>\n",
       "      <td>NaN</td>\n",
       "      <td>NaN</td>\n",
       "      <td>NaN</td>\n",
       "    </tr>\n",
       "    <tr>\n",
       "      <th>75%</th>\n",
       "      <td>4.090630e+09</td>\n",
       "      <td>NaN</td>\n",
       "      <td>NaN</td>\n",
       "      <td>NaN</td>\n",
       "      <td>NaN</td>\n",
       "      <td>NaN</td>\n",
       "      <td>NaN</td>\n",
       "    </tr>\n",
       "    <tr>\n",
       "      <th>max</th>\n",
       "      <td>5.080500e+09</td>\n",
       "      <td>1.457087e+10</td>\n",
       "      <td>6.281640e+08</td>\n",
       "      <td>5.879484e+09</td>\n",
       "      <td>6.733982e+07</td>\n",
       "      <td>6.733982e+07</td>\n",
       "      <td>9566.000000</td>\n",
       "    </tr>\n",
       "  </tbody>\n",
       "</table>\n",
       "</div>"
      ],
      "text/plain": [
       "                bbl           emv          tbea           bav           tba  \\\n",
       "count  1.081624e+06  1.073473e+06  1.074509e+06  1.074509e+06  1.040176e+06   \n",
       "mean   3.255302e+09  1.072281e+06  3.210457e+04  2.681073e+05  2.136745e+04   \n",
       "std    1.214484e+09  2.007340e+07  8.811361e+05  8.215277e+06  2.952722e+05   \n",
       "min    1.000010e+09  1.000000e+01  0.000000e+00  0.000000e+00  1.000000e+00   \n",
       "25%    3.005150e+09           NaN           NaN           NaN           NaN   \n",
       "50%    3.077450e+09           NaN           NaN           NaN           NaN   \n",
       "75%    4.090630e+09           NaN           NaN           NaN           NaN   \n",
       "max    5.080500e+09  1.457087e+10  6.281640e+08  5.879484e+09  6.733982e+07   \n",
       "\n",
       "        propertytax    condonumber  \n",
       "count  1.074509e+06  237110.000000  \n",
       "mean   2.012084e+04     973.276226  \n",
       "std    2.881755e+05     882.552609  \n",
       "min    0.000000e+00       1.000000  \n",
       "25%             NaN            NaN  \n",
       "50%             NaN            NaN  \n",
       "75%             NaN            NaN  \n",
       "max    6.733982e+07    9566.000000  "
      ]
     },
     "execution_count": 3,
     "metadata": {},
     "output_type": "execute_result"
    }
   ],
   "source": [
    "df.describe()"
   ]
  },
  {
   "cell_type": "code",
   "execution_count": 4,
   "metadata": {
    "collapsed": false
   },
   "outputs": [
    {
     "data": {
      "text/html": [
       "<div>\n",
       "<table border=\"1\" class=\"dataframe\">\n",
       "  <thead>\n",
       "    <tr style=\"text-align: right;\">\n",
       "      <th></th>\n",
       "      <th>bbl</th>\n",
       "      <th>ownername</th>\n",
       "      <th>address</th>\n",
       "      <th>taxclass</th>\n",
       "      <th>taxrate</th>\n",
       "      <th>emv</th>\n",
       "      <th>tbea</th>\n",
       "      <th>bav</th>\n",
       "      <th>tba</th>\n",
       "      <th>propertytax</th>\n",
       "      <th>condonumber</th>\n",
       "      <th>condo</th>\n",
       "    </tr>\n",
       "  </thead>\n",
       "  <tbody>\n",
       "    <tr>\n",
       "      <th>0</th>\n",
       "      <td>1000010010</td>\n",
       "      <td>GOVERNORS ISLAND CORPORATION</td>\n",
       "      <td>GOVERNORS ISLAND CORPORATION\\nC/O TRUST FOR. G...</td>\n",
       "      <td>4 - commercial property</td>\n",
       "      <td>10.6840%</td>\n",
       "      <td>337672000.0</td>\n",
       "      <td>15749050.0</td>\n",
       "      <td>147407802.0</td>\n",
       "      <td>NaN</td>\n",
       "      <td>0.0</td>\n",
       "      <td>NaN</td>\n",
       "      <td>NaN</td>\n",
       "    </tr>\n",
       "    <tr>\n",
       "      <th>1</th>\n",
       "      <td>1000010101</td>\n",
       "      <td>U. S. GOVT LAND &amp; BLDGS</td>\n",
       "      <td>BEDLOES ISLAND\\n1 LIBERTY ISLAND\\nELLIS ISLAND,</td>\n",
       "      <td>4 - commercial property</td>\n",
       "      <td>10.6840%</td>\n",
       "      <td>25607000.0</td>\n",
       "      <td>1106496.0</td>\n",
       "      <td>10356570.0</td>\n",
       "      <td>NaN</td>\n",
       "      <td>0.0</td>\n",
       "      <td>NaN</td>\n",
       "      <td>NaN</td>\n",
       "    </tr>\n",
       "    <tr>\n",
       "      <th>2</th>\n",
       "      <td>1000010201</td>\n",
       "      <td>U. S. GOVT LAND &amp; BLDGS</td>\n",
       "      <td>ELLIS ISLAND\\n1 LIBERTY ISLAND\\nELLIS ISLAND,</td>\n",
       "      <td>4 - commercial property</td>\n",
       "      <td>10.6840%</td>\n",
       "      <td>233982000.0</td>\n",
       "      <td>10366655.0</td>\n",
       "      <td>97029720.0</td>\n",
       "      <td>NaN</td>\n",
       "      <td>0.0</td>\n",
       "      <td>NaN</td>\n",
       "      <td>NaN</td>\n",
       "    </tr>\n",
       "    <tr>\n",
       "      <th>3</th>\n",
       "      <td>1000020001</td>\n",
       "      <td>NYC DSBS</td>\n",
       "      <td>NYC DSBS\\n110 WILLIAM ST. FL. 7\\nNEW YORK , NY...</td>\n",
       "      <td>4 - commercial property</td>\n",
       "      <td>10.6840%</td>\n",
       "      <td>69458000.0</td>\n",
       "      <td>3163690.0</td>\n",
       "      <td>29611473.0</td>\n",
       "      <td>NaN</td>\n",
       "      <td>0.0</td>\n",
       "      <td>NaN</td>\n",
       "      <td>NaN</td>\n",
       "    </tr>\n",
       "    <tr>\n",
       "      <th>4</th>\n",
       "      <td>1000020002</td>\n",
       "      <td>10 SSA LANDLORD, LLC</td>\n",
       "      <td>10 SSA LANDLORD, LLC\\n729 7TH AVE. FL. 15\\nNEW...</td>\n",
       "      <td>4 - commercial property</td>\n",
       "      <td>10.6840%</td>\n",
       "      <td>55592000.0</td>\n",
       "      <td>2672762.0</td>\n",
       "      <td>25016491.0</td>\n",
       "      <td>654246.0</td>\n",
       "      <td>654246.0</td>\n",
       "      <td>NaN</td>\n",
       "      <td>NaN</td>\n",
       "    </tr>\n",
       "  </tbody>\n",
       "</table>\n",
       "</div>"
      ],
      "text/plain": [
       "          bbl                     ownername  \\\n",
       "0  1000010010  GOVERNORS ISLAND CORPORATION   \n",
       "1  1000010101       U. S. GOVT LAND & BLDGS   \n",
       "2  1000010201       U. S. GOVT LAND & BLDGS   \n",
       "3  1000020001                      NYC DSBS   \n",
       "4  1000020002          10 SSA LANDLORD, LLC   \n",
       "\n",
       "                                             address                 taxclass  \\\n",
       "0  GOVERNORS ISLAND CORPORATION\\nC/O TRUST FOR. G...  4 - commercial property   \n",
       "1    BEDLOES ISLAND\\n1 LIBERTY ISLAND\\nELLIS ISLAND,  4 - commercial property   \n",
       "2      ELLIS ISLAND\\n1 LIBERTY ISLAND\\nELLIS ISLAND,  4 - commercial property   \n",
       "3  NYC DSBS\\n110 WILLIAM ST. FL. 7\\nNEW YORK , NY...  4 - commercial property   \n",
       "4  10 SSA LANDLORD, LLC\\n729 7TH AVE. FL. 15\\nNEW...  4 - commercial property   \n",
       "\n",
       "    taxrate          emv        tbea          bav       tba  propertytax  \\\n",
       "0  10.6840%  337672000.0  15749050.0  147407802.0       NaN          0.0   \n",
       "1  10.6840%   25607000.0   1106496.0   10356570.0       NaN          0.0   \n",
       "2  10.6840%  233982000.0  10366655.0   97029720.0       NaN          0.0   \n",
       "3  10.6840%   69458000.0   3163690.0   29611473.0       NaN          0.0   \n",
       "4  10.6840%   55592000.0   2672762.0   25016491.0  654246.0     654246.0   \n",
       "\n",
       "   condonumber condo  \n",
       "0          NaN   NaN  \n",
       "1          NaN   NaN  \n",
       "2          NaN   NaN  \n",
       "3          NaN   NaN  \n",
       "4          NaN   NaN  "
      ]
     },
     "execution_count": 4,
     "metadata": {},
     "output_type": "execute_result"
    }
   ],
   "source": [
    "df.head()"
   ]
  },
  {
   "cell_type": "code",
   "execution_count": 5,
   "metadata": {
    "collapsed": true
   },
   "outputs": [],
   "source": [
    "#Breaking BBL into individual columns for Borough(first digit), block(next 5 digits) and lot(next 4 digits)\n",
    "df['bbl'] = df['bbl'].apply(lambda f: str(f))\n",
    "df['borough'] = df['bbl'].apply(lambda f: int(f[0]))\n",
    "df['block'] = df['bbl'].apply(lambda f: int(f[1:6]))\n",
    "df['lot'] = df['bbl'].apply(lambda f: int(f[-4:]))"
   ]
  },
  {
   "cell_type": "code",
   "execution_count": 6,
   "metadata": {
    "collapsed": true
   },
   "outputs": [],
   "source": [
    "df['borough'] = df['borough'].map({1:'Manhattan/new york', 2:'bronx/bronx', 3:'Brooklyn/kings', 4:'queens/queens', 5:'staten/richmond'})"
   ]
  },
  {
   "cell_type": "code",
   "execution_count": 7,
   "metadata": {
    "collapsed": false
   },
   "outputs": [
    {
     "data": {
      "text/plain": [
       "array(['Manhattan/new york', 'bronx/bronx', 'Brooklyn/kings',\n",
       "       'queens/queens', 'staten/richmond'], dtype=object)"
      ]
     },
     "execution_count": 7,
     "metadata": {},
     "output_type": "execute_result"
    }
   ],
   "source": [
    "df['borough'].unique()"
   ]
  },
  {
   "cell_type": "code",
   "execution_count": 8,
   "metadata": {
    "collapsed": false
   },
   "outputs": [
    {
     "data": {
      "text/html": [
       "<div>\n",
       "<table border=\"1\" class=\"dataframe\">\n",
       "  <thead>\n",
       "    <tr style=\"text-align: right;\">\n",
       "      <th></th>\n",
       "      <th>bbl</th>\n",
       "      <th>ownername</th>\n",
       "      <th>address</th>\n",
       "      <th>taxclass</th>\n",
       "      <th>taxrate</th>\n",
       "      <th>emv</th>\n",
       "      <th>tbea</th>\n",
       "      <th>bav</th>\n",
       "      <th>tba</th>\n",
       "      <th>propertytax</th>\n",
       "      <th>condonumber</th>\n",
       "      <th>condo</th>\n",
       "      <th>borough</th>\n",
       "      <th>block</th>\n",
       "      <th>lot</th>\n",
       "    </tr>\n",
       "  </thead>\n",
       "  <tbody>\n",
       "    <tr>\n",
       "      <th>1000736</th>\n",
       "      <td>5024000105</td>\n",
       "      <td>FAYER , EDUARD</td>\n",
       "      <td>FAYER , EDUARD\\n682 YETMAN AVE.\\nSTATEN ISLAND...</td>\n",
       "      <td>4 - commercial property</td>\n",
       "      <td>10.6840%</td>\n",
       "      <td>55429.0</td>\n",
       "      <td>2648.0</td>\n",
       "      <td>24788.0</td>\n",
       "      <td>2648.0</td>\n",
       "      <td>2648.0</td>\n",
       "      <td>115.0</td>\n",
       "      <td>NaN</td>\n",
       "      <td>staten/richmond</td>\n",
       "      <td>2400</td>\n",
       "      <td>105</td>\n",
       "    </tr>\n",
       "  </tbody>\n",
       "</table>\n",
       "</div>"
      ],
      "text/plain": [
       "                bbl       ownername  \\\n",
       "1000736  5024000105  FAYER , EDUARD   \n",
       "\n",
       "                                                   address  \\\n",
       "1000736  FAYER , EDUARD\\n682 YETMAN AVE.\\nSTATEN ISLAND...   \n",
       "\n",
       "                        taxclass   taxrate      emv    tbea      bav     tba  \\\n",
       "1000736  4 - commercial property  10.6840%  55429.0  2648.0  24788.0  2648.0   \n",
       "\n",
       "         propertytax  condonumber condo          borough  block  lot  \n",
       "1000736       2648.0        115.0   NaN  staten/richmond   2400  105  "
      ]
     },
     "execution_count": 8,
     "metadata": {},
     "output_type": "execute_result"
    }
   ],
   "source": [
    "df[(df['condo'].isnull() == True) & (df['condonumber'].isnull() == False)]"
   ]
  },
  {
   "cell_type": "code",
   "execution_count": 9,
   "metadata": {
    "collapsed": true
   },
   "outputs": [],
   "source": [
    "#The properties with no propertytax and no condonumber/condo type \n",
    "#are public places\n",
    "df.loc[(df['propertytax'].isnull() == True) & (df['condonumber'].isnull() == True),'taxclass'] = 'Public Place'"
   ]
  },
  {
   "cell_type": "code",
   "execution_count": 10,
   "metadata": {
    "collapsed": false
   },
   "outputs": [
    {
     "data": {
      "text/plain": [
       "array(['4 - commercial property', nan,\n",
       "       '2a - 4-6 unit residential building',\n",
       "       ' 2 - residential, more than 10 units',\n",
       "       ' 2c - co-op or condo, less than 11 units', 'Public Place',\n",
       "       '2b - 7-10 unit residential building',\n",
       "       ' 1 - small home, less than 4 families', '3 - utility property',\n",
       "       '1c - condo in 1-3 unit building',\n",
       "       '1a - condo unit in 1-3 story building',\n",
       "       ' 1b - vacant land, zoned residential', '1d - bungalow colony'], dtype=object)"
      ]
     },
     "execution_count": 10,
     "metadata": {},
     "output_type": "execute_result"
    }
   ],
   "source": [
    "df['taxclass'].unique()"
   ]
  },
  {
   "cell_type": "code",
   "execution_count": 11,
   "metadata": {
    "collapsed": true
   },
   "outputs": [],
   "source": [
    "#properties with non-null condo but no property tax are government owned properties(police offices etc.)\n",
    "df.loc[(df['propertytax'].isnull() == True) & (df['condonumber'].isnull() == False),'taxclass'] = 'Govt Building'"
   ]
  },
  {
   "cell_type": "code",
   "execution_count": 12,
   "metadata": {
    "collapsed": false
   },
   "outputs": [
    {
     "data": {
      "text/plain": [
       "array(['4 - commercial property', 'Govt Building',\n",
       "       '2a - 4-6 unit residential building',\n",
       "       ' 2 - residential, more than 10 units',\n",
       "       ' 2c - co-op or condo, less than 11 units', 'Public Place',\n",
       "       '2b - 7-10 unit residential building',\n",
       "       ' 1 - small home, less than 4 families', nan,\n",
       "       '3 - utility property', '1c - condo in 1-3 unit building',\n",
       "       '1a - condo unit in 1-3 story building',\n",
       "       ' 1b - vacant land, zoned residential', '1d - bungalow colony'], dtype=object)"
      ]
     },
     "execution_count": 12,
     "metadata": {},
     "output_type": "execute_result"
    }
   ],
   "source": [
    "df['taxclass'].unique()"
   ]
  },
  {
   "cell_type": "code",
   "execution_count": 13,
   "metadata": {
    "collapsed": false
   },
   "outputs": [
    {
     "data": {
      "text/plain": [
       "(1036, 15)"
      ]
     },
     "execution_count": 13,
     "metadata": {},
     "output_type": "execute_result"
    }
   ],
   "source": [
    "df[df['taxclass'].isnull() == True].shape"
   ]
  },
  {
   "cell_type": "code",
   "execution_count": 14,
   "metadata": {
    "collapsed": false,
    "scrolled": true
   },
   "outputs": [
    {
     "data": {
      "text/html": [
       "<div>\n",
       "<table border=\"1\" class=\"dataframe\">\n",
       "  <thead>\n",
       "    <tr style=\"text-align: right;\">\n",
       "      <th></th>\n",
       "      <th>bbl</th>\n",
       "      <th>ownername</th>\n",
       "      <th>address</th>\n",
       "      <th>taxclass</th>\n",
       "      <th>taxrate</th>\n",
       "      <th>emv</th>\n",
       "      <th>tbea</th>\n",
       "      <th>bav</th>\n",
       "      <th>tba</th>\n",
       "      <th>propertytax</th>\n",
       "      <th>condonumber</th>\n",
       "      <th>condo</th>\n",
       "      <th>borough</th>\n",
       "      <th>block</th>\n",
       "      <th>lot</th>\n",
       "    </tr>\n",
       "  </thead>\n",
       "  <tbody>\n",
       "    <tr>\n",
       "      <th>8478</th>\n",
       "      <td>1000940001</td>\n",
       "      <td>SOUTHBRIDGE TOWERS INC.</td>\n",
       "      <td>PRC MANAGEMENT\\n240 MADISON AVE. FL. 9\\nNEW YO...</td>\n",
       "      <td>NaN</td>\n",
       "      <td>NaN</td>\n",
       "      <td>NaN</td>\n",
       "      <td>747908.0</td>\n",
       "      <td>747908.0</td>\n",
       "      <td>747908.0</td>\n",
       "      <td>580462.0</td>\n",
       "      <td>NaN</td>\n",
       "      <td>NaN</td>\n",
       "      <td>Manhattan/new york</td>\n",
       "      <td>94</td>\n",
       "      <td>1</td>\n",
       "    </tr>\n",
       "    <tr>\n",
       "      <th>8481</th>\n",
       "      <td>1000950027</td>\n",
       "      <td>ST. MARGARET’S HOUSE</td>\n",
       "      <td>ST. MARGARET’S HOUSE\\nHOUSING DEVELOPMENT FUND...</td>\n",
       "      <td>NaN</td>\n",
       "      <td>NaN</td>\n",
       "      <td>NaN</td>\n",
       "      <td>826371.0</td>\n",
       "      <td>826371.0</td>\n",
       "      <td>826371.0</td>\n",
       "      <td>826371.0</td>\n",
       "      <td>NaN</td>\n",
       "      <td>NaN</td>\n",
       "      <td>Manhattan/new york</td>\n",
       "      <td>95</td>\n",
       "      <td>27</td>\n",
       "    </tr>\n",
       "    <tr>\n",
       "      <th>16021</th>\n",
       "      <td>1002430056</td>\n",
       "      <td>NOT ON FILE</td>\n",
       "      <td>OWNER/AGENT\\n645 WATER ST.\\nNEW YORK , NY 1000...</td>\n",
       "      <td>NaN</td>\n",
       "      <td>NaN</td>\n",
       "      <td>NaN</td>\n",
       "      <td>117519.0</td>\n",
       "      <td>117519.0</td>\n",
       "      <td>117519.0</td>\n",
       "      <td>72375.0</td>\n",
       "      <td>NaN</td>\n",
       "      <td>NaN</td>\n",
       "      <td>Manhattan/new york</td>\n",
       "      <td>243</td>\n",
       "      <td>56</td>\n",
       "    </tr>\n",
       "    <tr>\n",
       "      <th>16023</th>\n",
       "      <td>1002440019</td>\n",
       "      <td>GOUVENEUR GARDENS HSG. CORP.</td>\n",
       "      <td>GOUVENEUR GARDENS HSG. CORP.\\nDOUGLAS ELLIMAN ...</td>\n",
       "      <td>NaN</td>\n",
       "      <td>NaN</td>\n",
       "      <td>NaN</td>\n",
       "      <td>37665.0</td>\n",
       "      <td>37665.0</td>\n",
       "      <td>37665.0</td>\n",
       "      <td>18701.0</td>\n",
       "      <td>NaN</td>\n",
       "      <td>NaN</td>\n",
       "      <td>Manhattan/new york</td>\n",
       "      <td>244</td>\n",
       "      <td>19</td>\n",
       "    </tr>\n",
       "    <tr>\n",
       "      <th>16089</th>\n",
       "      <td>1002470001</td>\n",
       "      <td>HP CHERRY STREET HOUSING DEVELOPMEN</td>\n",
       "      <td>HP CHERRY STREET HOUSING DEVELOPMENT\\n242 W. 3...</td>\n",
       "      <td>NaN</td>\n",
       "      <td>NaN</td>\n",
       "      <td>NaN</td>\n",
       "      <td>1014007.0</td>\n",
       "      <td>1014007.0</td>\n",
       "      <td>1014007.0</td>\n",
       "      <td>1014007.0</td>\n",
       "      <td>NaN</td>\n",
       "      <td>NaN</td>\n",
       "      <td>Manhattan/new york</td>\n",
       "      <td>247</td>\n",
       "      <td>1</td>\n",
       "    </tr>\n",
       "    <tr>\n",
       "      <th>16093</th>\n",
       "      <td>1002480070</td>\n",
       "      <td>TWO BRIDGES SENIOR APARTMENTS LP.</td>\n",
       "      <td>TWO BRIDGES SENIOR APARTMENTS LP.\\n1230 PENNSY...</td>\n",
       "      <td>NaN</td>\n",
       "      <td>NaN</td>\n",
       "      <td>NaN</td>\n",
       "      <td>425923.0</td>\n",
       "      <td>425923.0</td>\n",
       "      <td>425923.0</td>\n",
       "      <td>425923.0</td>\n",
       "      <td>NaN</td>\n",
       "      <td>NaN</td>\n",
       "      <td>Manhattan/new york</td>\n",
       "      <td>248</td>\n",
       "      <td>70</td>\n",
       "    </tr>\n",
       "    <tr>\n",
       "      <th>16112</th>\n",
       "      <td>1002590001</td>\n",
       "      <td>GOUVENEUR GARDENS HSG. CORP.</td>\n",
       "      <td>GOUVENEUR GARDENS HSG. CORP.\\nDOUGLAS ELLIMAN ...</td>\n",
       "      <td>NaN</td>\n",
       "      <td>NaN</td>\n",
       "      <td>NaN</td>\n",
       "      <td>34450.0</td>\n",
       "      <td>34450.0</td>\n",
       "      <td>34450.0</td>\n",
       "      <td>12760.0</td>\n",
       "      <td>NaN</td>\n",
       "      <td>NaN</td>\n",
       "      <td>Manhattan/new york</td>\n",
       "      <td>259</td>\n",
       "      <td>1</td>\n",
       "    </tr>\n",
       "    <tr>\n",
       "      <th>16125</th>\n",
       "      <td>1002670001</td>\n",
       "      <td>NOT ON FILE</td>\n",
       "      <td>OWNER/AGENT\\n305 MADISON ST.\\nNEW YORK , NY 10...</td>\n",
       "      <td>NaN</td>\n",
       "      <td>NaN</td>\n",
       "      <td>NaN</td>\n",
       "      <td>78079.0</td>\n",
       "      <td>78079.0</td>\n",
       "      <td>78079.0</td>\n",
       "      <td>65094.0</td>\n",
       "      <td>NaN</td>\n",
       "      <td>NaN</td>\n",
       "      <td>Manhattan/new york</td>\n",
       "      <td>267</td>\n",
       "      <td>1</td>\n",
       "    </tr>\n",
       "    <tr>\n",
       "      <th>17973</th>\n",
       "      <td>1003330001</td>\n",
       "      <td>MASARYK TOWERS CORP.</td>\n",
       "      <td>MASARYK TOWERS CORP.\\nMASARYK TOWERS C/O METRO...</td>\n",
       "      <td>NaN</td>\n",
       "      <td>NaN</td>\n",
       "      <td>NaN</td>\n",
       "      <td>963963.0</td>\n",
       "      <td>963963.0</td>\n",
       "      <td>963963.0</td>\n",
       "      <td>927505.0</td>\n",
       "      <td>NaN</td>\n",
       "      <td>NaN</td>\n",
       "      <td>Manhattan/new york</td>\n",
       "      <td>333</td>\n",
       "      <td>1</td>\n",
       "    </tr>\n",
       "    <tr>\n",
       "      <th>17977</th>\n",
       "      <td>1003360005</td>\n",
       "      <td>UJC ORENSTEIN PRESERVATION HDFC, INC.</td>\n",
       "      <td>UJC ORENSTEIN PRESERVATION HDFC, INC.\\n235 E. ...</td>\n",
       "      <td>NaN</td>\n",
       "      <td>NaN</td>\n",
       "      <td>NaN</td>\n",
       "      <td>200000.0</td>\n",
       "      <td>200000.0</td>\n",
       "      <td>200000.0</td>\n",
       "      <td>200000.0</td>\n",
       "      <td>NaN</td>\n",
       "      <td>NaN</td>\n",
       "      <td>Manhattan/new york</td>\n",
       "      <td>336</td>\n",
       "      <td>5</td>\n",
       "    </tr>\n",
       "    <tr>\n",
       "      <th>17987</th>\n",
       "      <td>1003410001</td>\n",
       "      <td>SOUTH EAST G. S. G. HDF CO. INC.</td>\n",
       "      <td>SOUTH EAST G. S. G. HDF CO. INC.\\nC/O WAVECRES...</td>\n",
       "      <td>NaN</td>\n",
       "      <td>NaN</td>\n",
       "      <td>NaN</td>\n",
       "      <td>465903.0</td>\n",
       "      <td>465903.0</td>\n",
       "      <td>465903.0</td>\n",
       "      <td>465903.0</td>\n",
       "      <td>NaN</td>\n",
       "      <td>NaN</td>\n",
       "      <td>Manhattan/new york</td>\n",
       "      <td>341</td>\n",
       "      <td>1</td>\n",
       "    </tr>\n",
       "    <tr>\n",
       "      <th>17990</th>\n",
       "      <td>1003410058</td>\n",
       "      <td>SOUTHEAST GRND. ST. ETAL</td>\n",
       "      <td>WAVECREST MANAGEMENT TEAM\\n8714 116TH ST.\\nRIC...</td>\n",
       "      <td>NaN</td>\n",
       "      <td>NaN</td>\n",
       "      <td>NaN</td>\n",
       "      <td>494263.0</td>\n",
       "      <td>494263.0</td>\n",
       "      <td>494263.0</td>\n",
       "      <td>494263.0</td>\n",
       "      <td>NaN</td>\n",
       "      <td>NaN</td>\n",
       "      <td>Manhattan/new york</td>\n",
       "      <td>341</td>\n",
       "      <td>58</td>\n",
       "    </tr>\n",
       "    <tr>\n",
       "      <th>17991</th>\n",
       "      <td>1003410070</td>\n",
       "      <td>GRAND ST. GUILD EAST HDFC INC.</td>\n",
       "      <td>WAVECREST MANAGEMENT TEAM\\n8714 116TH ST.\\nRIC...</td>\n",
       "      <td>NaN</td>\n",
       "      <td>NaN</td>\n",
       "      <td>NaN</td>\n",
       "      <td>500781.0</td>\n",
       "      <td>500781.0</td>\n",
       "      <td>500781.0</td>\n",
       "      <td>500781.0</td>\n",
       "      <td>NaN</td>\n",
       "      <td>NaN</td>\n",
       "      <td>Manhattan/new york</td>\n",
       "      <td>341</td>\n",
       "      <td>70</td>\n",
       "    </tr>\n",
       "    <tr>\n",
       "      <th>17997</th>\n",
       "      <td>1003430043</td>\n",
       "      <td>80-92 RIDGE ST. HDFC,INC</td>\n",
       "      <td>80-92 RIDGE ST. HDFC,INC\\n80 RIDGE ST.\\nNEW YO...</td>\n",
       "      <td>NaN</td>\n",
       "      <td>NaN</td>\n",
       "      <td>NaN</td>\n",
       "      <td>127928.0</td>\n",
       "      <td>127928.0</td>\n",
       "      <td>127928.0</td>\n",
       "      <td>127928.0</td>\n",
       "      <td>NaN</td>\n",
       "      <td>NaN</td>\n",
       "      <td>Manhattan/new york</td>\n",
       "      <td>343</td>\n",
       "      <td>43</td>\n",
       "    </tr>\n",
       "    <tr>\n",
       "      <th>18109</th>\n",
       "      <td>1003450013</td>\n",
       "      <td>323 HOUSTON STREET CORP.</td>\n",
       "      <td>323 HOUSTON STREET CO.\\n248 W. 108TH ST.\\nNEW ...</td>\n",
       "      <td>NaN</td>\n",
       "      <td>NaN</td>\n",
       "      <td>NaN</td>\n",
       "      <td>28169.0</td>\n",
       "      <td>28169.0</td>\n",
       "      <td>28169.0</td>\n",
       "      <td>28169.0</td>\n",
       "      <td>NaN</td>\n",
       "      <td>NaN</td>\n",
       "      <td>Manhattan/new york</td>\n",
       "      <td>345</td>\n",
       "      <td>13</td>\n",
       "    </tr>\n",
       "    <tr>\n",
       "      <th>18122</th>\n",
       "      <td>1003450048</td>\n",
       "      <td>LP. SOLUTIONS LLC</td>\n",
       "      <td>LP. SOLUTIONS LLC\\nCCP MANAGEMENT\\n754 EASTERN...</td>\n",
       "      <td>NaN</td>\n",
       "      <td>NaN</td>\n",
       "      <td>NaN</td>\n",
       "      <td>1147366.0</td>\n",
       "      <td>1147366.0</td>\n",
       "      <td>1147366.0</td>\n",
       "      <td>1147366.0</td>\n",
       "      <td>NaN</td>\n",
       "      <td>NaN</td>\n",
       "      <td>Manhattan/new york</td>\n",
       "      <td>345</td>\n",
       "      <td>48</td>\n",
       "    </tr>\n",
       "    <tr>\n",
       "      <th>18175</th>\n",
       "      <td>1003460001</td>\n",
       "      <td>CHINATOWN PLANNING ETC.</td>\n",
       "      <td>CHINATOWN PLANNING ETC.\\nT.U.C. MANAGEMENT CO....</td>\n",
       "      <td>NaN</td>\n",
       "      <td>NaN</td>\n",
       "      <td>NaN</td>\n",
       "      <td>196481.0</td>\n",
       "      <td>196481.0</td>\n",
       "      <td>196481.0</td>\n",
       "      <td>196481.0</td>\n",
       "      <td>NaN</td>\n",
       "      <td>NaN</td>\n",
       "      <td>Manhattan/new york</td>\n",
       "      <td>346</td>\n",
       "      <td>1</td>\n",
       "    </tr>\n",
       "    <tr>\n",
       "      <th>18178</th>\n",
       "      <td>1003460075</td>\n",
       "      <td>NOT ON FILE</td>\n",
       "      <td>\\nBAD LOCATION ADDRESS\\n,</td>\n",
       "      <td>NaN</td>\n",
       "      <td>NaN</td>\n",
       "      <td>NaN</td>\n",
       "      <td>57324.0</td>\n",
       "      <td>57324.0</td>\n",
       "      <td>57324.0</td>\n",
       "      <td>57324.0</td>\n",
       "      <td>NaN</td>\n",
       "      <td>NaN</td>\n",
       "      <td>Manhattan/new york</td>\n",
       "      <td>346</td>\n",
       "      <td>75</td>\n",
       "    </tr>\n",
       "    <tr>\n",
       "      <th>18610</th>\n",
       "      <td>1003720026</td>\n",
       "      <td>POSITIVELY 3RD STREET HDFC</td>\n",
       "      <td>POSITIVELY 3RD STREET HDFC\\nJASA HOUSING MANAG...</td>\n",
       "      <td>NaN</td>\n",
       "      <td>NaN</td>\n",
       "      <td>NaN</td>\n",
       "      <td>54155.0</td>\n",
       "      <td>54155.0</td>\n",
       "      <td>54155.0</td>\n",
       "      <td>54155.0</td>\n",
       "      <td>NaN</td>\n",
       "      <td>NaN</td>\n",
       "      <td>Manhattan/new york</td>\n",
       "      <td>372</td>\n",
       "      <td>26</td>\n",
       "    </tr>\n",
       "    <tr>\n",
       "      <th>18800</th>\n",
       "      <td>1003760058</td>\n",
       "      <td>GRAND STREET SETTLEMENT SENIOR HOUSING</td>\n",
       "      <td>GRAND STREET SETTLEMENT HDFC\\nNEW YORK , NY 10...</td>\n",
       "      <td>NaN</td>\n",
       "      <td>NaN</td>\n",
       "      <td>NaN</td>\n",
       "      <td>35648.0</td>\n",
       "      <td>35648.0</td>\n",
       "      <td>35648.0</td>\n",
       "      <td>35648.0</td>\n",
       "      <td>NaN</td>\n",
       "      <td>NaN</td>\n",
       "      <td>Manhattan/new york</td>\n",
       "      <td>376</td>\n",
       "      <td>58</td>\n",
       "    </tr>\n",
       "    <tr>\n",
       "      <th>18917</th>\n",
       "      <td>1003790053</td>\n",
       "      <td>DONA PETRA SANTIAGO APT. HSG DEV FD</td>\n",
       "      <td>DONA PETRA SANTIAGO APT. HSG DEV FD\\nPRESTIGE ...</td>\n",
       "      <td>NaN</td>\n",
       "      <td>NaN</td>\n",
       "      <td>NaN</td>\n",
       "      <td>25781.0</td>\n",
       "      <td>25781.0</td>\n",
       "      <td>25781.0</td>\n",
       "      <td>25781.0</td>\n",
       "      <td>NaN</td>\n",
       "      <td>NaN</td>\n",
       "      <td>Manhattan/new york</td>\n",
       "      <td>379</td>\n",
       "      <td>53</td>\n",
       "    </tr>\n",
       "    <tr>\n",
       "      <th>18926</th>\n",
       "      <td>1003820100</td>\n",
       "      <td>VILLAGE EAST TOWERS INC.</td>\n",
       "      <td>NYC HOUSING DEVELOPMENT CORP.\\n110 WILLIAM ST....</td>\n",
       "      <td>NaN</td>\n",
       "      <td>NaN</td>\n",
       "      <td>NaN</td>\n",
       "      <td>322321.0</td>\n",
       "      <td>322321.0</td>\n",
       "      <td>322321.0</td>\n",
       "      <td>237321.0</td>\n",
       "      <td>NaN</td>\n",
       "      <td>NaN</td>\n",
       "      <td>Manhattan/new york</td>\n",
       "      <td>382</td>\n",
       "      <td>100</td>\n",
       "    </tr>\n",
       "    <tr>\n",
       "      <th>19038</th>\n",
       "      <td>1003850053</td>\n",
       "      <td>BRIDGE 202 APARTMENTS REVITALIZATIO</td>\n",
       "      <td>BRIDGE 202 APARTMENTS REVITALIZATION\\n248 W. 1...</td>\n",
       "      <td>NaN</td>\n",
       "      <td>NaN</td>\n",
       "      <td>NaN</td>\n",
       "      <td>36087.0</td>\n",
       "      <td>36087.0</td>\n",
       "      <td>36087.0</td>\n",
       "      <td>36087.0</td>\n",
       "      <td>NaN</td>\n",
       "      <td>NaN</td>\n",
       "      <td>Manhattan/new york</td>\n",
       "      <td>385</td>\n",
       "      <td>53</td>\n",
       "    </tr>\n",
       "    <tr>\n",
       "      <th>19135</th>\n",
       "      <td>1003890028</td>\n",
       "      <td>ACCESS HOUSE INC.</td>\n",
       "      <td>ACCESS HOUSE INC.\\nACCESS HOUSE, INC. C/O COMM...</td>\n",
       "      <td>NaN</td>\n",
       "      <td>NaN</td>\n",
       "      <td>NaN</td>\n",
       "      <td>31151.0</td>\n",
       "      <td>31151.0</td>\n",
       "      <td>31151.0</td>\n",
       "      <td>31151.0</td>\n",
       "      <td>NaN</td>\n",
       "      <td>NaN</td>\n",
       "      <td>Manhattan/new york</td>\n",
       "      <td>389</td>\n",
       "      <td>28</td>\n",
       "    </tr>\n",
       "    <tr>\n",
       "      <th>19165</th>\n",
       "      <td>1003900011</td>\n",
       "      <td>CASA VICTORIA HOUSING DEVELOPMENT FUND CO. INC...</td>\n",
       "      <td>\\nCO. INC.\\nLOWER EAST SIDE COALITION HOUS</td>\n",
       "      <td>NaN</td>\n",
       "      <td>NaN</td>\n",
       "      <td>NaN</td>\n",
       "      <td>110518.0</td>\n",
       "      <td>110518.0</td>\n",
       "      <td>110518.0</td>\n",
       "      <td>110518.0</td>\n",
       "      <td>NaN</td>\n",
       "      <td>NaN</td>\n",
       "      <td>Manhattan/new york</td>\n",
       "      <td>390</td>\n",
       "      <td>11</td>\n",
       "    </tr>\n",
       "    <tr>\n",
       "      <th>19264</th>\n",
       "      <td>1003920017</td>\n",
       "      <td>LOWER EAST SIDE I. ASSOC</td>\n",
       "      <td>LOWER EAST SIDE I. ASSOC\\nCDC MANAGEMENT COMPA...</td>\n",
       "      <td>NaN</td>\n",
       "      <td>NaN</td>\n",
       "      <td>NaN</td>\n",
       "      <td>267763.0</td>\n",
       "      <td>267763.0</td>\n",
       "      <td>267763.0</td>\n",
       "      <td>263655.0</td>\n",
       "      <td>NaN</td>\n",
       "      <td>NaN</td>\n",
       "      <td>Manhattan/new york</td>\n",
       "      <td>392</td>\n",
       "      <td>17</td>\n",
       "    </tr>\n",
       "    <tr>\n",
       "      <th>19265</th>\n",
       "      <td>1003920022</td>\n",
       "      <td>LOWER E. SIDE II ASSOC</td>\n",
       "      <td>LOWER E. SIDE II ASSOC\\nCDC MANAGEMENT COMPANY...</td>\n",
       "      <td>NaN</td>\n",
       "      <td>NaN</td>\n",
       "      <td>NaN</td>\n",
       "      <td>102303.0</td>\n",
       "      <td>102303.0</td>\n",
       "      <td>102303.0</td>\n",
       "      <td>102303.0</td>\n",
       "      <td>NaN</td>\n",
       "      <td>NaN</td>\n",
       "      <td>Manhattan/new york</td>\n",
       "      <td>392</td>\n",
       "      <td>22</td>\n",
       "    </tr>\n",
       "    <tr>\n",
       "      <th>19268</th>\n",
       "      <td>1003920027</td>\n",
       "      <td>LOWER EAST SIDE I. ASSOC</td>\n",
       "      <td>LOWER EAST SIDE I. ASSOC\\nCDC MANAGEMENT COMPA...</td>\n",
       "      <td>NaN</td>\n",
       "      <td>NaN</td>\n",
       "      <td>NaN</td>\n",
       "      <td>275118.0</td>\n",
       "      <td>275118.0</td>\n",
       "      <td>275118.0</td>\n",
       "      <td>273525.0</td>\n",
       "      <td>NaN</td>\n",
       "      <td>NaN</td>\n",
       "      <td>Manhattan/new york</td>\n",
       "      <td>392</td>\n",
       "      <td>27</td>\n",
       "    </tr>\n",
       "    <tr>\n",
       "      <th>19277</th>\n",
       "      <td>1003920040</td>\n",
       "      <td>NOT ON FILE</td>\n",
       "      <td>OWNER/AGENT\\n645 EAST 9 STREET\\nNEW YORK , NY ...</td>\n",
       "      <td>NaN</td>\n",
       "      <td>NaN</td>\n",
       "      <td>NaN</td>\n",
       "      <td>10269.0</td>\n",
       "      <td>10269.0</td>\n",
       "      <td>10269.0</td>\n",
       "      <td>10269.0</td>\n",
       "      <td>NaN</td>\n",
       "      <td>NaN</td>\n",
       "      <td>Manhattan/new york</td>\n",
       "      <td>392</td>\n",
       "      <td>40</td>\n",
       "    </tr>\n",
       "    <tr>\n",
       "      <th>19282</th>\n",
       "      <td>1003920048</td>\n",
       "      <td>OWER EAST SIDE II ASSOCS</td>\n",
       "      <td>OWER EAST SIDE II ASSOCS\\nCDC MANAGEMENT COMPA...</td>\n",
       "      <td>NaN</td>\n",
       "      <td>NaN</td>\n",
       "      <td>NaN</td>\n",
       "      <td>206666.0</td>\n",
       "      <td>206666.0</td>\n",
       "      <td>206666.0</td>\n",
       "      <td>206666.0</td>\n",
       "      <td>NaN</td>\n",
       "      <td>NaN</td>\n",
       "      <td>Manhattan/new york</td>\n",
       "      <td>392</td>\n",
       "      <td>48</td>\n",
       "    </tr>\n",
       "    <tr>\n",
       "      <th>...</th>\n",
       "      <td>...</td>\n",
       "      <td>...</td>\n",
       "      <td>...</td>\n",
       "      <td>...</td>\n",
       "      <td>...</td>\n",
       "      <td>...</td>\n",
       "      <td>...</td>\n",
       "      <td>...</td>\n",
       "      <td>...</td>\n",
       "      <td>...</td>\n",
       "      <td>...</td>\n",
       "      <td>...</td>\n",
       "      <td>...</td>\n",
       "      <td>...</td>\n",
       "      <td>...</td>\n",
       "    </tr>\n",
       "    <tr>\n",
       "      <th>935687</th>\n",
       "      <td>4157090006</td>\n",
       "      <td>ALLEN BY THE BAY HDFC, INC., AS NOM</td>\n",
       "      <td>ALLEN BY THE BAY HDFC, INC., AS NOMINEE\\nJAMAI...</td>\n",
       "      <td>NaN</td>\n",
       "      <td>NaN</td>\n",
       "      <td>NaN</td>\n",
       "      <td>48107.0</td>\n",
       "      <td>48107.0</td>\n",
       "      <td>48107.0</td>\n",
       "      <td>48107.0</td>\n",
       "      <td>NaN</td>\n",
       "      <td>NaN</td>\n",
       "      <td>queens/queens</td>\n",
       "      <td>15709</td>\n",
       "      <td>6</td>\n",
       "    </tr>\n",
       "    <tr>\n",
       "      <th>937751</th>\n",
       "      <td>4158100030</td>\n",
       "      <td>SEAGIRT HOUSING DEV FUND</td>\n",
       "      <td>SEAGIRT HOUSING DEV FUND\\nJASA\\n247 W. 37TH ST...</td>\n",
       "      <td>NaN</td>\n",
       "      <td>NaN</td>\n",
       "      <td>NaN</td>\n",
       "      <td>259209.0</td>\n",
       "      <td>259209.0</td>\n",
       "      <td>259209.0</td>\n",
       "      <td>259209.0</td>\n",
       "      <td>NaN</td>\n",
       "      <td>NaN</td>\n",
       "      <td>queens/queens</td>\n",
       "      <td>15810</td>\n",
       "      <td>30</td>\n",
       "    </tr>\n",
       "    <tr>\n",
       "      <th>938717</th>\n",
       "      <td>4158950050</td>\n",
       "      <td>NORDECK APTS.</td>\n",
       "      <td>ARVERNE LIMITED PROFIT HOUSING CORP.\\nARVERNE,...</td>\n",
       "      <td>NaN</td>\n",
       "      <td>NaN</td>\n",
       "      <td>NaN</td>\n",
       "      <td>294008.0</td>\n",
       "      <td>294008.0</td>\n",
       "      <td>294008.0</td>\n",
       "      <td>286399.0</td>\n",
       "      <td>NaN</td>\n",
       "      <td>NaN</td>\n",
       "      <td>queens/queens</td>\n",
       "      <td>15895</td>\n",
       "      <td>50</td>\n",
       "    </tr>\n",
       "    <tr>\n",
       "      <th>939235</th>\n",
       "      <td>4159260001</td>\n",
       "      <td>HP ARVERNE PRESERVATION HOUSING COM</td>\n",
       "      <td>ARVERNE PRESERVATION LLC\\nLARCHMONT, NY 10538-...</td>\n",
       "      <td>NaN</td>\n",
       "      <td>NaN</td>\n",
       "      <td>NaN</td>\n",
       "      <td>882511.0</td>\n",
       "      <td>882511.0</td>\n",
       "      <td>882511.0</td>\n",
       "      <td>882511.0</td>\n",
       "      <td>NaN</td>\n",
       "      <td>NaN</td>\n",
       "      <td>queens/queens</td>\n",
       "      <td>15926</td>\n",
       "      <td>1</td>\n",
       "    </tr>\n",
       "    <tr>\n",
       "      <th>939411</th>\n",
       "      <td>4159450001</td>\n",
       "      <td>ALIZIO, ANTHONY</td>\n",
       "      <td>ALIZIO, ANTHONY\\nC/O SEAVIEW TOWERS 2006 LP.\\n...</td>\n",
       "      <td>NaN</td>\n",
       "      <td>NaN</td>\n",
       "      <td>NaN</td>\n",
       "      <td>583958.0</td>\n",
       "      <td>583958.0</td>\n",
       "      <td>583958.0</td>\n",
       "      <td>583958.0</td>\n",
       "      <td>NaN</td>\n",
       "      <td>NaN</td>\n",
       "      <td>queens/queens</td>\n",
       "      <td>15945</td>\n",
       "      <td>1</td>\n",
       "    </tr>\n",
       "    <tr>\n",
       "      <th>942619</th>\n",
       "      <td>4161310001</td>\n",
       "      <td>DAYTON BEACH PARK 1 CORP.</td>\n",
       "      <td>DAYTON BEACH PARK 1 CORP.\\n902 BROADWAY FL. 13...</td>\n",
       "      <td>NaN</td>\n",
       "      <td>NaN</td>\n",
       "      <td>NaN</td>\n",
       "      <td>513584.0</td>\n",
       "      <td>513584.0</td>\n",
       "      <td>513584.0</td>\n",
       "      <td>482860.0</td>\n",
       "      <td>NaN</td>\n",
       "      <td>NaN</td>\n",
       "      <td>queens/queens</td>\n",
       "      <td>16131</td>\n",
       "      <td>1</td>\n",
       "    </tr>\n",
       "    <tr>\n",
       "      <th>942688</th>\n",
       "      <td>4161280001</td>\n",
       "      <td>DAYTON TOWERS INC.</td>\n",
       "      <td>DAYTON TOWERS INC.\\n4 EXECUTIVE BLVD. STE 100\\...</td>\n",
       "      <td>NaN</td>\n",
       "      <td>NaN</td>\n",
       "      <td>NaN</td>\n",
       "      <td>375573.0</td>\n",
       "      <td>375573.0</td>\n",
       "      <td>375573.0</td>\n",
       "      <td>321403.0</td>\n",
       "      <td>NaN</td>\n",
       "      <td>NaN</td>\n",
       "      <td>queens/queens</td>\n",
       "      <td>16128</td>\n",
       "      <td>1</td>\n",
       "    </tr>\n",
       "    <tr>\n",
       "      <th>942690</th>\n",
       "      <td>4161290001</td>\n",
       "      <td>DAYTON TOWERS INC.</td>\n",
       "      <td>DAYTON TOWERS INC.\\n4 EXECUTIVE BLVD. STE 100\\...</td>\n",
       "      <td>NaN</td>\n",
       "      <td>NaN</td>\n",
       "      <td>NaN</td>\n",
       "      <td>375986.0</td>\n",
       "      <td>375986.0</td>\n",
       "      <td>375986.0</td>\n",
       "      <td>321785.0</td>\n",
       "      <td>NaN</td>\n",
       "      <td>NaN</td>\n",
       "      <td>queens/queens</td>\n",
       "      <td>16129</td>\n",
       "      <td>1</td>\n",
       "    </tr>\n",
       "    <tr>\n",
       "      <th>942691</th>\n",
       "      <td>4161300001</td>\n",
       "      <td>DAYTON BEACH PARK 1 CORP.</td>\n",
       "      <td>DAYTON BEACH PARK 1 CORP.\\n1-50 BEACH 81 STREE...</td>\n",
       "      <td>NaN</td>\n",
       "      <td>NaN</td>\n",
       "      <td>NaN</td>\n",
       "      <td>343540.0</td>\n",
       "      <td>343540.0</td>\n",
       "      <td>343540.0</td>\n",
       "      <td>322989.0</td>\n",
       "      <td>NaN</td>\n",
       "      <td>NaN</td>\n",
       "      <td>queens/queens</td>\n",
       "      <td>16130</td>\n",
       "      <td>1</td>\n",
       "    </tr>\n",
       "    <tr>\n",
       "      <th>943029</th>\n",
       "      <td>4161550021</td>\n",
       "      <td>PICKWAY BAY TOWERS WEST, INC.</td>\n",
       "      <td>PICKWAY BAY TOWERS WEST, INC.\\n320 BEACH 100TH...</td>\n",
       "      <td>NaN</td>\n",
       "      <td>NaN</td>\n",
       "      <td>NaN</td>\n",
       "      <td>333067.0</td>\n",
       "      <td>333067.0</td>\n",
       "      <td>333067.0</td>\n",
       "      <td>321727.0</td>\n",
       "      <td>NaN</td>\n",
       "      <td>NaN</td>\n",
       "      <td>queens/queens</td>\n",
       "      <td>16155</td>\n",
       "      <td>21</td>\n",
       "    </tr>\n",
       "    <tr>\n",
       "      <th>943629</th>\n",
       "      <td>4161750001</td>\n",
       "      <td>DAYTON TOWERS INC.</td>\n",
       "      <td>DAYTON TOWERS INC.\\n4 EXECUTIVE BLVD. STE 100\\...</td>\n",
       "      <td>NaN</td>\n",
       "      <td>NaN</td>\n",
       "      <td>NaN</td>\n",
       "      <td>517604.0</td>\n",
       "      <td>517604.0</td>\n",
       "      <td>517604.0</td>\n",
       "      <td>449428.0</td>\n",
       "      <td>NaN</td>\n",
       "      <td>NaN</td>\n",
       "      <td>queens/queens</td>\n",
       "      <td>16175</td>\n",
       "      <td>1</td>\n",
       "    </tr>\n",
       "    <tr>\n",
       "      <th>947968</th>\n",
       "      <td>5000130008</td>\n",
       "      <td>ST. MARKS PL. ASSOC</td>\n",
       "      <td>ST. MARKS PL. ASSOC\\n165 SAINT MARKS PL.\\nSTAT...</td>\n",
       "      <td>NaN</td>\n",
       "      <td>NaN</td>\n",
       "      <td>NaN</td>\n",
       "      <td>274917.0</td>\n",
       "      <td>274917.0</td>\n",
       "      <td>274917.0</td>\n",
       "      <td>274917.0</td>\n",
       "      <td>NaN</td>\n",
       "      <td>NaN</td>\n",
       "      <td>staten/richmond</td>\n",
       "      <td>13</td>\n",
       "      <td>8</td>\n",
       "    </tr>\n",
       "    <tr>\n",
       "      <th>949120</th>\n",
       "      <td>5000440001</td>\n",
       "      <td>FAIRWAY RICHMOND HOUSING DEVEL FUND</td>\n",
       "      <td>FAIRWAY RICHMOND HOUSING DEVEL FUND CO. ,\\nC/O...</td>\n",
       "      <td>NaN</td>\n",
       "      <td>NaN</td>\n",
       "      <td>NaN</td>\n",
       "      <td>29293.0</td>\n",
       "      <td>29293.0</td>\n",
       "      <td>29293.0</td>\n",
       "      <td>29293.0</td>\n",
       "      <td>NaN</td>\n",
       "      <td>NaN</td>\n",
       "      <td>staten/richmond</td>\n",
       "      <td>44</td>\n",
       "      <td>1</td>\n",
       "    </tr>\n",
       "    <tr>\n",
       "      <th>949158</th>\n",
       "      <td>5000450001</td>\n",
       "      <td>FAIRWAY RICHMOND HOUSING DEVEL FUND</td>\n",
       "      <td>FAIRWAY RICHMOND HOUSING DEVEL FUND CO. ,\\nC/O...</td>\n",
       "      <td>NaN</td>\n",
       "      <td>NaN</td>\n",
       "      <td>NaN</td>\n",
       "      <td>28673.0</td>\n",
       "      <td>28673.0</td>\n",
       "      <td>28673.0</td>\n",
       "      <td>28673.0</td>\n",
       "      <td>NaN</td>\n",
       "      <td>NaN</td>\n",
       "      <td>staten/richmond</td>\n",
       "      <td>45</td>\n",
       "      <td>1</td>\n",
       "    </tr>\n",
       "    <tr>\n",
       "      <th>949186</th>\n",
       "      <td>5000460001</td>\n",
       "      <td>FAIRWAY RICHMOND HOUSING DEVEL FUND</td>\n",
       "      <td>FAIRWAY RICHMOND HOUSING DEVEL FUND CO. ,\\n170...</td>\n",
       "      <td>NaN</td>\n",
       "      <td>NaN</td>\n",
       "      <td>NaN</td>\n",
       "      <td>29064.0</td>\n",
       "      <td>29064.0</td>\n",
       "      <td>29064.0</td>\n",
       "      <td>29064.0</td>\n",
       "      <td>NaN</td>\n",
       "      <td>NaN</td>\n",
       "      <td>staten/richmond</td>\n",
       "      <td>46</td>\n",
       "      <td>1</td>\n",
       "    </tr>\n",
       "    <tr>\n",
       "      <th>949232</th>\n",
       "      <td>5000470062</td>\n",
       "      <td>FAIRWAY RICHMOND HOUSING DEVEL FUND</td>\n",
       "      <td>FAIRWAY RICHMOND HOUSING DEVEL FUND CO. ,\\nC/O...</td>\n",
       "      <td>NaN</td>\n",
       "      <td>NaN</td>\n",
       "      <td>NaN</td>\n",
       "      <td>26511.0</td>\n",
       "      <td>26511.0</td>\n",
       "      <td>26511.0</td>\n",
       "      <td>26511.0</td>\n",
       "      <td>NaN</td>\n",
       "      <td>NaN</td>\n",
       "      <td>staten/richmond</td>\n",
       "      <td>47</td>\n",
       "      <td>62</td>\n",
       "    </tr>\n",
       "    <tr>\n",
       "      <th>949263</th>\n",
       "      <td>5000480029</td>\n",
       "      <td>FAIRWAY RICHMOND HOUSING DEVEL FUND</td>\n",
       "      <td>FAIRWAY RICHMOND HOUSING DEVEL FUND CO. ,\\nC/O...</td>\n",
       "      <td>NaN</td>\n",
       "      <td>NaN</td>\n",
       "      <td>NaN</td>\n",
       "      <td>62215.0</td>\n",
       "      <td>62215.0</td>\n",
       "      <td>62215.0</td>\n",
       "      <td>62215.0</td>\n",
       "      <td>NaN</td>\n",
       "      <td>NaN</td>\n",
       "      <td>staten/richmond</td>\n",
       "      <td>48</td>\n",
       "      <td>29</td>\n",
       "    </tr>\n",
       "    <tr>\n",
       "      <th>949264</th>\n",
       "      <td>5000490001</td>\n",
       "      <td>FAIRWAY RICHMOND HOUSING DEVEL FUND</td>\n",
       "      <td>FAIRWAY RICHMOND HOUSING DEVEL FUND CO. ,\\nC/O...</td>\n",
       "      <td>NaN</td>\n",
       "      <td>NaN</td>\n",
       "      <td>NaN</td>\n",
       "      <td>48666.0</td>\n",
       "      <td>48666.0</td>\n",
       "      <td>48666.0</td>\n",
       "      <td>48666.0</td>\n",
       "      <td>NaN</td>\n",
       "      <td>NaN</td>\n",
       "      <td>staten/richmond</td>\n",
       "      <td>49</td>\n",
       "      <td>1</td>\n",
       "    </tr>\n",
       "    <tr>\n",
       "      <th>949431</th>\n",
       "      <td>5000520133</td>\n",
       "      <td>FAIRWAY RICHMOND HOUSING DEVEL FUND</td>\n",
       "      <td>FAIRWAY RICHMOND HOUSING DEVEL FUND CO. ,\\nC/O...</td>\n",
       "      <td>NaN</td>\n",
       "      <td>NaN</td>\n",
       "      <td>NaN</td>\n",
       "      <td>20515.0</td>\n",
       "      <td>20515.0</td>\n",
       "      <td>20515.0</td>\n",
       "      <td>20515.0</td>\n",
       "      <td>NaN</td>\n",
       "      <td>NaN</td>\n",
       "      <td>staten/richmond</td>\n",
       "      <td>52</td>\n",
       "      <td>133</td>\n",
       "    </tr>\n",
       "    <tr>\n",
       "      <th>950174</th>\n",
       "      <td>5000710117</td>\n",
       "      <td>LAFYETTE MANOR HSG DEVPMT FD CO. INC.</td>\n",
       "      <td>LAFYETTE MANOR HSG DEVPMT FD CO. INC.\\n150 BRI...</td>\n",
       "      <td>NaN</td>\n",
       "      <td>NaN</td>\n",
       "      <td>NaN</td>\n",
       "      <td>41936.0</td>\n",
       "      <td>41936.0</td>\n",
       "      <td>41936.0</td>\n",
       "      <td>41936.0</td>\n",
       "      <td>NaN</td>\n",
       "      <td>NaN</td>\n",
       "      <td>staten/richmond</td>\n",
       "      <td>71</td>\n",
       "      <td>117</td>\n",
       "    </tr>\n",
       "    <tr>\n",
       "      <th>954205</th>\n",
       "      <td>5001690035</td>\n",
       "      <td>MARKHAM GARDENS MANOR HOUSING DEVELOPMENT</td>\n",
       "      <td>MARKHAM GARDENS MANOR HOUSING\\nDEVELOPMENT\\nCO...</td>\n",
       "      <td>NaN</td>\n",
       "      <td>NaN</td>\n",
       "      <td>NaN</td>\n",
       "      <td>58468.0</td>\n",
       "      <td>58468.0</td>\n",
       "      <td>58468.0</td>\n",
       "      <td>58468.0</td>\n",
       "      <td>NaN</td>\n",
       "      <td>NaN</td>\n",
       "      <td>staten/richmond</td>\n",
       "      <td>169</td>\n",
       "      <td>35</td>\n",
       "    </tr>\n",
       "    <tr>\n",
       "      <th>954589</th>\n",
       "      <td>5001820062</td>\n",
       "      <td>OLIVET ST. VINCENT HDFC</td>\n",
       "      <td>OLIVET ST. VINCENT HDFC\\n% STAVAN MGMT CORP.\\n...</td>\n",
       "      <td>NaN</td>\n",
       "      <td>NaN</td>\n",
       "      <td>NaN</td>\n",
       "      <td>129430.0</td>\n",
       "      <td>129430.0</td>\n",
       "      <td>129430.0</td>\n",
       "      <td>129430.0</td>\n",
       "      <td>NaN</td>\n",
       "      <td>NaN</td>\n",
       "      <td>staten/richmond</td>\n",
       "      <td>182</td>\n",
       "      <td>62</td>\n",
       "    </tr>\n",
       "    <tr>\n",
       "      <th>965570</th>\n",
       "      <td>5005380012</td>\n",
       "      <td>ST. VINCENT’S HOUSING</td>\n",
       "      <td>ST. VINCENT’S HOUSING\\n33 FRONT ST.\\nHEMPSTEAD...</td>\n",
       "      <td>NaN</td>\n",
       "      <td>NaN</td>\n",
       "      <td>NaN</td>\n",
       "      <td>103250.0</td>\n",
       "      <td>103250.0</td>\n",
       "      <td>103250.0</td>\n",
       "      <td>103250.0</td>\n",
       "      <td>NaN</td>\n",
       "      <td>NaN</td>\n",
       "      <td>staten/richmond</td>\n",
       "      <td>538</td>\n",
       "      <td>12</td>\n",
       "    </tr>\n",
       "    <tr>\n",
       "      <th>965571</th>\n",
       "      <td>5005380035</td>\n",
       "      <td>SR. LOUISE DEMARILLAC CORPORATION</td>\n",
       "      <td>SR. LOUISE DEMARILLAC CORPORATION\\nC/O STANAN ...</td>\n",
       "      <td>NaN</td>\n",
       "      <td>NaN</td>\n",
       "      <td>NaN</td>\n",
       "      <td>8662.0</td>\n",
       "      <td>8662.0</td>\n",
       "      <td>8662.0</td>\n",
       "      <td>8662.0</td>\n",
       "      <td>NaN</td>\n",
       "      <td>NaN</td>\n",
       "      <td>staten/richmond</td>\n",
       "      <td>538</td>\n",
       "      <td>35</td>\n",
       "    </tr>\n",
       "    <tr>\n",
       "      <th>972177</th>\n",
       "      <td>5007520001</td>\n",
       "      <td>ALLIED MANOR ROAD CO.</td>\n",
       "      <td>ALLIED MANOR ROAD CO.\\nT.U.C. MANAGEMENT CO., ...</td>\n",
       "      <td>NaN</td>\n",
       "      <td>NaN</td>\n",
       "      <td>NaN</td>\n",
       "      <td>253115.0</td>\n",
       "      <td>253115.0</td>\n",
       "      <td>253115.0</td>\n",
       "      <td>253115.0</td>\n",
       "      <td>NaN</td>\n",
       "      <td>NaN</td>\n",
       "      <td>staten/richmond</td>\n",
       "      <td>752</td>\n",
       "      <td>1</td>\n",
       "    </tr>\n",
       "    <tr>\n",
       "      <th>978271</th>\n",
       "      <td>5009550025</td>\n",
       "      <td>SISTERS OF CHARITY HEALTH CARE SYSTEM HDFC INC.</td>\n",
       "      <td>SISTERS OF CHARITY HEALTH CARE SYSTEM HDFC\\nIN...</td>\n",
       "      <td>NaN</td>\n",
       "      <td>NaN</td>\n",
       "      <td>NaN</td>\n",
       "      <td>102242.0</td>\n",
       "      <td>102242.0</td>\n",
       "      <td>102242.0</td>\n",
       "      <td>102242.0</td>\n",
       "      <td>NaN</td>\n",
       "      <td>NaN</td>\n",
       "      <td>staten/richmond</td>\n",
       "      <td>955</td>\n",
       "      <td>25</td>\n",
       "    </tr>\n",
       "    <tr>\n",
       "      <th>985660</th>\n",
       "      <td>5012720011</td>\n",
       "      <td>NORTH SHORE HOUSES PRESERVATION, IN</td>\n",
       "      <td>NORTH SHORE HOUSES PRESERVATION, INC.\\nNEW YOR...</td>\n",
       "      <td>NaN</td>\n",
       "      <td>NaN</td>\n",
       "      <td>NaN</td>\n",
       "      <td>576881.0</td>\n",
       "      <td>576881.0</td>\n",
       "      <td>576881.0</td>\n",
       "      <td>576881.0</td>\n",
       "      <td>NaN</td>\n",
       "      <td>NaN</td>\n",
       "      <td>staten/richmond</td>\n",
       "      <td>1272</td>\n",
       "      <td>11</td>\n",
       "    </tr>\n",
       "    <tr>\n",
       "      <th>1007924</th>\n",
       "      <td>5028930001</td>\n",
       "      <td>TERRACE GARDENS HOUSING DEVELOPMENT FUND</td>\n",
       "      <td>TERRACE GARDENS HOUSING DEVELOPMENT\\nTERRACE G...</td>\n",
       "      <td>NaN</td>\n",
       "      <td>NaN</td>\n",
       "      <td>NaN</td>\n",
       "      <td>111493.0</td>\n",
       "      <td>111493.0</td>\n",
       "      <td>111493.0</td>\n",
       "      <td>88249.0</td>\n",
       "      <td>NaN</td>\n",
       "      <td>NaN</td>\n",
       "      <td>staten/richmond</td>\n",
       "      <td>2893</td>\n",
       "      <td>1</td>\n",
       "    </tr>\n",
       "    <tr>\n",
       "      <th>1007925</th>\n",
       "      <td>5028940001</td>\n",
       "      <td>TERRACE GARDENS HOUSING DEVELOPMENT FUND</td>\n",
       "      <td>TERRACE GARDENS HOUSING DEVELOPMENT\\nTERRACE G...</td>\n",
       "      <td>NaN</td>\n",
       "      <td>NaN</td>\n",
       "      <td>NaN</td>\n",
       "      <td>113507.0</td>\n",
       "      <td>113507.0</td>\n",
       "      <td>113507.0</td>\n",
       "      <td>91541.0</td>\n",
       "      <td>NaN</td>\n",
       "      <td>NaN</td>\n",
       "      <td>staten/richmond</td>\n",
       "      <td>2894</td>\n",
       "      <td>1</td>\n",
       "    </tr>\n",
       "    <tr>\n",
       "      <th>1016385</th>\n",
       "      <td>5033070025</td>\n",
       "      <td>CARMEL HOUSING DEVELOPMENT FUND COM</td>\n",
       "      <td>CARMEL HOUSING DEVELOPMENT FUND\\n2 CARMEL CT.\\...</td>\n",
       "      <td>NaN</td>\n",
       "      <td>NaN</td>\n",
       "      <td>NaN</td>\n",
       "      <td>170816.0</td>\n",
       "      <td>170816.0</td>\n",
       "      <td>170816.0</td>\n",
       "      <td>170816.0</td>\n",
       "      <td>NaN</td>\n",
       "      <td>NaN</td>\n",
       "      <td>staten/richmond</td>\n",
       "      <td>3307</td>\n",
       "      <td>25</td>\n",
       "    </tr>\n",
       "  </tbody>\n",
       "</table>\n",
       "<p>1036 rows × 15 columns</p>\n",
       "</div>"
      ],
      "text/plain": [
       "                bbl                                          ownername  \\\n",
       "8478     1000940001                            SOUTHBRIDGE TOWERS INC.   \n",
       "8481     1000950027                               ST. MARGARET’S HOUSE   \n",
       "16021    1002430056                                        NOT ON FILE   \n",
       "16023    1002440019                       GOUVENEUR GARDENS HSG. CORP.   \n",
       "16089    1002470001                HP CHERRY STREET HOUSING DEVELOPMEN   \n",
       "16093    1002480070                  TWO BRIDGES SENIOR APARTMENTS LP.   \n",
       "16112    1002590001                       GOUVENEUR GARDENS HSG. CORP.   \n",
       "16125    1002670001                                        NOT ON FILE   \n",
       "17973    1003330001                               MASARYK TOWERS CORP.   \n",
       "17977    1003360005              UJC ORENSTEIN PRESERVATION HDFC, INC.   \n",
       "17987    1003410001                   SOUTH EAST G. S. G. HDF CO. INC.   \n",
       "17990    1003410058                           SOUTHEAST GRND. ST. ETAL   \n",
       "17991    1003410070                     GRAND ST. GUILD EAST HDFC INC.   \n",
       "17997    1003430043                           80-92 RIDGE ST. HDFC,INC   \n",
       "18109    1003450013                           323 HOUSTON STREET CORP.   \n",
       "18122    1003450048                                  LP. SOLUTIONS LLC   \n",
       "18175    1003460001                            CHINATOWN PLANNING ETC.   \n",
       "18178    1003460075                                        NOT ON FILE   \n",
       "18610    1003720026                         POSITIVELY 3RD STREET HDFC   \n",
       "18800    1003760058             GRAND STREET SETTLEMENT SENIOR HOUSING   \n",
       "18917    1003790053                DONA PETRA SANTIAGO APT. HSG DEV FD   \n",
       "18926    1003820100                           VILLAGE EAST TOWERS INC.   \n",
       "19038    1003850053                BRIDGE 202 APARTMENTS REVITALIZATIO   \n",
       "19135    1003890028                                  ACCESS HOUSE INC.   \n",
       "19165    1003900011  CASA VICTORIA HOUSING DEVELOPMENT FUND CO. INC...   \n",
       "19264    1003920017                           LOWER EAST SIDE I. ASSOC   \n",
       "19265    1003920022                             LOWER E. SIDE II ASSOC   \n",
       "19268    1003920027                           LOWER EAST SIDE I. ASSOC   \n",
       "19277    1003920040                                        NOT ON FILE   \n",
       "19282    1003920048                           OWER EAST SIDE II ASSOCS   \n",
       "...             ...                                                ...   \n",
       "935687   4157090006                ALLEN BY THE BAY HDFC, INC., AS NOM   \n",
       "937751   4158100030                           SEAGIRT HOUSING DEV FUND   \n",
       "938717   4158950050                                      NORDECK APTS.   \n",
       "939235   4159260001                HP ARVERNE PRESERVATION HOUSING COM   \n",
       "939411   4159450001                                    ALIZIO, ANTHONY   \n",
       "942619   4161310001                          DAYTON BEACH PARK 1 CORP.   \n",
       "942688   4161280001                                 DAYTON TOWERS INC.   \n",
       "942690   4161290001                                 DAYTON TOWERS INC.   \n",
       "942691   4161300001                          DAYTON BEACH PARK 1 CORP.   \n",
       "943029   4161550021                      PICKWAY BAY TOWERS WEST, INC.   \n",
       "943629   4161750001                                 DAYTON TOWERS INC.   \n",
       "947968   5000130008                                ST. MARKS PL. ASSOC   \n",
       "949120   5000440001                FAIRWAY RICHMOND HOUSING DEVEL FUND   \n",
       "949158   5000450001                FAIRWAY RICHMOND HOUSING DEVEL FUND   \n",
       "949186   5000460001                FAIRWAY RICHMOND HOUSING DEVEL FUND   \n",
       "949232   5000470062                FAIRWAY RICHMOND HOUSING DEVEL FUND   \n",
       "949263   5000480029                FAIRWAY RICHMOND HOUSING DEVEL FUND   \n",
       "949264   5000490001                FAIRWAY RICHMOND HOUSING DEVEL FUND   \n",
       "949431   5000520133                FAIRWAY RICHMOND HOUSING DEVEL FUND   \n",
       "950174   5000710117              LAFYETTE MANOR HSG DEVPMT FD CO. INC.   \n",
       "954205   5001690035          MARKHAM GARDENS MANOR HOUSING DEVELOPMENT   \n",
       "954589   5001820062                            OLIVET ST. VINCENT HDFC   \n",
       "965570   5005380012                              ST. VINCENT’S HOUSING   \n",
       "965571   5005380035                  SR. LOUISE DEMARILLAC CORPORATION   \n",
       "972177   5007520001                              ALLIED MANOR ROAD CO.   \n",
       "978271   5009550025    SISTERS OF CHARITY HEALTH CARE SYSTEM HDFC INC.   \n",
       "985660   5012720011                NORTH SHORE HOUSES PRESERVATION, IN   \n",
       "1007924  5028930001           TERRACE GARDENS HOUSING DEVELOPMENT FUND   \n",
       "1007925  5028940001           TERRACE GARDENS HOUSING DEVELOPMENT FUND   \n",
       "1016385  5033070025                CARMEL HOUSING DEVELOPMENT FUND COM   \n",
       "\n",
       "                                                   address taxclass taxrate  \\\n",
       "8478     PRC MANAGEMENT\\n240 MADISON AVE. FL. 9\\nNEW YO...      NaN     NaN   \n",
       "8481     ST. MARGARET’S HOUSE\\nHOUSING DEVELOPMENT FUND...      NaN     NaN   \n",
       "16021    OWNER/AGENT\\n645 WATER ST.\\nNEW YORK , NY 1000...      NaN     NaN   \n",
       "16023    GOUVENEUR GARDENS HSG. CORP.\\nDOUGLAS ELLIMAN ...      NaN     NaN   \n",
       "16089    HP CHERRY STREET HOUSING DEVELOPMENT\\n242 W. 3...      NaN     NaN   \n",
       "16093    TWO BRIDGES SENIOR APARTMENTS LP.\\n1230 PENNSY...      NaN     NaN   \n",
       "16112    GOUVENEUR GARDENS HSG. CORP.\\nDOUGLAS ELLIMAN ...      NaN     NaN   \n",
       "16125    OWNER/AGENT\\n305 MADISON ST.\\nNEW YORK , NY 10...      NaN     NaN   \n",
       "17973    MASARYK TOWERS CORP.\\nMASARYK TOWERS C/O METRO...      NaN     NaN   \n",
       "17977    UJC ORENSTEIN PRESERVATION HDFC, INC.\\n235 E. ...      NaN     NaN   \n",
       "17987    SOUTH EAST G. S. G. HDF CO. INC.\\nC/O WAVECRES...      NaN     NaN   \n",
       "17990    WAVECREST MANAGEMENT TEAM\\n8714 116TH ST.\\nRIC...      NaN     NaN   \n",
       "17991    WAVECREST MANAGEMENT TEAM\\n8714 116TH ST.\\nRIC...      NaN     NaN   \n",
       "17997    80-92 RIDGE ST. HDFC,INC\\n80 RIDGE ST.\\nNEW YO...      NaN     NaN   \n",
       "18109    323 HOUSTON STREET CO.\\n248 W. 108TH ST.\\nNEW ...      NaN     NaN   \n",
       "18122    LP. SOLUTIONS LLC\\nCCP MANAGEMENT\\n754 EASTERN...      NaN     NaN   \n",
       "18175    CHINATOWN PLANNING ETC.\\nT.U.C. MANAGEMENT CO....      NaN     NaN   \n",
       "18178                            \\nBAD LOCATION ADDRESS\\n,      NaN     NaN   \n",
       "18610    POSITIVELY 3RD STREET HDFC\\nJASA HOUSING MANAG...      NaN     NaN   \n",
       "18800    GRAND STREET SETTLEMENT HDFC\\nNEW YORK , NY 10...      NaN     NaN   \n",
       "18917    DONA PETRA SANTIAGO APT. HSG DEV FD\\nPRESTIGE ...      NaN     NaN   \n",
       "18926    NYC HOUSING DEVELOPMENT CORP.\\n110 WILLIAM ST....      NaN     NaN   \n",
       "19038    BRIDGE 202 APARTMENTS REVITALIZATION\\n248 W. 1...      NaN     NaN   \n",
       "19135    ACCESS HOUSE INC.\\nACCESS HOUSE, INC. C/O COMM...      NaN     NaN   \n",
       "19165           \\nCO. INC.\\nLOWER EAST SIDE COALITION HOUS      NaN     NaN   \n",
       "19264    LOWER EAST SIDE I. ASSOC\\nCDC MANAGEMENT COMPA...      NaN     NaN   \n",
       "19265    LOWER E. SIDE II ASSOC\\nCDC MANAGEMENT COMPANY...      NaN     NaN   \n",
       "19268    LOWER EAST SIDE I. ASSOC\\nCDC MANAGEMENT COMPA...      NaN     NaN   \n",
       "19277    OWNER/AGENT\\n645 EAST 9 STREET\\nNEW YORK , NY ...      NaN     NaN   \n",
       "19282    OWER EAST SIDE II ASSOCS\\nCDC MANAGEMENT COMPA...      NaN     NaN   \n",
       "...                                                    ...      ...     ...   \n",
       "935687   ALLEN BY THE BAY HDFC, INC., AS NOMINEE\\nJAMAI...      NaN     NaN   \n",
       "937751   SEAGIRT HOUSING DEV FUND\\nJASA\\n247 W. 37TH ST...      NaN     NaN   \n",
       "938717   ARVERNE LIMITED PROFIT HOUSING CORP.\\nARVERNE,...      NaN     NaN   \n",
       "939235   ARVERNE PRESERVATION LLC\\nLARCHMONT, NY 10538-...      NaN     NaN   \n",
       "939411   ALIZIO, ANTHONY\\nC/O SEAVIEW TOWERS 2006 LP.\\n...      NaN     NaN   \n",
       "942619   DAYTON BEACH PARK 1 CORP.\\n902 BROADWAY FL. 13...      NaN     NaN   \n",
       "942688   DAYTON TOWERS INC.\\n4 EXECUTIVE BLVD. STE 100\\...      NaN     NaN   \n",
       "942690   DAYTON TOWERS INC.\\n4 EXECUTIVE BLVD. STE 100\\...      NaN     NaN   \n",
       "942691   DAYTON BEACH PARK 1 CORP.\\n1-50 BEACH 81 STREE...      NaN     NaN   \n",
       "943029   PICKWAY BAY TOWERS WEST, INC.\\n320 BEACH 100TH...      NaN     NaN   \n",
       "943629   DAYTON TOWERS INC.\\n4 EXECUTIVE BLVD. STE 100\\...      NaN     NaN   \n",
       "947968   ST. MARKS PL. ASSOC\\n165 SAINT MARKS PL.\\nSTAT...      NaN     NaN   \n",
       "949120   FAIRWAY RICHMOND HOUSING DEVEL FUND CO. ,\\nC/O...      NaN     NaN   \n",
       "949158   FAIRWAY RICHMOND HOUSING DEVEL FUND CO. ,\\nC/O...      NaN     NaN   \n",
       "949186   FAIRWAY RICHMOND HOUSING DEVEL FUND CO. ,\\n170...      NaN     NaN   \n",
       "949232   FAIRWAY RICHMOND HOUSING DEVEL FUND CO. ,\\nC/O...      NaN     NaN   \n",
       "949263   FAIRWAY RICHMOND HOUSING DEVEL FUND CO. ,\\nC/O...      NaN     NaN   \n",
       "949264   FAIRWAY RICHMOND HOUSING DEVEL FUND CO. ,\\nC/O...      NaN     NaN   \n",
       "949431   FAIRWAY RICHMOND HOUSING DEVEL FUND CO. ,\\nC/O...      NaN     NaN   \n",
       "950174   LAFYETTE MANOR HSG DEVPMT FD CO. INC.\\n150 BRI...      NaN     NaN   \n",
       "954205   MARKHAM GARDENS MANOR HOUSING\\nDEVELOPMENT\\nCO...      NaN     NaN   \n",
       "954589   OLIVET ST. VINCENT HDFC\\n% STAVAN MGMT CORP.\\n...      NaN     NaN   \n",
       "965570   ST. VINCENT’S HOUSING\\n33 FRONT ST.\\nHEMPSTEAD...      NaN     NaN   \n",
       "965571   SR. LOUISE DEMARILLAC CORPORATION\\nC/O STANAN ...      NaN     NaN   \n",
       "972177   ALLIED MANOR ROAD CO.\\nT.U.C. MANAGEMENT CO., ...      NaN     NaN   \n",
       "978271   SISTERS OF CHARITY HEALTH CARE SYSTEM HDFC\\nIN...      NaN     NaN   \n",
       "985660   NORTH SHORE HOUSES PRESERVATION, INC.\\nNEW YOR...      NaN     NaN   \n",
       "1007924  TERRACE GARDENS HOUSING DEVELOPMENT\\nTERRACE G...      NaN     NaN   \n",
       "1007925  TERRACE GARDENS HOUSING DEVELOPMENT\\nTERRACE G...      NaN     NaN   \n",
       "1016385  CARMEL HOUSING DEVELOPMENT FUND\\n2 CARMEL CT.\\...      NaN     NaN   \n",
       "\n",
       "         emv       tbea        bav        tba  propertytax  condonumber condo  \\\n",
       "8478     NaN   747908.0   747908.0   747908.0     580462.0          NaN   NaN   \n",
       "8481     NaN   826371.0   826371.0   826371.0     826371.0          NaN   NaN   \n",
       "16021    NaN   117519.0   117519.0   117519.0      72375.0          NaN   NaN   \n",
       "16023    NaN    37665.0    37665.0    37665.0      18701.0          NaN   NaN   \n",
       "16089    NaN  1014007.0  1014007.0  1014007.0    1014007.0          NaN   NaN   \n",
       "16093    NaN   425923.0   425923.0   425923.0     425923.0          NaN   NaN   \n",
       "16112    NaN    34450.0    34450.0    34450.0      12760.0          NaN   NaN   \n",
       "16125    NaN    78079.0    78079.0    78079.0      65094.0          NaN   NaN   \n",
       "17973    NaN   963963.0   963963.0   963963.0     927505.0          NaN   NaN   \n",
       "17977    NaN   200000.0   200000.0   200000.0     200000.0          NaN   NaN   \n",
       "17987    NaN   465903.0   465903.0   465903.0     465903.0          NaN   NaN   \n",
       "17990    NaN   494263.0   494263.0   494263.0     494263.0          NaN   NaN   \n",
       "17991    NaN   500781.0   500781.0   500781.0     500781.0          NaN   NaN   \n",
       "17997    NaN   127928.0   127928.0   127928.0     127928.0          NaN   NaN   \n",
       "18109    NaN    28169.0    28169.0    28169.0      28169.0          NaN   NaN   \n",
       "18122    NaN  1147366.0  1147366.0  1147366.0    1147366.0          NaN   NaN   \n",
       "18175    NaN   196481.0   196481.0   196481.0     196481.0          NaN   NaN   \n",
       "18178    NaN    57324.0    57324.0    57324.0      57324.0          NaN   NaN   \n",
       "18610    NaN    54155.0    54155.0    54155.0      54155.0          NaN   NaN   \n",
       "18800    NaN    35648.0    35648.0    35648.0      35648.0          NaN   NaN   \n",
       "18917    NaN    25781.0    25781.0    25781.0      25781.0          NaN   NaN   \n",
       "18926    NaN   322321.0   322321.0   322321.0     237321.0          NaN   NaN   \n",
       "19038    NaN    36087.0    36087.0    36087.0      36087.0          NaN   NaN   \n",
       "19135    NaN    31151.0    31151.0    31151.0      31151.0          NaN   NaN   \n",
       "19165    NaN   110518.0   110518.0   110518.0     110518.0          NaN   NaN   \n",
       "19264    NaN   267763.0   267763.0   267763.0     263655.0          NaN   NaN   \n",
       "19265    NaN   102303.0   102303.0   102303.0     102303.0          NaN   NaN   \n",
       "19268    NaN   275118.0   275118.0   275118.0     273525.0          NaN   NaN   \n",
       "19277    NaN    10269.0    10269.0    10269.0      10269.0          NaN   NaN   \n",
       "19282    NaN   206666.0   206666.0   206666.0     206666.0          NaN   NaN   \n",
       "...      ...        ...        ...        ...          ...          ...   ...   \n",
       "935687   NaN    48107.0    48107.0    48107.0      48107.0          NaN   NaN   \n",
       "937751   NaN   259209.0   259209.0   259209.0     259209.0          NaN   NaN   \n",
       "938717   NaN   294008.0   294008.0   294008.0     286399.0          NaN   NaN   \n",
       "939235   NaN   882511.0   882511.0   882511.0     882511.0          NaN   NaN   \n",
       "939411   NaN   583958.0   583958.0   583958.0     583958.0          NaN   NaN   \n",
       "942619   NaN   513584.0   513584.0   513584.0     482860.0          NaN   NaN   \n",
       "942688   NaN   375573.0   375573.0   375573.0     321403.0          NaN   NaN   \n",
       "942690   NaN   375986.0   375986.0   375986.0     321785.0          NaN   NaN   \n",
       "942691   NaN   343540.0   343540.0   343540.0     322989.0          NaN   NaN   \n",
       "943029   NaN   333067.0   333067.0   333067.0     321727.0          NaN   NaN   \n",
       "943629   NaN   517604.0   517604.0   517604.0     449428.0          NaN   NaN   \n",
       "947968   NaN   274917.0   274917.0   274917.0     274917.0          NaN   NaN   \n",
       "949120   NaN    29293.0    29293.0    29293.0      29293.0          NaN   NaN   \n",
       "949158   NaN    28673.0    28673.0    28673.0      28673.0          NaN   NaN   \n",
       "949186   NaN    29064.0    29064.0    29064.0      29064.0          NaN   NaN   \n",
       "949232   NaN    26511.0    26511.0    26511.0      26511.0          NaN   NaN   \n",
       "949263   NaN    62215.0    62215.0    62215.0      62215.0          NaN   NaN   \n",
       "949264   NaN    48666.0    48666.0    48666.0      48666.0          NaN   NaN   \n",
       "949431   NaN    20515.0    20515.0    20515.0      20515.0          NaN   NaN   \n",
       "950174   NaN    41936.0    41936.0    41936.0      41936.0          NaN   NaN   \n",
       "954205   NaN    58468.0    58468.0    58468.0      58468.0          NaN   NaN   \n",
       "954589   NaN   129430.0   129430.0   129430.0     129430.0          NaN   NaN   \n",
       "965570   NaN   103250.0   103250.0   103250.0     103250.0          NaN   NaN   \n",
       "965571   NaN     8662.0     8662.0     8662.0       8662.0          NaN   NaN   \n",
       "972177   NaN   253115.0   253115.0   253115.0     253115.0          NaN   NaN   \n",
       "978271   NaN   102242.0   102242.0   102242.0     102242.0          NaN   NaN   \n",
       "985660   NaN   576881.0   576881.0   576881.0     576881.0          NaN   NaN   \n",
       "1007924  NaN   111493.0   111493.0   111493.0      88249.0          NaN   NaN   \n",
       "1007925  NaN   113507.0   113507.0   113507.0      91541.0          NaN   NaN   \n",
       "1016385  NaN   170816.0   170816.0   170816.0     170816.0          NaN   NaN   \n",
       "\n",
       "                    borough  block  lot  \n",
       "8478     Manhattan/new york     94    1  \n",
       "8481     Manhattan/new york     95   27  \n",
       "16021    Manhattan/new york    243   56  \n",
       "16023    Manhattan/new york    244   19  \n",
       "16089    Manhattan/new york    247    1  \n",
       "16093    Manhattan/new york    248   70  \n",
       "16112    Manhattan/new york    259    1  \n",
       "16125    Manhattan/new york    267    1  \n",
       "17973    Manhattan/new york    333    1  \n",
       "17977    Manhattan/new york    336    5  \n",
       "17987    Manhattan/new york    341    1  \n",
       "17990    Manhattan/new york    341   58  \n",
       "17991    Manhattan/new york    341   70  \n",
       "17997    Manhattan/new york    343   43  \n",
       "18109    Manhattan/new york    345   13  \n",
       "18122    Manhattan/new york    345   48  \n",
       "18175    Manhattan/new york    346    1  \n",
       "18178    Manhattan/new york    346   75  \n",
       "18610    Manhattan/new york    372   26  \n",
       "18800    Manhattan/new york    376   58  \n",
       "18917    Manhattan/new york    379   53  \n",
       "18926    Manhattan/new york    382  100  \n",
       "19038    Manhattan/new york    385   53  \n",
       "19135    Manhattan/new york    389   28  \n",
       "19165    Manhattan/new york    390   11  \n",
       "19264    Manhattan/new york    392   17  \n",
       "19265    Manhattan/new york    392   22  \n",
       "19268    Manhattan/new york    392   27  \n",
       "19277    Manhattan/new york    392   40  \n",
       "19282    Manhattan/new york    392   48  \n",
       "...                     ...    ...  ...  \n",
       "935687        queens/queens  15709    6  \n",
       "937751        queens/queens  15810   30  \n",
       "938717        queens/queens  15895   50  \n",
       "939235        queens/queens  15926    1  \n",
       "939411        queens/queens  15945    1  \n",
       "942619        queens/queens  16131    1  \n",
       "942688        queens/queens  16128    1  \n",
       "942690        queens/queens  16129    1  \n",
       "942691        queens/queens  16130    1  \n",
       "943029        queens/queens  16155   21  \n",
       "943629        queens/queens  16175    1  \n",
       "947968      staten/richmond     13    8  \n",
       "949120      staten/richmond     44    1  \n",
       "949158      staten/richmond     45    1  \n",
       "949186      staten/richmond     46    1  \n",
       "949232      staten/richmond     47   62  \n",
       "949263      staten/richmond     48   29  \n",
       "949264      staten/richmond     49    1  \n",
       "949431      staten/richmond     52  133  \n",
       "950174      staten/richmond     71  117  \n",
       "954205      staten/richmond    169   35  \n",
       "954589      staten/richmond    182   62  \n",
       "965570      staten/richmond    538   12  \n",
       "965571      staten/richmond    538   35  \n",
       "972177      staten/richmond    752    1  \n",
       "978271      staten/richmond    955   25  \n",
       "985660      staten/richmond   1272   11  \n",
       "1007924     staten/richmond   2893    1  \n",
       "1007925     staten/richmond   2894    1  \n",
       "1016385     staten/richmond   3307   25  \n",
       "\n",
       "[1036 rows x 15 columns]"
      ]
     },
     "execution_count": 14,
     "metadata": {},
     "output_type": "execute_result"
    }
   ],
   "source": [
    "df[df['taxclass'].isnull() == True]"
   ]
  },
  {
   "cell_type": "code",
   "execution_count": 17,
   "metadata": {
    "collapsed": false
   },
   "outputs": [
    {
     "data": {
      "text/plain": [
       "bbl             object\n",
       "ownername       object\n",
       "address         object\n",
       "taxclass        object\n",
       "taxrate         object\n",
       "emv            float64\n",
       "tbea           float64\n",
       "bav            float64\n",
       "tba            float64\n",
       "propertytax    float64\n",
       "condonumber    float64\n",
       "condo           object\n",
       "borough         object\n",
       "block            int64\n",
       "lot              int64\n",
       "dtype: object"
      ]
     },
     "execution_count": 17,
     "metadata": {},
     "output_type": "execute_result"
    }
   ],
   "source": [
    "df.dtypes"
   ]
  },
  {
   "cell_type": "code",
   "execution_count": 19,
   "metadata": {
    "collapsed": false
   },
   "outputs": [
    {
     "data": {
      "text/plain": [
       "'4 - commercial property'"
      ]
     },
     "execution_count": 19,
     "metadata": {},
     "output_type": "execute_result"
    }
   ],
   "source": [
    "str(df['taxclass'].iloc[0])"
   ]
  },
  {
   "cell_type": "code",
   "execution_count": 20,
   "metadata": {
    "collapsed": false
   },
   "outputs": [
    {
     "data": {
      "text/plain": [
       "'4 - commercial property'"
      ]
     },
     "execution_count": 20,
     "metadata": {},
     "output_type": "execute_result"
    }
   ],
   "source": [
    "df['taxclass'].iloc[0]"
   ]
  },
  {
   "cell_type": "code",
   "execution_count": 21,
   "metadata": {
    "collapsed": false
   },
   "outputs": [
    {
     "data": {
      "text/plain": [
       "23"
      ]
     },
     "execution_count": 21,
     "metadata": {},
     "output_type": "execute_result"
    }
   ],
   "source": [
    "len(str(df['taxclass'].iloc[0]))"
   ]
  },
  {
   "cell_type": "code",
   "execution_count": 22,
   "metadata": {
    "collapsed": true
   },
   "outputs": [],
   "source": [
    "def building_type(row):\n",
    "    if (row['taxclass'] == '4 - commercial property') | (row['taxclass'] == '3 - utility property'):\n",
    "        return 'Commercial'\n",
    "    if row['taxclass'] == 'Govt Building':\n",
    "        return 'Govt Building'\n",
    "    if row['taxclass'] == 'Public Place':\n",
    "        return 'Public Place'\n",
    "    if len(str(row['taxclass'])) > 1:\n",
    "        return 'Residential'\n",
    "    return row['taxclass']\n",
    "df['type'] = df.apply(building_type, axis = 1)"
   ]
  },
  {
   "cell_type": "code",
   "execution_count": 26,
   "metadata": {
    "collapsed": false
   },
   "outputs": [
    {
     "data": {
      "text/plain": [
       "array(['Commercial', 'Govt Building', 'Residential', 'Public Place'], dtype=object)"
      ]
     },
     "execution_count": 26,
     "metadata": {},
     "output_type": "execute_result"
    }
   ],
   "source": [
    "df['type'].unique()"
   ]
  },
  {
   "cell_type": "code",
   "execution_count": 27,
   "metadata": {
    "collapsed": false
   },
   "outputs": [
    {
     "data": {
      "text/plain": [
       "8478       Residential\n",
       "8481       Residential\n",
       "16021      Residential\n",
       "16023      Residential\n",
       "16089      Residential\n",
       "16093      Residential\n",
       "16112      Residential\n",
       "16125      Residential\n",
       "17973      Residential\n",
       "17977      Residential\n",
       "17987      Residential\n",
       "17990      Residential\n",
       "17991      Residential\n",
       "17997      Residential\n",
       "18109      Residential\n",
       "18122      Residential\n",
       "18175      Residential\n",
       "18178      Residential\n",
       "18610      Residential\n",
       "18800      Residential\n",
       "18917      Residential\n",
       "18926      Residential\n",
       "19038      Residential\n",
       "19135      Residential\n",
       "19165      Residential\n",
       "19264      Residential\n",
       "19265      Residential\n",
       "19268      Residential\n",
       "19277      Residential\n",
       "19282      Residential\n",
       "              ...     \n",
       "935687     Residential\n",
       "937751     Residential\n",
       "938717     Residential\n",
       "939235     Residential\n",
       "939411     Residential\n",
       "942619     Residential\n",
       "942688     Residential\n",
       "942690     Residential\n",
       "942691     Residential\n",
       "943029     Residential\n",
       "943629     Residential\n",
       "947968     Residential\n",
       "949120     Residential\n",
       "949158     Residential\n",
       "949186     Residential\n",
       "949232     Residential\n",
       "949263     Residential\n",
       "949264     Residential\n",
       "949431     Residential\n",
       "950174     Residential\n",
       "954205     Residential\n",
       "954589     Residential\n",
       "965570     Residential\n",
       "965571     Residential\n",
       "972177     Residential\n",
       "978271     Residential\n",
       "985660     Residential\n",
       "1007924    Residential\n",
       "1007925    Residential\n",
       "1016385    Residential\n",
       "Name: type, dtype: object"
      ]
     },
     "execution_count": 27,
     "metadata": {},
     "output_type": "execute_result"
    }
   ],
   "source": [
    "df[df['taxclass'].isnull() == True]['type']"
   ]
  },
  {
   "cell_type": "code",
   "execution_count": 28,
   "metadata": {
    "collapsed": false
   },
   "outputs": [
    {
     "data": {
      "text/plain": [
       "(1036, 16)"
      ]
     },
     "execution_count": 28,
     "metadata": {},
     "output_type": "execute_result"
    }
   ],
   "source": [
    "df[df['taxclass'].isnull() == True].shape"
   ]
  },
  {
   "cell_type": "code",
   "execution_count": 30,
   "metadata": {
    "collapsed": true
   },
   "outputs": [],
   "source": [
    "df.loc[df['taxclass'].isnull() == True, 'type'] = np.NaN"
   ]
  },
  {
   "cell_type": "code",
   "execution_count": 31,
   "metadata": {
    "collapsed": false
   },
   "outputs": [
    {
     "data": {
      "text/plain": [
       "array(['Commercial', 'Govt Building', 'Residential', 'Public Place', nan], dtype=object)"
      ]
     },
     "execution_count": 31,
     "metadata": {},
     "output_type": "execute_result"
    }
   ],
   "source": [
    "df['type'].unique()"
   ]
  },
  {
   "cell_type": "code",
   "execution_count": 32,
   "metadata": {
    "collapsed": false
   },
   "outputs": [
    {
     "data": {
      "text/plain": [
       "<pandas.core.groupby.SeriesGroupBy object at 0x000000100664EC88>"
      ]
     },
     "execution_count": 32,
     "metadata": {},
     "output_type": "execute_result"
    }
   ],
   "source": [
    "df['type'].groupby(df['borough'])"
   ]
  },
  {
   "cell_type": "code",
   "execution_count": 33,
   "metadata": {
    "collapsed": false
   },
   "outputs": [
    {
     "data": {
      "text/plain": [
       "borough                   \n",
       "Brooklyn/kings      count          330396\n",
       "                    unique              4\n",
       "                    top       Residential\n",
       "                    freq           290815\n",
       "Manhattan/new york  count          151237\n",
       "                    unique              4\n",
       "                    top       Residential\n",
       "                    freq           125783\n",
       "bronx/bronx         count          102321\n",
       "                    unique              4\n",
       "                    top       Residential\n",
       "                    freq            91092\n",
       "queens/queens       count          362526\n",
       "                    unique              4\n",
       "                    top       Residential\n",
       "                    freq           331697\n",
       "staten/richmond     count          134108\n",
       "                    unique              4\n",
       "                    top       Residential\n",
       "                    freq           127359\n",
       "Name: type, dtype: object"
      ]
     },
     "execution_count": 33,
     "metadata": {},
     "output_type": "execute_result"
    }
   ],
   "source": [
    "df['type'].groupby(df['borough']).describe()"
   ]
  },
  {
   "cell_type": "code",
   "execution_count": 34,
   "metadata": {
    "collapsed": true
   },
   "outputs": [],
   "source": [
    "type_borough = df['type'].groupby(df['borough'])"
   ]
  },
  {
   "cell_type": "code",
   "execution_count": 36,
   "metadata": {
    "collapsed": false
   },
   "outputs": [
    {
     "data": {
      "text/plain": [
       "borough\n",
       "Brooklyn/kings        330396\n",
       "Manhattan/new york    151237\n",
       "bronx/bronx           102321\n",
       "queens/queens         362526\n",
       "staten/richmond       134108\n",
       "Name: type, dtype: int64"
      ]
     },
     "execution_count": 36,
     "metadata": {},
     "output_type": "execute_result"
    }
   ],
   "source": [
    "type_borough.count()"
   ]
  },
  {
   "cell_type": "code",
   "execution_count": 37,
   "metadata": {
    "collapsed": false
   },
   "outputs": [
    {
     "data": {
      "text/plain": [
       "borough                   \n",
       "Brooklyn/kings      count          330396\n",
       "                    unique              4\n",
       "                    top       Residential\n",
       "                    freq           290815\n",
       "Manhattan/new york  count          151237\n",
       "                    unique              4\n",
       "                    top       Residential\n",
       "                    freq           125783\n",
       "bronx/bronx         count          102321\n",
       "                    unique              4\n",
       "                    top       Residential\n",
       "                    freq            91092\n",
       "queens/queens       count          362526\n",
       "                    unique              4\n",
       "                    top       Residential\n",
       "                    freq           331697\n",
       "staten/richmond     count          134108\n",
       "                    unique              4\n",
       "                    top       Residential\n",
       "                    freq           127359\n",
       "Name: type, dtype: object"
      ]
     },
     "execution_count": 37,
     "metadata": {},
     "output_type": "execute_result"
    }
   ],
   "source": [
    "type_borough.describe()"
   ]
  },
  {
   "cell_type": "code",
   "execution_count": 38,
   "metadata": {
    "collapsed": false
   },
   "outputs": [
    {
     "ename": "TypeError",
     "evalue": "count() takes 1 positional argument but 2 were given",
     "output_type": "error",
     "traceback": [
      "\u001b[0;31m---------------------------------------------------------------------------\u001b[0m",
      "\u001b[0;31mTypeError\u001b[0m                                 Traceback (most recent call last)",
      "\u001b[0;32m<ipython-input-38-432025c2d776>\u001b[0m in \u001b[0;36m<module>\u001b[0;34m()\u001b[0m\n\u001b[0;32m----> 1\u001b[0;31m \u001b[0mtype_borough\u001b[0m\u001b[1;33m.\u001b[0m\u001b[0mcount\u001b[0m\u001b[1;33m(\u001b[0m\u001b[1;34m'Residential'\u001b[0m\u001b[1;33m)\u001b[0m\u001b[1;33m\u001b[0m\u001b[0m\n\u001b[0m",
      "\u001b[0;31mTypeError\u001b[0m: count() takes 1 positional argument but 2 were given"
     ]
    }
   ],
   "source": [
    "type_borough.count('Residential')"
   ]
  },
  {
   "cell_type": "code",
   "execution_count": 39,
   "metadata": {
    "collapsed": false
   },
   "outputs": [
    {
     "data": {
      "text/plain": [
       "borough                          \n",
       "Brooklyn/kings      Residential      290815\n",
       "                    Commercial        36444\n",
       "                    Govt Building      2739\n",
       "                    Public Place        398\n",
       "Manhattan/new york  Residential      125783\n",
       "                    Commercial        23004\n",
       "                    Govt Building      2254\n",
       "                    Public Place        196\n",
       "bronx/bronx         Residential       91092\n",
       "                    Commercial        10970\n",
       "                    Govt Building       144\n",
       "                    Public Place        115\n",
       "queens/queens       Residential      331697\n",
       "                    Commercial        29678\n",
       "                    Govt Building       907\n",
       "                    Public Place        244\n",
       "staten/richmond     Residential      127359\n",
       "                    Commercial         6631\n",
       "                    Govt Building        78\n",
       "                    Public Place         40\n",
       "Name: type, dtype: int64"
      ]
     },
     "execution_count": 39,
     "metadata": {},
     "output_type": "execute_result"
    }
   ],
   "source": [
    "type_borough.apply(pd.value_counts)"
   ]
  },
  {
   "cell_type": "code",
   "execution_count": 40,
   "metadata": {
    "collapsed": true
   },
   "outputs": [],
   "source": [
    "type_borough = type_borough.apply(pd.value_counts)"
   ]
  },
  {
   "cell_type": "code",
   "execution_count": 41,
   "metadata": {
    "collapsed": false
   },
   "outputs": [
    {
     "data": {
      "text/plain": [
       "borough                          \n",
       "Brooklyn/kings      Residential      290815\n",
       "                    Commercial        36444\n",
       "                    Govt Building      2739\n",
       "                    Public Place        398\n",
       "Manhattan/new york  Residential      125783\n",
       "                    Commercial        23004\n",
       "                    Govt Building      2254\n",
       "                    Public Place        196\n",
       "bronx/bronx         Residential       91092\n",
       "                    Commercial        10970\n",
       "                    Govt Building       144\n",
       "                    Public Place        115\n",
       "queens/queens       Residential      331697\n",
       "                    Commercial        29678\n",
       "                    Govt Building       907\n",
       "                    Public Place        244\n",
       "staten/richmond     Residential      127359\n",
       "                    Commercial         6631\n",
       "                    Govt Building        78\n",
       "                    Public Place         40\n",
       "Name: type, dtype: int64"
      ]
     },
     "execution_count": 41,
     "metadata": {},
     "output_type": "execute_result"
    }
   ],
   "source": [
    "type_borough"
   ]
  },
  {
   "cell_type": "code",
   "execution_count": 42,
   "metadata": {
    "collapsed": false
   },
   "outputs": [
    {
     "data": {
      "text/plain": [
       "dtype('int64')"
      ]
     },
     "execution_count": 42,
     "metadata": {},
     "output_type": "execute_result"
    }
   ],
   "source": [
    "type_borough.dtypes"
   ]
  },
  {
   "cell_type": "code",
   "execution_count": 43,
   "metadata": {
    "collapsed": false
   },
   "outputs": [
    {
     "data": {
      "text/plain": [
       "count        20.00000\n",
       "mean      54029.40000\n",
       "std       97188.99666\n",
       "min          40.00000\n",
       "25%         232.00000\n",
       "50%        4685.00000\n",
       "75%       50106.00000\n",
       "max      331697.00000\n",
       "Name: type, dtype: float64"
      ]
     },
     "execution_count": 43,
     "metadata": {},
     "output_type": "execute_result"
    }
   ],
   "source": [
    "type_borough.describe()"
   ]
  },
  {
   "cell_type": "code",
   "execution_count": 44,
   "metadata": {
    "collapsed": false
   },
   "outputs": [
    {
     "data": {
      "text/plain": [
       "pandas.core.series.Series"
      ]
     },
     "execution_count": 44,
     "metadata": {},
     "output_type": "execute_result"
    }
   ],
   "source": [
    "type(type_borough)"
   ]
  },
  {
   "cell_type": "code",
   "execution_count": 51,
   "metadata": {
    "collapsed": false
   },
   "outputs": [
    {
     "data": {
      "text/plain": [
       "290815"
      ]
     },
     "execution_count": 51,
     "metadata": {},
     "output_type": "execute_result"
    }
   ],
   "source": [
    "type_borough.iloc[0]"
   ]
  },
  {
   "cell_type": "code",
   "execution_count": 52,
   "metadata": {
    "collapsed": false
   },
   "outputs": [
    {
     "data": {
      "text/plain": [
       "(20,)"
      ]
     },
     "execution_count": 52,
     "metadata": {},
     "output_type": "execute_result"
    }
   ],
   "source": [
    "type_borough.shape"
   ]
  },
  {
   "cell_type": "code",
   "execution_count": 55,
   "metadata": {
    "collapsed": false
   },
   "outputs": [
    {
     "data": {
      "text/plain": [
       "Residential      125783\n",
       "Commercial        23004\n",
       "Govt Building      2254\n",
       "Public Place        196\n",
       "Name: type, dtype: int64"
      ]
     },
     "execution_count": 55,
     "metadata": {},
     "output_type": "execute_result"
    }
   ],
   "source": [
    "type_borough.loc['Manhattan/new york']"
   ]
  },
  {
   "cell_type": "code",
   "execution_count": 56,
   "metadata": {
    "collapsed": false
   },
   "outputs": [
    {
     "data": {
      "text/plain": [
       "125783"
      ]
     },
     "execution_count": 56,
     "metadata": {},
     "output_type": "execute_result"
    }
   ],
   "source": [
    "type_borough.loc['Manhattan/new york']['Residential']"
   ]
  },
  {
   "cell_type": "code",
   "execution_count": 57,
   "metadata": {
    "collapsed": false
   },
   "outputs": [
    {
     "data": {
      "text/plain": [
       "20"
      ]
     },
     "execution_count": 57,
     "metadata": {},
     "output_type": "execute_result"
    }
   ],
   "source": [
    "len(type_borough)"
   ]
  },
  {
   "cell_type": "code",
   "execution_count": 58,
   "metadata": {
    "collapsed": false
   },
   "outputs": [
    {
     "data": {
      "text/plain": [
       "pandas.core.series.Series"
      ]
     },
     "execution_count": 58,
     "metadata": {},
     "output_type": "execute_result"
    }
   ],
   "source": [
    "type(type_borough.loc['Manhattan/new york'])"
   ]
  },
  {
   "cell_type": "code",
   "execution_count": 63,
   "metadata": {
    "collapsed": false
   },
   "outputs": [
    {
     "data": {
      "text/plain": [
       "borough\n",
       "Brooklyn/kings        290815\n",
       "Manhattan/new york    125783\n",
       "bronx/bronx            91092\n",
       "queens/queens         331697\n",
       "staten/richmond       127359\n",
       "Name: type, dtype: int64"
      ]
     },
     "execution_count": 63,
     "metadata": {},
     "output_type": "execute_result"
    }
   ],
   "source": [
    "type_borough.xs('Residential', level = 1, axis = 0)"
   ]
  },
  {
   "cell_type": "code",
   "execution_count": 64,
   "metadata": {
    "collapsed": true
   },
   "outputs": [],
   "source": [
    "resd = type_borough.xs('Residential', level = 1, axis = 0)"
   ]
  },
  {
   "cell_type": "code",
   "execution_count": 66,
   "metadata": {
    "collapsed": true
   },
   "outputs": [],
   "source": [
    "comm = type_borough.xs('Commercial', level = 1, axis = 0)"
   ]
  },
  {
   "cell_type": "code",
   "execution_count": 67,
   "metadata": {
    "collapsed": true
   },
   "outputs": [],
   "source": [
    "govt = type_borough.xs('Govt Building', level = 1, axis = 0)"
   ]
  },
  {
   "cell_type": "code",
   "execution_count": 68,
   "metadata": {
    "collapsed": true
   },
   "outputs": [],
   "source": [
    "public = type_borough.xs('Public Place', level = 1, axis = 0)"
   ]
  },
  {
   "cell_type": "code",
   "execution_count": 69,
   "metadata": {
    "collapsed": false
   },
   "outputs": [
    {
     "data": {
      "image/png": "[encoded data removed]",
      "text/plain": [
       "<matplotlib.figure.Figure at 0x10068e47f0>"
      ]
     },
     "metadata": {},
     "output_type": "display_data"
    }
   ],
   "source": [
    "plt.figure(1)\n",
    "plt.subplot(411)\n",
    "resd.plot(title = 'Residential')\n",
    "\n",
    "plt.subplot(412)\n",
    "comm.plot(title = 'Commercial')\n",
    "\n",
    "plt.subplot(413)\n",
    "govt.plot(title = 'Government')\n",
    "\n",
    "plt.subplot(414)\n",
    "public.plot(title = 'Public Places')\n",
    "\n",
    "plt.tight_layout()\n",
    "plt.show()"
   ]
  },
  {
   "cell_type": "code",
   "execution_count": 70,
   "metadata": {
    "collapsed": false
   },
   "outputs": [
    {
     "data": {
      "image/png": "[encoded data removed]",
      "text/plain": [
       "<matplotlib.figure.Figure at 0x100706b1d0>"
      ]
     },
     "metadata": {},
     "output_type": "display_data"
    }
   ],
   "source": [
    "plt.figure(figsize = (7, 10))\n",
    "plt.subplot(411)\n",
    "resd.plot(title = 'Residential')\n",
    "\n",
    "plt.subplot(412)\n",
    "comm.plot(title = 'Commercial')\n",
    "\n",
    "plt.subplot(413)\n",
    "govt.plot(title = 'Government')\n",
    "\n",
    "plt.subplot(414)\n",
    "public.plot(title = 'Public Places')\n",
    "\n",
    "plt.tight_layout()\n",
    "plt.show()"
   ]
  },
  {
   "cell_type": "code",
   "execution_count": 71,
   "metadata": {
    "collapsed": false
   },
   "outputs": [
    {
     "data": {
      "image/png": "[encoded data removed]",
      "text/plain": [
       "<matplotlib.figure.Figure at 0x10071f2a90>"
      ]
     },
     "metadata": {},
     "output_type": "display_data"
    }
   ],
   "source": [
    "plt.figure(figsize = (7, 10))\n",
    "plt.subplot(411)\n",
    "resd.plot(title = 'Residential')\n",
    "plt.axhline(y = resd.mean(), color = 'r')\n",
    "\n",
    "plt.subplot(412)\n",
    "comm.plot(title = 'Commercial')\n",
    "plt.axhline(y = comm.mean(), color = 'r')\n",
    "\n",
    "plt.subplot(413)\n",
    "govt.plot(title = 'Government')\n",
    "plt.axhline(y = govt.mean(), color = 'r')\n",
    "\n",
    "plt.subplot(414)\n",
    "public.plot(title = 'Public Places')\n",
    "plt.axhline(y = public.mean(), color = 'r')\n",
    "\n",
    "plt.tight_layout()\n",
    "plt.show()"
   ]
  },
  {
   "cell_type": "code",
   "execution_count": null,
   "metadata": {
    "collapsed": true
   },
   "outputs": [],
   "source": [
    "#from the above data we can infer that the number of commercial\n",
    "#spaces in an area is in accordance with residential spaces \n",
    "#in comparison with other areas"
   ]
  }
 ],
 "metadata": {
  "anaconda-cloud": {},
  "kernelspec": {
   "display_name": "Python [default]",
   "language": "python",
   "name": "python3"
  },
  "language_info": {
   "codemirror_mode": {
    "name": "ipython",
    "version": 3
   },
   "file_extension": ".py",
   "mimetype": "text/x-python",
   "name": "python",
   "nbconvert_exporter": "python",
   "pygments_lexer": "ipython3",
   "version": "3.5.2"
  }
 },
 "nbformat": 4,
 "nbformat_minor": 1
}
